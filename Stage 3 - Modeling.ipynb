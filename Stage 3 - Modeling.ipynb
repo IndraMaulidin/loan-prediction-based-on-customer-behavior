{
 "cells": [
  {
   "cell_type": "markdown",
   "id": "474a8ba0-9023-49f1-b10a-2ce9c88fd193",
   "metadata": {},
   "source": [
    "# Career Shifterz\n",
    "Nama :\n",
    "- Auviera Pascafiwi\n",
    "- Fahmy Rafian S\n",
    "- Fu’ad Saifuddin\n",
    "- Indra Maulidin\n",
    "- Luthfan Zulfahmi\n",
    "- Wenvint"
   ]
  },
  {
   "cell_type": "markdown",
   "id": "c18fda21-cb38-4943-a1ce-75ec92a1be68",
   "metadata": {},
   "source": [
    "## Import Library"
   ]
  },
  {
   "cell_type": "code",
   "execution_count": 1,
   "id": "789d2549-5a98-41f3-ba69-8bca6aa6d20d",
   "metadata": {},
   "outputs": [],
   "source": [
    "import numpy as np\n",
    "import pandas as pd\n",
    "import matplotlib.pyplot as plt\n",
    "import seaborn as sns\n",
    "from sklearn.preprocessing import MinMaxScaler, StandardScaler\n",
    "from imblearn import under_sampling, over_sampling"
   ]
  },
  {
   "cell_type": "markdown",
   "id": "d0d3adc7-01ac-4469-9d63-c3219e33d0fd",
   "metadata": {},
   "source": [
    "## Read Data"
   ]
  },
  {
   "cell_type": "code",
   "execution_count": 2,
   "id": "923ab42c-0805-4b04-968f-8879c657140c",
   "metadata": {},
   "outputs": [
    {
     "data": {
      "text/html": [
       "<div>\n",
       "<style scoped>\n",
       "    .dataframe tbody tr th:only-of-type {\n",
       "        vertical-align: middle;\n",
       "    }\n",
       "\n",
       "    .dataframe tbody tr th {\n",
       "        vertical-align: top;\n",
       "    }\n",
       "\n",
       "    .dataframe thead th {\n",
       "        text-align: right;\n",
       "    }\n",
       "</style>\n",
       "<table border=\"1\" class=\"dataframe\">\n",
       "  <thead>\n",
       "    <tr style=\"text-align: right;\">\n",
       "      <th></th>\n",
       "      <th>Id</th>\n",
       "      <th>Income</th>\n",
       "      <th>Age</th>\n",
       "      <th>Experience</th>\n",
       "      <th>Married/Single</th>\n",
       "      <th>House_Ownership</th>\n",
       "      <th>Car_Ownership</th>\n",
       "      <th>Profession</th>\n",
       "      <th>CITY</th>\n",
       "      <th>STATE</th>\n",
       "      <th>CURRENT_JOB_YRS</th>\n",
       "      <th>CURRENT_HOUSE_YRS</th>\n",
       "      <th>Risk_Flag</th>\n",
       "    </tr>\n",
       "  </thead>\n",
       "  <tbody>\n",
       "    <tr>\n",
       "      <th>188531</th>\n",
       "      <td>188532</td>\n",
       "      <td>6410529</td>\n",
       "      <td>45</td>\n",
       "      <td>4</td>\n",
       "      <td>single</td>\n",
       "      <td>rented</td>\n",
       "      <td>no</td>\n",
       "      <td>Financial_Analyst</td>\n",
       "      <td>Morbi</td>\n",
       "      <td>Gujarat</td>\n",
       "      <td>4</td>\n",
       "      <td>14</td>\n",
       "      <td>0</td>\n",
       "    </tr>\n",
       "    <tr>\n",
       "      <th>94986</th>\n",
       "      <td>94987</td>\n",
       "      <td>2135764</td>\n",
       "      <td>35</td>\n",
       "      <td>19</td>\n",
       "      <td>single</td>\n",
       "      <td>rented</td>\n",
       "      <td>no</td>\n",
       "      <td>Flight_attendant</td>\n",
       "      <td>Gopalpur</td>\n",
       "      <td>West_Bengal</td>\n",
       "      <td>5</td>\n",
       "      <td>14</td>\n",
       "      <td>0</td>\n",
       "    </tr>\n",
       "    <tr>\n",
       "      <th>193055</th>\n",
       "      <td>193056</td>\n",
       "      <td>97034</td>\n",
       "      <td>34</td>\n",
       "      <td>4</td>\n",
       "      <td>single</td>\n",
       "      <td>rented</td>\n",
       "      <td>yes</td>\n",
       "      <td>Mechanical_engineer</td>\n",
       "      <td>Vijayanagaram</td>\n",
       "      <td>Andhra_Pradesh</td>\n",
       "      <td>4</td>\n",
       "      <td>11</td>\n",
       "      <td>0</td>\n",
       "    </tr>\n",
       "    <tr>\n",
       "      <th>4510</th>\n",
       "      <td>4511</td>\n",
       "      <td>7220808</td>\n",
       "      <td>71</td>\n",
       "      <td>1</td>\n",
       "      <td>single</td>\n",
       "      <td>rented</td>\n",
       "      <td>no</td>\n",
       "      <td>Financial_Analyst</td>\n",
       "      <td>Belgaum</td>\n",
       "      <td>Karnataka</td>\n",
       "      <td>1</td>\n",
       "      <td>10</td>\n",
       "      <td>0</td>\n",
       "    </tr>\n",
       "    <tr>\n",
       "      <th>90036</th>\n",
       "      <td>90037</td>\n",
       "      <td>5546336</td>\n",
       "      <td>35</td>\n",
       "      <td>11</td>\n",
       "      <td>single</td>\n",
       "      <td>rented</td>\n",
       "      <td>no</td>\n",
       "      <td>Architect</td>\n",
       "      <td>Ramagundam[27]</td>\n",
       "      <td>Telangana</td>\n",
       "      <td>11</td>\n",
       "      <td>13</td>\n",
       "      <td>0</td>\n",
       "    </tr>\n",
       "  </tbody>\n",
       "</table>\n",
       "</div>"
      ],
      "text/plain": [
       "            Id   Income  Age  Experience Married/Single House_Ownership  \\\n",
       "188531  188532  6410529   45           4         single          rented   \n",
       "94986    94987  2135764   35          19         single          rented   \n",
       "193055  193056    97034   34           4         single          rented   \n",
       "4510      4511  7220808   71           1         single          rented   \n",
       "90036    90037  5546336   35          11         single          rented   \n",
       "\n",
       "       Car_Ownership           Profession            CITY           STATE  \\\n",
       "188531            no    Financial_Analyst           Morbi         Gujarat   \n",
       "94986             no     Flight_attendant        Gopalpur     West_Bengal   \n",
       "193055           yes  Mechanical_engineer   Vijayanagaram  Andhra_Pradesh   \n",
       "4510              no    Financial_Analyst         Belgaum       Karnataka   \n",
       "90036             no            Architect  Ramagundam[27]       Telangana   \n",
       "\n",
       "        CURRENT_JOB_YRS  CURRENT_HOUSE_YRS  Risk_Flag  \n",
       "188531                4                 14          0  \n",
       "94986                 5                 14          0  \n",
       "193055                4                 11          0  \n",
       "4510                  1                 10          0  \n",
       "90036                11                 13          0  "
      ]
     },
     "execution_count": 2,
     "metadata": {},
     "output_type": "execute_result"
    }
   ],
   "source": [
    "df = pd.read_csv('D:\\Rakamyn DS Batch 23\\Final Project\\Loan Prediction\\Training Data.csv')\n",
    "df.sample(5)"
   ]
  },
  {
   "cell_type": "markdown",
   "id": "78bf07c2-04c6-4b49-ba4a-64633f0bf671",
   "metadata": {},
   "source": [
    "## Label Encoding"
   ]
  },
  {
   "cell_type": "code",
   "execution_count": 3,
   "id": "1aa63780-8d3b-4be3-a631-3f49304bb4ef",
   "metadata": {},
   "outputs": [],
   "source": [
    "mapping_m_s = {\n",
    "    'single' : 0,\n",
    "    'married' : 1\n",
    "}\n",
    "\n",
    "mapping_car = {\n",
    "    'no' : 0,\n",
    "    'yes' :1\n",
    "}\n",
    "\n",
    "df['Married/Single'] = df['Married/Single'].map(mapping_m_s)\n",
    "df['Car_Ownership'] = df['Car_Ownership'].map(mapping_car)"
   ]
  },
  {
   "cell_type": "code",
   "execution_count": 4,
   "id": "99962c15-7c53-43c2-8b4c-7567c85fff25",
   "metadata": {},
   "outputs": [],
   "source": [
    "house_category = pd.get_dummies(df['House_Ownership'], prefix='house')\n",
    "\n",
    "df = df.join(house_category)"
   ]
  },
  {
   "cell_type": "code",
   "execution_count": 5,
   "id": "19769a9e-704c-414f-ad2b-0f5704bd4613",
   "metadata": {},
   "outputs": [
    {
     "data": {
      "text/html": [
       "<div>\n",
       "<style scoped>\n",
       "    .dataframe tbody tr th:only-of-type {\n",
       "        vertical-align: middle;\n",
       "    }\n",
       "\n",
       "    .dataframe tbody tr th {\n",
       "        vertical-align: top;\n",
       "    }\n",
       "\n",
       "    .dataframe thead th {\n",
       "        text-align: right;\n",
       "    }\n",
       "</style>\n",
       "<table border=\"1\" class=\"dataframe\">\n",
       "  <thead>\n",
       "    <tr style=\"text-align: right;\">\n",
       "      <th></th>\n",
       "      <th>Id</th>\n",
       "      <th>Income</th>\n",
       "      <th>Age</th>\n",
       "      <th>Experience</th>\n",
       "      <th>Married/Single</th>\n",
       "      <th>House_Ownership</th>\n",
       "      <th>Car_Ownership</th>\n",
       "      <th>Profession</th>\n",
       "      <th>CITY</th>\n",
       "      <th>STATE</th>\n",
       "      <th>CURRENT_JOB_YRS</th>\n",
       "      <th>CURRENT_HOUSE_YRS</th>\n",
       "      <th>Risk_Flag</th>\n",
       "      <th>house_norent_noown</th>\n",
       "      <th>house_owned</th>\n",
       "      <th>house_rented</th>\n",
       "    </tr>\n",
       "  </thead>\n",
       "  <tbody>\n",
       "    <tr>\n",
       "      <th>1196</th>\n",
       "      <td>1197</td>\n",
       "      <td>8001918</td>\n",
       "      <td>41</td>\n",
       "      <td>5</td>\n",
       "      <td>0</td>\n",
       "      <td>rented</td>\n",
       "      <td>0</td>\n",
       "      <td>Economist</td>\n",
       "      <td>Bulandshahr</td>\n",
       "      <td>Uttar_Pradesh</td>\n",
       "      <td>5</td>\n",
       "      <td>14</td>\n",
       "      <td>0</td>\n",
       "      <td>0</td>\n",
       "      <td>0</td>\n",
       "      <td>1</td>\n",
       "    </tr>\n",
       "    <tr>\n",
       "      <th>120469</th>\n",
       "      <td>120470</td>\n",
       "      <td>7532651</td>\n",
       "      <td>49</td>\n",
       "      <td>15</td>\n",
       "      <td>1</td>\n",
       "      <td>rented</td>\n",
       "      <td>0</td>\n",
       "      <td>Comedian</td>\n",
       "      <td>Kalyan-Dombivli</td>\n",
       "      <td>Maharashtra</td>\n",
       "      <td>9</td>\n",
       "      <td>12</td>\n",
       "      <td>0</td>\n",
       "      <td>0</td>\n",
       "      <td>0</td>\n",
       "      <td>1</td>\n",
       "    </tr>\n",
       "    <tr>\n",
       "      <th>64417</th>\n",
       "      <td>64418</td>\n",
       "      <td>6620363</td>\n",
       "      <td>45</td>\n",
       "      <td>10</td>\n",
       "      <td>0</td>\n",
       "      <td>rented</td>\n",
       "      <td>0</td>\n",
       "      <td>Scientist</td>\n",
       "      <td>Pudukkottai</td>\n",
       "      <td>Tamil_Nadu</td>\n",
       "      <td>10</td>\n",
       "      <td>12</td>\n",
       "      <td>0</td>\n",
       "      <td>0</td>\n",
       "      <td>0</td>\n",
       "      <td>1</td>\n",
       "    </tr>\n",
       "    <tr>\n",
       "      <th>31643</th>\n",
       "      <td>31644</td>\n",
       "      <td>5739138</td>\n",
       "      <td>62</td>\n",
       "      <td>3</td>\n",
       "      <td>0</td>\n",
       "      <td>rented</td>\n",
       "      <td>0</td>\n",
       "      <td>Computer_hardware_engineer</td>\n",
       "      <td>Bhatpara</td>\n",
       "      <td>West_Bengal</td>\n",
       "      <td>3</td>\n",
       "      <td>12</td>\n",
       "      <td>0</td>\n",
       "      <td>0</td>\n",
       "      <td>0</td>\n",
       "      <td>1</td>\n",
       "    </tr>\n",
       "    <tr>\n",
       "      <th>7723</th>\n",
       "      <td>7724</td>\n",
       "      <td>8982743</td>\n",
       "      <td>34</td>\n",
       "      <td>15</td>\n",
       "      <td>1</td>\n",
       "      <td>owned</td>\n",
       "      <td>1</td>\n",
       "      <td>Lawyer</td>\n",
       "      <td>Thrissur</td>\n",
       "      <td>Kerala</td>\n",
       "      <td>8</td>\n",
       "      <td>11</td>\n",
       "      <td>0</td>\n",
       "      <td>0</td>\n",
       "      <td>1</td>\n",
       "      <td>0</td>\n",
       "    </tr>\n",
       "  </tbody>\n",
       "</table>\n",
       "</div>"
      ],
      "text/plain": [
       "            Id   Income  Age  Experience  Married/Single House_Ownership  \\\n",
       "1196      1197  8001918   41           5               0          rented   \n",
       "120469  120470  7532651   49          15               1          rented   \n",
       "64417    64418  6620363   45          10               0          rented   \n",
       "31643    31644  5739138   62           3               0          rented   \n",
       "7723      7724  8982743   34          15               1           owned   \n",
       "\n",
       "        Car_Ownership                  Profession             CITY  \\\n",
       "1196                0                   Economist      Bulandshahr   \n",
       "120469              0                    Comedian  Kalyan-Dombivli   \n",
       "64417               0                   Scientist      Pudukkottai   \n",
       "31643               0  Computer_hardware_engineer         Bhatpara   \n",
       "7723                1                      Lawyer         Thrissur   \n",
       "\n",
       "                STATE  CURRENT_JOB_YRS  CURRENT_HOUSE_YRS  Risk_Flag  \\\n",
       "1196    Uttar_Pradesh                5                 14          0   \n",
       "120469    Maharashtra                9                 12          0   \n",
       "64417      Tamil_Nadu               10                 12          0   \n",
       "31643     West_Bengal                3                 12          0   \n",
       "7723           Kerala                8                 11          0   \n",
       "\n",
       "        house_norent_noown  house_owned  house_rented  \n",
       "1196                     0            0             1  \n",
       "120469                   0            0             1  \n",
       "64417                    0            0             1  \n",
       "31643                    0            0             1  \n",
       "7723                     0            1             0  "
      ]
     },
     "execution_count": 5,
     "metadata": {},
     "output_type": "execute_result"
    }
   ],
   "source": [
    "df.sample(5)"
   ]
  },
  {
   "cell_type": "markdown",
   "id": "63bd9d3e-ab59-4976-9c55-506701079894",
   "metadata": {},
   "source": [
    "## Split Data Train dan Test"
   ]
  },
  {
   "cell_type": "code",
   "execution_count": 6,
   "id": "3b8ccbd8-e18b-4cdc-a10d-452abf3d959f",
   "metadata": {},
   "outputs": [
    {
     "data": {
      "text/plain": [
       "Index(['Id', 'Income', 'Age', 'Experience', 'Married/Single',\n",
       "       'House_Ownership', 'Car_Ownership', 'Profession', 'CITY', 'STATE',\n",
       "       'CURRENT_JOB_YRS', 'CURRENT_HOUSE_YRS', 'Risk_Flag',\n",
       "       'house_norent_noown', 'house_owned', 'house_rented'],\n",
       "      dtype='object')"
      ]
     },
     "execution_count": 6,
     "metadata": {},
     "output_type": "execute_result"
    }
   ],
   "source": [
    "df.columns"
   ]
  },
  {
   "cell_type": "code",
   "execution_count": 7,
   "id": "5f379dfa-a35a-4217-a340-fc547cdb19c5",
   "metadata": {},
   "outputs": [],
   "source": [
    "X = df.drop(columns = ['Id','House_Ownership','CURRENT_JOB_YRS','Profession','CITY','STATE','Risk_Flag'])\n",
    "y = df['Risk_Flag']"
   ]
  },
  {
   "cell_type": "code",
   "execution_count": 8,
   "id": "6a0ff77f-b1d2-42cd-9e33-4f7277153809",
   "metadata": {},
   "outputs": [],
   "source": [
    "from sklearn.model_selection import train_test_split"
   ]
  },
  {
   "cell_type": "code",
   "execution_count": 9,
   "id": "68485cbf-91b2-4960-b460-3432df4aaf61",
   "metadata": {},
   "outputs": [],
   "source": [
    "X_train, X_test, y_train, y_test = train_test_split(X,y, test_size=0.3, random_state=42)"
   ]
  },
  {
   "cell_type": "markdown",
   "id": "a13d4936-bd88-4b32-8046-9a442955dc58",
   "metadata": {},
   "source": [
    "### Oversampling SMOTE"
   ]
  },
  {
   "cell_type": "code",
   "execution_count": 10,
   "id": "3bd40294-d14f-49a2-890c-c1c9f81f758d",
   "metadata": {},
   "outputs": [],
   "source": [
    "X_train_SMOTE, y_train_SMOTE = over_sampling.SMOTE().fit_resample(X_train,y_train)"
   ]
  },
  {
   "cell_type": "markdown",
   "id": "e8c332c5-d0e4-43c8-8106-4319c1320bc1",
   "metadata": {},
   "source": [
    "## Modeling"
   ]
  },
  {
   "cell_type": "code",
   "execution_count": 11,
   "id": "36117982-3230-4dd4-bb08-b5c9c02197fd",
   "metadata": {},
   "outputs": [],
   "source": [
    "from sklearn.ensemble import RandomForestClassifier\n",
    "from sklearn.neighbors import KNeighborsClassifier\n",
    "from xgboost import XGBClassifier"
   ]
  },
  {
   "cell_type": "code",
   "execution_count": 12,
   "id": "a6552bf3-6ef4-4b14-a7a4-1e36b5eca2b4",
   "metadata": {},
   "outputs": [],
   "source": [
    "from sklearn import metrics"
   ]
  },
  {
   "cell_type": "code",
   "execution_count": 13,
   "id": "e203793d-650e-42bf-ab5a-d7c30b5a20d2",
   "metadata": {},
   "outputs": [
    {
     "name": "stdout",
     "output_type": "stream",
     "text": [
      "Evaluate model: RandomForest\n",
      "Accuracy Test :86.33%\n",
      "Precission Test :46.86%\n",
      "Recall Test :85.37%\n",
      "F1 Test :60.51%\n",
      "AUC Test : 93.46%\n",
      "\n",
      "\n",
      "Evaluate model: KNeighbors\n",
      "Accuracy Test :85.89%\n",
      "Precission Test :44.28%\n",
      "Recall Test :58.22%\n",
      "F1 Test :50.31%\n",
      "AUC Test : 87.21%\n",
      "\n",
      "\n",
      "Evaluate model: XGB\n",
      "Accuracy Test :80.55%\n",
      "Precission Test :36.47%\n",
      "Recall Test :79.01%\n",
      "F1 Test :49.9%\n",
      "AUC Test : 85.19%\n",
      "\n",
      "\n"
     ]
    }
   ],
   "source": [
    "models = {\n",
    "    \"RandomForest\" : RandomForestClassifier(random_state=42),\n",
    "    \"KNeighbors\" : KNeighborsClassifier(),\n",
    "    \"XGB\" : XGBClassifier()\n",
    "}\n",
    "\n",
    "for model_name, clf in models.items() :\n",
    "    clf.fit(X_train_SMOTE,y_train_SMOTE)\n",
    "    y_pred = clf.predict(X_test)\n",
    "    y_pred_proba = clf.predict_proba(X_test)[:,1]\n",
    "    \n",
    "    print(\"Evaluate model: {}\".format(model_name))\n",
    "    \n",
    "    accuracy_test = metrics.accuracy_score(y_test,y_pred)\n",
    "    print(\"Accuracy Test :\" + str(round(accuracy_test*100,2)) + '%')\n",
    "    precission_test = metrics.precision_score(y_test,y_pred,pos_label=1)\n",
    "    print(\"Precission Test :\" + str(round(precission_test*100,2)) + '%')\n",
    "    recall_test = metrics.recall_score(y_test,y_pred,pos_label=1)\n",
    "    print(\"Recall Test :\" + str(round(recall_test*100,2)) + '%')\n",
    "    f1_test = metrics.f1_score(y_test,y_pred,pos_label=1)\n",
    "    print(\"F1 Test :\" + str(round(f1_test*100,2)) + '%')\n",
    "    fpr_test, tpr_test, thresholds_test = metrics.roc_curve(y_test, y_pred_proba, pos_label=1)\n",
    "    auc_test = metrics.auc(fpr_test, tpr_test)\n",
    "    print(\"AUC Test : \"+str(round(auc_test*100,2))+'%')\n",
    "    print(\"\\n\")"
   ]
  },
  {
   "cell_type": "markdown",
   "id": "95b864c2-2ac4-4df3-845a-2090649c85a1",
   "metadata": {},
   "source": [
    "__Kesimpulan__ :\n",
    "- Berdasarkan Beberapa Model Algoritma yang telah diuji, Algoritma __Random Forest Classifier__ memiliki Score Performance cukup baik untuk setiap Metricsnya dibandingkan dengan Algoritma yang lain.\n",
    "- Maka berdasarkan hasil uji coba tersebut, untuk proses selanjutnya akan digunakan Model Algoritma __Random Forest Classifier__."
   ]
  },
  {
   "cell_type": "code",
   "execution_count": 14,
   "id": "9c17521c-66fa-45de-b632-d34e10c9451e",
   "metadata": {},
   "outputs": [
    {
     "data": {
      "text/html": [
       "<style>#sk-container-id-1 {color: black;background-color: white;}#sk-container-id-1 pre{padding: 0;}#sk-container-id-1 div.sk-toggleable {background-color: white;}#sk-container-id-1 label.sk-toggleable__label {cursor: pointer;display: block;width: 100%;margin-bottom: 0;padding: 0.3em;box-sizing: border-box;text-align: center;}#sk-container-id-1 label.sk-toggleable__label-arrow:before {content: \"▸\";float: left;margin-right: 0.25em;color: #696969;}#sk-container-id-1 label.sk-toggleable__label-arrow:hover:before {color: black;}#sk-container-id-1 div.sk-estimator:hover label.sk-toggleable__label-arrow:before {color: black;}#sk-container-id-1 div.sk-toggleable__content {max-height: 0;max-width: 0;overflow: hidden;text-align: left;background-color: #f0f8ff;}#sk-container-id-1 div.sk-toggleable__content pre {margin: 0.2em;color: black;border-radius: 0.25em;background-color: #f0f8ff;}#sk-container-id-1 input.sk-toggleable__control:checked~div.sk-toggleable__content {max-height: 200px;max-width: 100%;overflow: auto;}#sk-container-id-1 input.sk-toggleable__control:checked~label.sk-toggleable__label-arrow:before {content: \"▾\";}#sk-container-id-1 div.sk-estimator input.sk-toggleable__control:checked~label.sk-toggleable__label {background-color: #d4ebff;}#sk-container-id-1 div.sk-label input.sk-toggleable__control:checked~label.sk-toggleable__label {background-color: #d4ebff;}#sk-container-id-1 input.sk-hidden--visually {border: 0;clip: rect(1px 1px 1px 1px);clip: rect(1px, 1px, 1px, 1px);height: 1px;margin: -1px;overflow: hidden;padding: 0;position: absolute;width: 1px;}#sk-container-id-1 div.sk-estimator {font-family: monospace;background-color: #f0f8ff;border: 1px dotted black;border-radius: 0.25em;box-sizing: border-box;margin-bottom: 0.5em;}#sk-container-id-1 div.sk-estimator:hover {background-color: #d4ebff;}#sk-container-id-1 div.sk-parallel-item::after {content: \"\";width: 100%;border-bottom: 1px solid gray;flex-grow: 1;}#sk-container-id-1 div.sk-label:hover label.sk-toggleable__label {background-color: #d4ebff;}#sk-container-id-1 div.sk-serial::before {content: \"\";position: absolute;border-left: 1px solid gray;box-sizing: border-box;top: 0;bottom: 0;left: 50%;z-index: 0;}#sk-container-id-1 div.sk-serial {display: flex;flex-direction: column;align-items: center;background-color: white;padding-right: 0.2em;padding-left: 0.2em;position: relative;}#sk-container-id-1 div.sk-item {position: relative;z-index: 1;}#sk-container-id-1 div.sk-parallel {display: flex;align-items: stretch;justify-content: center;background-color: white;position: relative;}#sk-container-id-1 div.sk-item::before, #sk-container-id-1 div.sk-parallel-item::before {content: \"\";position: absolute;border-left: 1px solid gray;box-sizing: border-box;top: 0;bottom: 0;left: 50%;z-index: -1;}#sk-container-id-1 div.sk-parallel-item {display: flex;flex-direction: column;z-index: 1;position: relative;background-color: white;}#sk-container-id-1 div.sk-parallel-item:first-child::after {align-self: flex-end;width: 50%;}#sk-container-id-1 div.sk-parallel-item:last-child::after {align-self: flex-start;width: 50%;}#sk-container-id-1 div.sk-parallel-item:only-child::after {width: 0;}#sk-container-id-1 div.sk-dashed-wrapped {border: 1px dashed gray;margin: 0 0.4em 0.5em 0.4em;box-sizing: border-box;padding-bottom: 0.4em;background-color: white;}#sk-container-id-1 div.sk-label label {font-family: monospace;font-weight: bold;display: inline-block;line-height: 1.2em;}#sk-container-id-1 div.sk-label-container {text-align: center;}#sk-container-id-1 div.sk-container {/* jupyter's `normalize.less` sets `[hidden] { display: none; }` but bootstrap.min.css set `[hidden] { display: none !important; }` so we also need the `!important` here to be able to override the default hidden behavior on the sphinx rendered scikit-learn.org. See: https://github.com/scikit-learn/scikit-learn/issues/21755 */display: inline-block !important;position: relative;}#sk-container-id-1 div.sk-text-repr-fallback {display: none;}</style><div id=\"sk-container-id-1\" class=\"sk-top-container\"><div class=\"sk-text-repr-fallback\"><pre>RandomForestClassifier(random_state=42)</pre><b>In a Jupyter environment, please rerun this cell to show the HTML representation or trust the notebook. <br />On GitHub, the HTML representation is unable to render, please try loading this page with nbviewer.org.</b></div><div class=\"sk-container\" hidden><div class=\"sk-item\"><div class=\"sk-estimator sk-toggleable\"><input class=\"sk-toggleable__control sk-hidden--visually\" id=\"sk-estimator-id-1\" type=\"checkbox\" checked><label for=\"sk-estimator-id-1\" class=\"sk-toggleable__label sk-toggleable__label-arrow\">RandomForestClassifier</label><div class=\"sk-toggleable__content\"><pre>RandomForestClassifier(random_state=42)</pre></div></div></div></div></div>"
      ],
      "text/plain": [
       "RandomForestClassifier(random_state=42)"
      ]
     },
     "execution_count": 14,
     "metadata": {},
     "output_type": "execute_result"
    }
   ],
   "source": [
    "rf = RandomForestClassifier(random_state=42)\n",
    "rf.fit(X_train_SMOTE,y_train_SMOTE)"
   ]
  },
  {
   "cell_type": "code",
   "execution_count": 15,
   "id": "35d634d6-3a08-4e65-9b2c-a69071a0352a",
   "metadata": {},
   "outputs": [
    {
     "name": "stdout",
     "output_type": "stream",
     "text": [
      "Accuracy :86.33%\n",
      "Precission :46.86%\n",
      "Recall :85.37%\n",
      "AUC : 93.46%\n"
     ]
    }
   ],
   "source": [
    "y_pred = rf.predict(X_test)\n",
    "y_pred_proba = rf.predict_proba(X_test)[:,1]\n",
    "    \n",
    "accuracy = metrics.accuracy_score(y_test,y_pred)\n",
    "print(\"Accuracy :\" + str(round(accuracy*100,2)) + '%')\n",
    "precission = metrics.precision_score(y_test,y_pred,pos_label=1)\n",
    "print(\"Precission :\" + str(round(precission*100,2)) + '%')\n",
    "recall = metrics.recall_score(y_test,y_pred,pos_label=1)\n",
    "print(\"Recall :\" + str(round(recall*100,2)) + '%')\n",
    "fpr, tpr, thresholds = metrics.roc_curve(y_test, y_pred_proba, pos_label=1)\n",
    "auc_test = metrics.auc(fpr, tpr)\n",
    "print(\"AUC : \"+str(round(auc_test*100,2))+'%')"
   ]
  },
  {
   "cell_type": "code",
   "execution_count": 16,
   "id": "4398ff45-b6fb-4924-a3b0-8f0070a3d93c",
   "metadata": {},
   "outputs": [
    {
     "data": {
      "text/plain": [
       "Text(0.5, 1.0, 'feature importance score')"
      ]
     },
     "execution_count": 16,
     "metadata": {},
     "output_type": "execute_result"
    },
    {
     "data": {
      "image/png": "[encoded data removed]",
      "text/plain": [
       "<Figure size 720x576 with 1 Axes>"
      ]
     },
     "metadata": {
      "needs_background": "light"
     },
     "output_type": "display_data"
    }
   ],
   "source": [
    "feat_importances = pd.Series(rf.feature_importances_, index=X.columns)\n",
    "ax = feat_importances.nlargest(25).plot(kind='barh', figsize=(10, 8))\n",
    "ax.invert_yaxis()\n",
    "\n",
    "plt.xlabel('score')\n",
    "plt.ylabel('feature')\n",
    "plt.title('feature importance score')"
   ]
  },
  {
   "cell_type": "markdown",
   "id": "49bbf932-640b-4fd1-a731-002fa3dd0642",
   "metadata": {},
   "source": [
    "Log Performance"
   ]
  },
  {
   "cell_type": "code",
   "execution_count": 17,
   "id": "309c25e5-1aee-40c4-80ff-8638404df90d",
   "metadata": {},
   "outputs": [
    {
     "name": "stderr",
     "output_type": "stream",
     "text": [
      "C:\\Users\\ASUS\\AppData\\Local\\Temp/ipykernel_3424/965448917.py:10: FutureWarning: The frame.append method is deprecated and will be removed from pandas in a future version. Use pandas.concat instead.\n",
      "  performance_log = performance_log.append(perf, ignore_index=True)\n"
     ]
    }
   ],
   "source": [
    "performance_log = pd.DataFrame(columns=[\"Experiment\",\"Recall\",\"Accuracy\",\"Precission\",\"AUC\"])\n",
    "\n",
    "perf = {\n",
    "    \"Experiment\": \"Initial Model (Random Forest)\",\n",
    "    \"Recall\": str(round(recall*100,2))+'%',\n",
    "    \"Accuracy\": str(round(accuracy*100,2))+'%',\n",
    "    \"Precission\": str(round(precission*100,2))+'%',\n",
    "    \"AUC\" : str(round(auc_test*100,2))+'%'\n",
    "}\n",
    "performance_log = performance_log.append(perf, ignore_index=True)"
   ]
  },
  {
   "cell_type": "code",
   "execution_count": 18,
   "id": "79a8f844-75a2-4e02-910e-8fb732ee2ac4",
   "metadata": {},
   "outputs": [
    {
     "data": {
      "text/html": [
       "<div>\n",
       "<style scoped>\n",
       "    .dataframe tbody tr th:only-of-type {\n",
       "        vertical-align: middle;\n",
       "    }\n",
       "\n",
       "    .dataframe tbody tr th {\n",
       "        vertical-align: top;\n",
       "    }\n",
       "\n",
       "    .dataframe thead th {\n",
       "        text-align: right;\n",
       "    }\n",
       "</style>\n",
       "<table border=\"1\" class=\"dataframe\">\n",
       "  <thead>\n",
       "    <tr style=\"text-align: right;\">\n",
       "      <th></th>\n",
       "      <th>Experiment</th>\n",
       "      <th>Recall</th>\n",
       "      <th>Accuracy</th>\n",
       "      <th>Precission</th>\n",
       "      <th>AUC</th>\n",
       "    </tr>\n",
       "  </thead>\n",
       "  <tbody>\n",
       "    <tr>\n",
       "      <th>0</th>\n",
       "      <td>Initial Model (Random Forest)</td>\n",
       "      <td>85.37%</td>\n",
       "      <td>86.33%</td>\n",
       "      <td>46.86%</td>\n",
       "      <td>93.46%</td>\n",
       "    </tr>\n",
       "  </tbody>\n",
       "</table>\n",
       "</div>"
      ],
      "text/plain": [
       "                      Experiment  Recall Accuracy Precission     AUC\n",
       "0  Initial Model (Random Forest)  85.37%   86.33%     46.86%  93.46%"
      ]
     },
     "execution_count": 18,
     "metadata": {},
     "output_type": "execute_result"
    }
   ],
   "source": [
    "performance_log"
   ]
  },
  {
   "cell_type": "markdown",
   "id": "13ce5842-d7e7-4f65-966a-5b7da67dbe02",
   "metadata": {},
   "source": [
    "## Model Evaluation : Pemilihan dan perhitungan Metrics"
   ]
  },
  {
   "cell_type": "markdown",
   "id": "5cb44c61-bddc-43b6-b067-8c644a094fa4",
   "metadata": {},
   "source": [
    "### Confusion Matrix"
   ]
  },
  {
   "cell_type": "code",
   "execution_count": 19,
   "id": "6563771c-6be7-4591-beaf-5cbcdfc549a0",
   "metadata": {},
   "outputs": [],
   "source": [
    "from sklearn.metrics import confusion_matrix"
   ]
  },
  {
   "cell_type": "code",
   "execution_count": 20,
   "id": "f0ac69dc-e697-4863-9721-e854071d76d7",
   "metadata": {},
   "outputs": [
    {
     "data": {
      "image/png": "[encoded data removed]",
      "text/plain": [
       "<Figure size 432x288 with 2 Axes>"
      ]
     },
     "metadata": {
      "needs_background": "light"
     },
     "output_type": "display_data"
    }
   ],
   "source": [
    "cm = confusion_matrix(y_test,y_pred)\n",
    "cm_display = metrics.ConfusionMatrixDisplay(confusion_matrix = cm, display_labels = ['Tidak Gagal Bayar','Gagal Bayar'])\n",
    "\n",
    "cm_display.plot()\n",
    "plt.show()"
   ]
  },
  {
   "cell_type": "markdown",
   "id": "ad41b3a5-e7b4-470e-9665-9f2dd1ab4581",
   "metadata": {},
   "source": [
    "__Kesimpulan__:\n",
    "- Berdasarkan data Confusion Matrix tersebut, data matrix didominasi oleh True Negative. Hal Tersebut dapat disebabkan karena Imbalance Label pada dataset yang didominasi oleh Label Negatif (Risk_Flag = 0).\n",
    "- Pada pemodelan ini kami Fokus ke data __False Negative__, hal tersebut dikarenakan :\n",
    "    - __False Negative__ mengartikan bahwa __Pelanggan yang seharusnya Gagal Bayar tetapi oleh Model diprediksi Tidak Gagal Bayar__.\n",
    "    - Jika nilai __Nila False Negative terlalu besar__, perusahaan akan mengalami beberapa kerugian seperti :\n",
    "        - Bank dapat mengalami Profit Loss karena Model gagal memprediksi Pelanggan yang Gagal Bayar.\n",
    "        - Tim Kredit Bank dapat mengalami penurunan performa.\n",
    "- Maka pada Pemodelan ini akan menggunakan Metric __Recall__ dalam melakukan evaluasi model."
   ]
  },
  {
   "cell_type": "markdown",
   "id": "d6e5c41a-28e6-4024-8eda-2df38a54f191",
   "metadata": {},
   "source": [
    "## Model Evaluation : Apakah model sudah best-fit?"
   ]
  },
  {
   "cell_type": "markdown",
   "id": "957f2fed-0344-49cc-9ea7-8b4c4bb6c1fe",
   "metadata": {},
   "source": [
    "### Melihat Score Train dan Score Test"
   ]
  },
  {
   "cell_type": "code",
   "execution_count": 21,
   "id": "908a2145-d3b1-4f4d-8f80-9ae26f087f8e",
   "metadata": {},
   "outputs": [
    {
     "data": {
      "text/html": [
       "<style>#sk-container-id-2 {color: black;background-color: white;}#sk-container-id-2 pre{padding: 0;}#sk-container-id-2 div.sk-toggleable {background-color: white;}#sk-container-id-2 label.sk-toggleable__label {cursor: pointer;display: block;width: 100%;margin-bottom: 0;padding: 0.3em;box-sizing: border-box;text-align: center;}#sk-container-id-2 label.sk-toggleable__label-arrow:before {content: \"▸\";float: left;margin-right: 0.25em;color: #696969;}#sk-container-id-2 label.sk-toggleable__label-arrow:hover:before {color: black;}#sk-container-id-2 div.sk-estimator:hover label.sk-toggleable__label-arrow:before {color: black;}#sk-container-id-2 div.sk-toggleable__content {max-height: 0;max-width: 0;overflow: hidden;text-align: left;background-color: #f0f8ff;}#sk-container-id-2 div.sk-toggleable__content pre {margin: 0.2em;color: black;border-radius: 0.25em;background-color: #f0f8ff;}#sk-container-id-2 input.sk-toggleable__control:checked~div.sk-toggleable__content {max-height: 200px;max-width: 100%;overflow: auto;}#sk-container-id-2 input.sk-toggleable__control:checked~label.sk-toggleable__label-arrow:before {content: \"▾\";}#sk-container-id-2 div.sk-estimator input.sk-toggleable__control:checked~label.sk-toggleable__label {background-color: #d4ebff;}#sk-container-id-2 div.sk-label input.sk-toggleable__control:checked~label.sk-toggleable__label {background-color: #d4ebff;}#sk-container-id-2 input.sk-hidden--visually {border: 0;clip: rect(1px 1px 1px 1px);clip: rect(1px, 1px, 1px, 1px);height: 1px;margin: -1px;overflow: hidden;padding: 0;position: absolute;width: 1px;}#sk-container-id-2 div.sk-estimator {font-family: monospace;background-color: #f0f8ff;border: 1px dotted black;border-radius: 0.25em;box-sizing: border-box;margin-bottom: 0.5em;}#sk-container-id-2 div.sk-estimator:hover {background-color: #d4ebff;}#sk-container-id-2 div.sk-parallel-item::after {content: \"\";width: 100%;border-bottom: 1px solid gray;flex-grow: 1;}#sk-container-id-2 div.sk-label:hover label.sk-toggleable__label {background-color: #d4ebff;}#sk-container-id-2 div.sk-serial::before {content: \"\";position: absolute;border-left: 1px solid gray;box-sizing: border-box;top: 0;bottom: 0;left: 50%;z-index: 0;}#sk-container-id-2 div.sk-serial {display: flex;flex-direction: column;align-items: center;background-color: white;padding-right: 0.2em;padding-left: 0.2em;position: relative;}#sk-container-id-2 div.sk-item {position: relative;z-index: 1;}#sk-container-id-2 div.sk-parallel {display: flex;align-items: stretch;justify-content: center;background-color: white;position: relative;}#sk-container-id-2 div.sk-item::before, #sk-container-id-2 div.sk-parallel-item::before {content: \"\";position: absolute;border-left: 1px solid gray;box-sizing: border-box;top: 0;bottom: 0;left: 50%;z-index: -1;}#sk-container-id-2 div.sk-parallel-item {display: flex;flex-direction: column;z-index: 1;position: relative;background-color: white;}#sk-container-id-2 div.sk-parallel-item:first-child::after {align-self: flex-end;width: 50%;}#sk-container-id-2 div.sk-parallel-item:last-child::after {align-self: flex-start;width: 50%;}#sk-container-id-2 div.sk-parallel-item:only-child::after {width: 0;}#sk-container-id-2 div.sk-dashed-wrapped {border: 1px dashed gray;margin: 0 0.4em 0.5em 0.4em;box-sizing: border-box;padding-bottom: 0.4em;background-color: white;}#sk-container-id-2 div.sk-label label {font-family: monospace;font-weight: bold;display: inline-block;line-height: 1.2em;}#sk-container-id-2 div.sk-label-container {text-align: center;}#sk-container-id-2 div.sk-container {/* jupyter's `normalize.less` sets `[hidden] { display: none; }` but bootstrap.min.css set `[hidden] { display: none !important; }` so we also need the `!important` here to be able to override the default hidden behavior on the sphinx rendered scikit-learn.org. See: https://github.com/scikit-learn/scikit-learn/issues/21755 */display: inline-block !important;position: relative;}#sk-container-id-2 div.sk-text-repr-fallback {display: none;}</style><div id=\"sk-container-id-2\" class=\"sk-top-container\"><div class=\"sk-text-repr-fallback\"><pre>RandomForestClassifier(random_state=42)</pre><b>In a Jupyter environment, please rerun this cell to show the HTML representation or trust the notebook. <br />On GitHub, the HTML representation is unable to render, please try loading this page with nbviewer.org.</b></div><div class=\"sk-container\" hidden><div class=\"sk-item\"><div class=\"sk-estimator sk-toggleable\"><input class=\"sk-toggleable__control sk-hidden--visually\" id=\"sk-estimator-id-2\" type=\"checkbox\" checked><label for=\"sk-estimator-id-2\" class=\"sk-toggleable__label sk-toggleable__label-arrow\">RandomForestClassifier</label><div class=\"sk-toggleable__content\"><pre>RandomForestClassifier(random_state=42)</pre></div></div></div></div></div>"
      ],
      "text/plain": [
       "RandomForestClassifier(random_state=42)"
      ]
     },
     "execution_count": 21,
     "metadata": {},
     "output_type": "execute_result"
    }
   ],
   "source": [
    "rf = RandomForestClassifier(random_state=42)\n",
    "rf.fit(X_train_SMOTE,y_train_SMOTE)"
   ]
  },
  {
   "cell_type": "code",
   "execution_count": 22,
   "id": "ffb26faf-1438-4929-b0dc-4d2310e48d5a",
   "metadata": {},
   "outputs": [
    {
     "name": "stdout",
     "output_type": "stream",
     "text": [
      "Accuracy Test :86.33%\n",
      "Accuracy Train :95.8%\n",
      "Precission Test :46.86%\n",
      "Precission Train:92.27%\n",
      "Recall Test :85.37%\n",
      "Recall Train :99.99%\n",
      "F1 Test :60.51%\n",
      "F1 Train :95.97%\n",
      "AUC Test : 93.46%\n",
      "AUC Train : 97.22%\n",
      "\n",
      "\n"
     ]
    }
   ],
   "source": [
    "y_pred = rf.predict(X_test)\n",
    "y_pred_proba = rf.predict_proba(X_test)[:,1]\n",
    "y_pred_train = rf.predict(X_train_SMOTE)\n",
    "y_pred_proba_train = rf.predict_proba(X_train_SMOTE)[:,1]\n",
    "    \n",
    "accuracy_test = metrics.accuracy_score(y_test,y_pred)\n",
    "print(\"Accuracy Test :\" + str(round(accuracy_test*100,2)) + '%')\n",
    "accuracy_train = metrics.accuracy_score(y_train_SMOTE,y_pred_train)\n",
    "print(\"Accuracy Train :\" + str(round(accuracy_train*100,2)) + '%')\n",
    "    \n",
    "precission_test = metrics.precision_score(y_test,y_pred,pos_label=1)\n",
    "print(\"Precission Test :\" + str(round(precission_test*100,2)) + '%')\n",
    "precission_train = metrics.precision_score(y_train_SMOTE,y_pred_train,pos_label=1)\n",
    "print(\"Precission Train:\" + str(round(precission_train*100,2)) + '%')\n",
    "\n",
    "recall_test = metrics.recall_score(y_test,y_pred,pos_label=1)\n",
    "print(\"Recall Test :\" + str(round(recall_test*100,2)) + '%')\n",
    "recall_train = metrics.recall_score(y_train_SMOTE,y_pred_train,pos_label=1)\n",
    "print(\"Recall Train :\" + str(round(recall_train*100,2)) + '%')\n",
    "\n",
    "f1_test = metrics.f1_score(y_test,y_pred,pos_label=1)\n",
    "print(\"F1 Test :\" + str(round(f1_test*100,2)) + '%')\n",
    "f1_train = metrics.f1_score(y_train_SMOTE,y_pred_train,pos_label=1)\n",
    "print(\"F1 Train :\" + str(round(f1_train*100,2)) + '%')\n",
    "\n",
    "fpr_test, tpr_test, thresholds_test = metrics.roc_curve(y_test, y_pred_proba, pos_label=1)\n",
    "auc_test = metrics.auc(fpr_test, tpr_test)\n",
    "print(\"AUC Test : \"+str(round(auc_test*100,2))+'%')\n",
    "fpr_train, tpr_train, thresholds_train = metrics.roc_curve(y_train_SMOTE, y_pred_proba_train, pos_label=1)\n",
    "auc_train = metrics.auc(fpr_train, tpr_train)\n",
    "print(\"AUC Train : \"+str(round(auc_train*100,2))+'%')\n",
    "print(\"\\n\")"
   ]
  },
  {
   "cell_type": "markdown",
   "id": "6e094a9a-df85-406d-b9dd-cb84c94a13f3",
   "metadata": {},
   "source": [
    "__Kesimpulan__ :\n",
    "- Terlihat __Score Train > Score Test__ untuk Metric Recall, maka Model masih termasuk __Overfitting__.\n",
    "- Untuk mengatasi Overfitting tersebut perlu dilakukan __Hyperparameter Tuning__."
   ]
  },
  {
   "cell_type": "markdown",
   "id": "d9693805-72ce-4376-8bd2-4016ca753bbe",
   "metadata": {},
   "source": [
    "## Hyper-Paramater Tuning"
   ]
  },
  {
   "cell_type": "markdown",
   "id": "7c49f530-96fb-4186-a6a4-eaff1a91db49",
   "metadata": {},
   "source": [
    "### Hyper-Parameter Tuning dengan RandomizedSearch"
   ]
  },
  {
   "cell_type": "code",
   "execution_count": 23,
   "id": "5fb4e88c-7a7f-4bda-884a-4db89ffbb01b",
   "metadata": {},
   "outputs": [],
   "source": [
    "from sklearn.model_selection import RandomizedSearchCV, GridSearchCV"
   ]
  },
  {
   "cell_type": "code",
   "execution_count": 24,
   "id": "3e330507-9d24-41f6-b528-4196b78d5dab",
   "metadata": {},
   "outputs": [],
   "source": [
    "hyperparams = dict(\n",
    "                        n_estimators = [int(x) for x in np.linspace(10,100,20)],\n",
    "                        min_samples_split = [int(x) for x in np.linspace(2,30,15)],\n",
    "                        min_samples_leaf = [int(x) for x in np.linspace(2,30,11)],\n",
    "                        max_depth = [int(x) for x in np.linspace(2,100,15)]   \n",
    "                    )"
   ]
  },
  {
   "cell_type": "code",
   "execution_count": 25,
   "id": "5f925407-a132-45da-beee-eeb0b8996cdd",
   "metadata": {},
   "outputs": [
    {
     "data": {
      "text/html": [
       "<style>#sk-container-id-3 {color: black;background-color: white;}#sk-container-id-3 pre{padding: 0;}#sk-container-id-3 div.sk-toggleable {background-color: white;}#sk-container-id-3 label.sk-toggleable__label {cursor: pointer;display: block;width: 100%;margin-bottom: 0;padding: 0.3em;box-sizing: border-box;text-align: center;}#sk-container-id-3 label.sk-toggleable__label-arrow:before {content: \"▸\";float: left;margin-right: 0.25em;color: #696969;}#sk-container-id-3 label.sk-toggleable__label-arrow:hover:before {color: black;}#sk-container-id-3 div.sk-estimator:hover label.sk-toggleable__label-arrow:before {color: black;}#sk-container-id-3 div.sk-toggleable__content {max-height: 0;max-width: 0;overflow: hidden;text-align: left;background-color: #f0f8ff;}#sk-container-id-3 div.sk-toggleable__content pre {margin: 0.2em;color: black;border-radius: 0.25em;background-color: #f0f8ff;}#sk-container-id-3 input.sk-toggleable__control:checked~div.sk-toggleable__content {max-height: 200px;max-width: 100%;overflow: auto;}#sk-container-id-3 input.sk-toggleable__control:checked~label.sk-toggleable__label-arrow:before {content: \"▾\";}#sk-container-id-3 div.sk-estimator input.sk-toggleable__control:checked~label.sk-toggleable__label {background-color: #d4ebff;}#sk-container-id-3 div.sk-label input.sk-toggleable__control:checked~label.sk-toggleable__label {background-color: #d4ebff;}#sk-container-id-3 input.sk-hidden--visually {border: 0;clip: rect(1px 1px 1px 1px);clip: rect(1px, 1px, 1px, 1px);height: 1px;margin: -1px;overflow: hidden;padding: 0;position: absolute;width: 1px;}#sk-container-id-3 div.sk-estimator {font-family: monospace;background-color: #f0f8ff;border: 1px dotted black;border-radius: 0.25em;box-sizing: border-box;margin-bottom: 0.5em;}#sk-container-id-3 div.sk-estimator:hover {background-color: #d4ebff;}#sk-container-id-3 div.sk-parallel-item::after {content: \"\";width: 100%;border-bottom: 1px solid gray;flex-grow: 1;}#sk-container-id-3 div.sk-label:hover label.sk-toggleable__label {background-color: #d4ebff;}#sk-container-id-3 div.sk-serial::before {content: \"\";position: absolute;border-left: 1px solid gray;box-sizing: border-box;top: 0;bottom: 0;left: 50%;z-index: 0;}#sk-container-id-3 div.sk-serial {display: flex;flex-direction: column;align-items: center;background-color: white;padding-right: 0.2em;padding-left: 0.2em;position: relative;}#sk-container-id-3 div.sk-item {position: relative;z-index: 1;}#sk-container-id-3 div.sk-parallel {display: flex;align-items: stretch;justify-content: center;background-color: white;position: relative;}#sk-container-id-3 div.sk-item::before, #sk-container-id-3 div.sk-parallel-item::before {content: \"\";position: absolute;border-left: 1px solid gray;box-sizing: border-box;top: 0;bottom: 0;left: 50%;z-index: -1;}#sk-container-id-3 div.sk-parallel-item {display: flex;flex-direction: column;z-index: 1;position: relative;background-color: white;}#sk-container-id-3 div.sk-parallel-item:first-child::after {align-self: flex-end;width: 50%;}#sk-container-id-3 div.sk-parallel-item:last-child::after {align-self: flex-start;width: 50%;}#sk-container-id-3 div.sk-parallel-item:only-child::after {width: 0;}#sk-container-id-3 div.sk-dashed-wrapped {border: 1px dashed gray;margin: 0 0.4em 0.5em 0.4em;box-sizing: border-box;padding-bottom: 0.4em;background-color: white;}#sk-container-id-3 div.sk-label label {font-family: monospace;font-weight: bold;display: inline-block;line-height: 1.2em;}#sk-container-id-3 div.sk-label-container {text-align: center;}#sk-container-id-3 div.sk-container {/* jupyter's `normalize.less` sets `[hidden] { display: none; }` but bootstrap.min.css set `[hidden] { display: none !important; }` so we also need the `!important` here to be able to override the default hidden behavior on the sphinx rendered scikit-learn.org. See: https://github.com/scikit-learn/scikit-learn/issues/21755 */display: inline-block !important;position: relative;}#sk-container-id-3 div.sk-text-repr-fallback {display: none;}</style><div id=\"sk-container-id-3\" class=\"sk-top-container\"><div class=\"sk-text-repr-fallback\"><pre>RandomizedSearchCV(cv=5, estimator=RandomForestClassifier(random_state=42),\n",
       "                   param_distributions={&#x27;max_depth&#x27;: [2, 9, 16, 23, 30, 37, 44,\n",
       "                                                      51, 58, 65, 72, 79, 86,\n",
       "                                                      93, 100],\n",
       "                                        &#x27;min_samples_leaf&#x27;: [2, 4, 7, 10, 13,\n",
       "                                                             16, 18, 21, 24, 27,\n",
       "                                                             30],\n",
       "                                        &#x27;min_samples_split&#x27;: [2, 4, 6, 8, 10,\n",
       "                                                              12, 14, 16, 18,\n",
       "                                                              20, 22, 24, 26,\n",
       "                                                              28, 30],\n",
       "                                        &#x27;n_estimators&#x27;: [10, 14, 19, 24, 28, 33,\n",
       "                                                         38, 43, 47, 52, 57, 62,\n",
       "                                                         66, 71, 76, 81, 85, 90,\n",
       "                                                         95, 100]},\n",
       "                   random_state=42, scoring=&#x27;recall&#x27;)</pre><b>In a Jupyter environment, please rerun this cell to show the HTML representation or trust the notebook. <br />On GitHub, the HTML representation is unable to render, please try loading this page with nbviewer.org.</b></div><div class=\"sk-container\" hidden><div class=\"sk-item sk-dashed-wrapped\"><div class=\"sk-label-container\"><div class=\"sk-label sk-toggleable\"><input class=\"sk-toggleable__control sk-hidden--visually\" id=\"sk-estimator-id-3\" type=\"checkbox\" ><label for=\"sk-estimator-id-3\" class=\"sk-toggleable__label sk-toggleable__label-arrow\">RandomizedSearchCV</label><div class=\"sk-toggleable__content\"><pre>RandomizedSearchCV(cv=5, estimator=RandomForestClassifier(random_state=42),\n",
       "                   param_distributions={&#x27;max_depth&#x27;: [2, 9, 16, 23, 30, 37, 44,\n",
       "                                                      51, 58, 65, 72, 79, 86,\n",
       "                                                      93, 100],\n",
       "                                        &#x27;min_samples_leaf&#x27;: [2, 4, 7, 10, 13,\n",
       "                                                             16, 18, 21, 24, 27,\n",
       "                                                             30],\n",
       "                                        &#x27;min_samples_split&#x27;: [2, 4, 6, 8, 10,\n",
       "                                                              12, 14, 16, 18,\n",
       "                                                              20, 22, 24, 26,\n",
       "                                                              28, 30],\n",
       "                                        &#x27;n_estimators&#x27;: [10, 14, 19, 24, 28, 33,\n",
       "                                                         38, 43, 47, 52, 57, 62,\n",
       "                                                         66, 71, 76, 81, 85, 90,\n",
       "                                                         95, 100]},\n",
       "                   random_state=42, scoring=&#x27;recall&#x27;)</pre></div></div></div><div class=\"sk-parallel\"><div class=\"sk-parallel-item\"><div class=\"sk-item\"><div class=\"sk-label-container\"><div class=\"sk-label sk-toggleable\"><input class=\"sk-toggleable__control sk-hidden--visually\" id=\"sk-estimator-id-4\" type=\"checkbox\" ><label for=\"sk-estimator-id-4\" class=\"sk-toggleable__label sk-toggleable__label-arrow\">estimator: RandomForestClassifier</label><div class=\"sk-toggleable__content\"><pre>RandomForestClassifier(random_state=42)</pre></div></div></div><div class=\"sk-serial\"><div class=\"sk-item\"><div class=\"sk-estimator sk-toggleable\"><input class=\"sk-toggleable__control sk-hidden--visually\" id=\"sk-estimator-id-5\" type=\"checkbox\" ><label for=\"sk-estimator-id-5\" class=\"sk-toggleable__label sk-toggleable__label-arrow\">RandomForestClassifier</label><div class=\"sk-toggleable__content\"><pre>RandomForestClassifier(random_state=42)</pre></div></div></div></div></div></div></div></div></div></div>"
      ],
      "text/plain": [
       "RandomizedSearchCV(cv=5, estimator=RandomForestClassifier(random_state=42),\n",
       "                   param_distributions={'max_depth': [2, 9, 16, 23, 30, 37, 44,\n",
       "                                                      51, 58, 65, 72, 79, 86,\n",
       "                                                      93, 100],\n",
       "                                        'min_samples_leaf': [2, 4, 7, 10, 13,\n",
       "                                                             16, 18, 21, 24, 27,\n",
       "                                                             30],\n",
       "                                        'min_samples_split': [2, 4, 6, 8, 10,\n",
       "                                                              12, 14, 16, 18,\n",
       "                                                              20, 22, 24, 26,\n",
       "                                                              28, 30],\n",
       "                                        'n_estimators': [10, 14, 19, 24, 28, 33,\n",
       "                                                         38, 43, 47, 52, 57, 62,\n",
       "                                                         66, 71, 76, 81, 85, 90,\n",
       "                                                         95, 100]},\n",
       "                   random_state=42, scoring='recall')"
      ]
     },
     "execution_count": 25,
     "metadata": {},
     "output_type": "execute_result"
    }
   ],
   "source": [
    "rf = RandomForestClassifier(random_state=42)\n",
    "rs = RandomizedSearchCV(rf, hyperparams, scoring='recall', random_state=42, cv=5)\n",
    "rs.fit(X_train_SMOTE,y_train_SMOTE)"
   ]
  },
  {
   "cell_type": "code",
   "execution_count": 27,
   "id": "4bdf0879-6ed3-47a8-9a36-f0fca563da88",
   "metadata": {},
   "outputs": [
    {
     "name": "stdout",
     "output_type": "stream",
     "text": [
      "Accuracy Test :86.76%\n",
      "Accuracy Train :92.8%\n",
      "Precission Test :47.73%\n",
      "Precission Train:89.79%\n",
      "Recall Test :84.01%\n",
      "Recall Train :96.58%\n",
      "F1 Test :60.88%\n",
      "F1 Train :93.06%\n",
      "AUC Test : 93.44%\n",
      "AUC Train : 96.17%\n"
     ]
    }
   ],
   "source": [
    "y_pred = rs.predict(X_test)\n",
    "y_pred_proba = rs.predict_proba(X_test)[:,1]\n",
    "y_pred_train = rs.predict(X_train_SMOTE)\n",
    "y_pred_proba_train = rs.predict_proba(X_train_SMOTE)[:,1]\n",
    "    \n",
    "accuracy_test = metrics.accuracy_score(y_test,y_pred)\n",
    "print(\"Accuracy Test :\" + str(round(accuracy_test*100,2)) + '%')\n",
    "accuracy_train = metrics.accuracy_score(y_train_SMOTE,y_pred_train)\n",
    "print(\"Accuracy Train :\" + str(round(accuracy_train*100,2)) + '%')\n",
    "    \n",
    "precission_test = metrics.precision_score(y_test,y_pred,pos_label=1)\n",
    "print(\"Precission Test :\" + str(round(precission_test*100,2)) + '%')\n",
    "precission_train = metrics.precision_score(y_train_SMOTE,y_pred_train,pos_label=1)\n",
    "print(\"Precission Train:\" + str(round(precission_train*100,2)) + '%')\n",
    "\n",
    "recall_test = metrics.recall_score(y_test,y_pred,pos_label=1)\n",
    "print(\"Recall Test :\" + str(round(recall_test*100,2)) + '%')\n",
    "recall_train = metrics.recall_score(y_train_SMOTE,y_pred_train,pos_label=1)\n",
    "print(\"Recall Train :\" + str(round(recall_train*100,2)) + '%')\n",
    "\n",
    "f1_test = metrics.f1_score(y_test,y_pred,pos_label=1)\n",
    "print(\"F1 Test :\" + str(round(f1_test*100,2)) + '%')\n",
    "f1_train = metrics.f1_score(y_train_SMOTE,y_pred_train,pos_label=1)\n",
    "print(\"F1 Train :\" + str(round(f1_train*100,2)) + '%')\n",
    "\n",
    "fpr_test, tpr_test, thresholds_test = metrics.roc_curve(y_test, y_pred_proba, pos_label=1)\n",
    "auc_test = metrics.auc(fpr_test, tpr_test)\n",
    "print(\"AUC Test : \"+str(round(auc_test*100,2))+'%')\n",
    "fpr_train, tpr_train, thresholds_train = metrics.roc_curve(y_train_SMOTE, y_pred_proba_train, pos_label=1)\n",
    "auc_train = metrics.auc(fpr_train, tpr_train)\n",
    "print(\"AUC Train : \"+str(round(auc_train*100,2))+'%')"
   ]
  },
  {
   "cell_type": "code",
   "execution_count": 28,
   "id": "af4c6eea-c14c-414a-b04e-41b19e3ca952",
   "metadata": {},
   "outputs": [
    {
     "name": "stdout",
     "output_type": "stream",
     "text": [
      "n_estimators: 57\n",
      "min_samples_split: 6\n",
      "min_samples_leaf: 4\n",
      "max_depth: 37\n"
     ]
    }
   ],
   "source": [
    "for key, value in hyperparams.items() :\n",
    "        print(key+':', rs.best_estimator_.get_params()[key])"
   ]
  },
  {
   "cell_type": "markdown",
   "id": "586ad630-564d-4ab7-bf4d-2d0c05b59b58",
   "metadata": {},
   "source": [
    "Log Perfromance"
   ]
  },
  {
   "cell_type": "code",
   "execution_count": 29,
   "id": "0882e6b6-7b0a-479b-996f-ebec763b2979",
   "metadata": {},
   "outputs": [
    {
     "name": "stderr",
     "output_type": "stream",
     "text": [
      "C:\\Users\\ASUS\\AppData\\Local\\Temp/ipykernel_3424/315885886.py:8: FutureWarning: The frame.append method is deprecated and will be removed from pandas in a future version. Use pandas.concat instead.\n",
      "  performance_log = performance_log.append(perf, ignore_index=True)\n"
     ]
    },
    {
     "data": {
      "text/html": [
       "<div>\n",
       "<style scoped>\n",
       "    .dataframe tbody tr th:only-of-type {\n",
       "        vertical-align: middle;\n",
       "    }\n",
       "\n",
       "    .dataframe tbody tr th {\n",
       "        vertical-align: top;\n",
       "    }\n",
       "\n",
       "    .dataframe thead th {\n",
       "        text-align: right;\n",
       "    }\n",
       "</style>\n",
       "<table border=\"1\" class=\"dataframe\">\n",
       "  <thead>\n",
       "    <tr style=\"text-align: right;\">\n",
       "      <th></th>\n",
       "      <th>Experiment</th>\n",
       "      <th>Recall</th>\n",
       "      <th>Accuracy</th>\n",
       "      <th>Precission</th>\n",
       "      <th>AUC</th>\n",
       "    </tr>\n",
       "  </thead>\n",
       "  <tbody>\n",
       "    <tr>\n",
       "      <th>0</th>\n",
       "      <td>Initial Model (Random Forest)</td>\n",
       "      <td>85.37%</td>\n",
       "      <td>86.33%</td>\n",
       "      <td>46.86%</td>\n",
       "      <td>93.46%</td>\n",
       "    </tr>\n",
       "    <tr>\n",
       "      <th>1</th>\n",
       "      <td>Hyperparameters Tuning using Randomized Search</td>\n",
       "      <td>84.01%</td>\n",
       "      <td>86.76%</td>\n",
       "      <td>47.73%</td>\n",
       "      <td>93.44%</td>\n",
       "    </tr>\n",
       "  </tbody>\n",
       "</table>\n",
       "</div>"
      ],
      "text/plain": [
       "                                       Experiment  Recall Accuracy Precission  \\\n",
       "0                   Initial Model (Random Forest)  85.37%   86.33%     46.86%   \n",
       "1  Hyperparameters Tuning using Randomized Search  84.01%   86.76%     47.73%   \n",
       "\n",
       "      AUC  \n",
       "0  93.46%  \n",
       "1  93.44%  "
      ]
     },
     "execution_count": 29,
     "metadata": {},
     "output_type": "execute_result"
    }
   ],
   "source": [
    "perf = {\n",
    "    \"Experiment\": \"Hyperparameters Tuning using Randomized Search\",\n",
    "    \"Recall\": str(round(recall_test*100,2))+'%',\n",
    "    \"Accuracy\": str(round(accuracy_test*100,2))+'%',\n",
    "    \"Precission\": str(round(precission_test*100,2))+'%',\n",
    "    \"AUC\" : str(round(auc_test*100,2))+'%'\n",
    "}\n",
    "performance_log = performance_log.append(perf, ignore_index=True)\n",
    "\n",
    "performance_log"
   ]
  },
  {
   "cell_type": "markdown",
   "id": "667bc20a-4e12-4800-bc02-fd5840bc3427",
   "metadata": {},
   "source": [
    "### Find The Best Parameters"
   ]
  },
  {
   "cell_type": "markdown",
   "id": "0ffe5c37-53eb-403d-82d4-43182aa0c941",
   "metadata": {},
   "source": [
    "#### Mencari Parameter n_estimators"
   ]
  },
  {
   "cell_type": "code",
   "execution_count": 30,
   "id": "67748b31-5bcf-46e5-8010-01aaf69d6f25",
   "metadata": {},
   "outputs": [
    {
     "name": "stdout",
     "output_type": "stream",
     "text": [
      "param value: 10; train: 0.9954097300791983; test: 0.8469420774457987\n",
      "param value: 12; train: 0.996909649264587; test: 0.8498543846402762\n",
      "param value: 14; train: 0.9973363504121545; test: 0.8475892568223493\n",
      "param value: 16; train: 0.9983255212542428; test: 0.8506094272462518\n",
      "param value: 18; train: 0.9983319864231454; test: 0.8499622478697012\n",
      "param value: 20; train: 0.9987198965572975; test: 0.8511487433933772\n",
      "param value: 22; train: 0.9987198965572975; test: 0.8499622478697012\n",
      "param value: 24; train: 0.9991401325359625; test: 0.8505015640168266\n",
      "param value: 26; train: 0.9993146920963311; test: 0.8529824182936037\n",
      "param value: 28; train: 0.9992952965896233; test: 0.8524431021464782\n",
      "param value: 31; train: 0.9995021819945046; test: 0.8540610505878546\n",
      "param value: 33; train: 0.9996056246969452; test: 0.8552475461115305\n",
      "param value: 35; train: 0.9993017617585259; test: 0.855678999029231\n",
      "param value: 37; train: 0.9997090673993858; test: 0.8552475461115305\n",
      "param value: 39; train: 0.9997995797640213; test: 0.8541689138172797\n",
      "param value: 41; train: 0.9998060449329239; test: 0.8551396828821055\n",
      "param value: 43; train: 0.9996056246969452; test: 0.8534138712113041\n",
      "param value: 45; train: 0.9997090673993858; test: 0.8552475461115305\n",
      "param value: 47; train: 0.9998125101018264; test: 0.8543846402761298\n",
      "param value: 50; train: 0.9997995797640213; test: 0.8513644698522274\n"
     ]
    },
    {
     "data": {
      "image/png": "[encoded data removed]",
      "text/plain": [
       "<Figure size 432x288 with 1 Axes>"
      ]
     },
     "metadata": {
      "needs_background": "light"
     },
     "output_type": "display_data"
    }
   ],
   "source": [
    "param_values = [int(x) for x in np.linspace(10,50,20)]\n",
    "train_scores = []\n",
    "test_scores = []\n",
    "\n",
    "for c in param_values:\n",
    "    model = RandomForestClassifier(n_estimators=c)\n",
    "    model.fit(X_train_SMOTE, y_train_SMOTE)\n",
    "\n",
    "    # eval on train\n",
    "    y_pred_train = model.predict(X_train_SMOTE)\n",
    "    train_rec = metrics.recall_score(y_train_SMOTE, y_pred_train,pos_label=1)\n",
    "    train_scores.append(train_rec)\n",
    "\n",
    "    # eval on test\n",
    "    y_pred = model.predict(X_test)\n",
    "    test_rec = metrics.recall_score(y_test, y_pred,pos_label=1)\n",
    "    test_scores.append(test_rec)\n",
    "\n",
    "    print('param value: ' + str(c) + '; train: ' + str(train_rec) + '; test: '+ str(test_rec))\n",
    "\n",
    "plt.plot(param_values, train_scores, label='Train')\n",
    "plt.plot(param_values, test_scores, label='Test')\n",
    "plt.legend()\n",
    "plt.show()"
   ]
  },
  {
   "cell_type": "markdown",
   "id": "0c1fe994-b417-4e77-a5e3-28820f615ac9",
   "metadata": {},
   "source": [
    "#### Mencari Parameter min_samples_split"
   ]
  },
  {
   "cell_type": "code",
   "execution_count": 31,
   "id": "5c02289a-61a5-4c7b-9cf5-cf05203e4bbe",
   "metadata": {},
   "outputs": [
    {
     "name": "stdout",
     "output_type": "stream",
     "text": [
      "param value: 2; train: 0.9995991595280427; test: 0.8543846402761298\n",
      "param value: 4; train: 0.9966381121706804; test: 0.8530902815230288\n",
      "param value: 6; train: 0.9946339098108938; test: 0.8563261784057815\n",
      "param value: 8; train: 0.9936447389688056; test: 0.8579441268471578\n",
      "param value: 10; train: 0.9931339906255051; test: 0.8602092546650847\n",
      "param value: 12; train: 0.99268789397123; test: 0.856865494552907\n",
      "param value: 14; train: 0.9921383546145143; test: 0.8594542120591091\n",
      "param value: 16; train: 0.9901276870858251; test: 0.8560025887175062\n",
      "param value: 18; train: 0.9868498464522386; test: 0.8519037859993528\n",
      "param value: 20; train: 0.9817876192015517; test: 0.8476971200517743\n",
      "param value: 22; train: 0.9767447874575723; test: 0.8459713083809729\n",
      "param value: 24; train: 0.9716825602068854; test: 0.8410095998274189\n",
      "param value: 26; train: 0.967648294811702; test: 0.8376658397152411\n",
      "param value: 28; train: 0.9645708744140941; test: 0.8385287455506418\n",
      "param value: 30; train: 0.9615322450299014; test: 0.8347535325207637\n"
     ]
    },
    {
     "data": {
      "image/png": "[encoded data removed]",
      "text/plain": [
       "<Figure size 432x288 with 1 Axes>"
      ]
     },
     "metadata": {
      "needs_background": "light"
     },
     "output_type": "display_data"
    }
   ],
   "source": [
    "param_values = [int(x) for x in np.linspace(2,30,15)]\n",
    "train_scores = []\n",
    "test_scores = []\n",
    "\n",
    "for c in param_values:\n",
    "    model = RandomForestClassifier(n_estimators=31,min_samples_split=c)\n",
    "    model.fit(X_train_SMOTE, y_train_SMOTE)\n",
    "\n",
    "    # eval on train\n",
    "    y_pred_train = model.predict(X_train_SMOTE)\n",
    "    train_rec = metrics.recall_score(y_train_SMOTE, y_pred_train,pos_label=1)\n",
    "    train_scores.append(train_rec)\n",
    "\n",
    "    # eval on test\n",
    "    y_pred = model.predict(X_test)\n",
    "    test_rec = metrics.recall_score(y_test, y_pred,pos_label=1)\n",
    "    test_scores.append(test_rec)\n",
    "\n",
    "    print('param value: ' + str(c) + '; train: ' + str(train_rec) + '; test: '+ str(test_rec))\n",
    "\n",
    "plt.plot(param_values, train_scores, label='Train')\n",
    "plt.plot(param_values, test_scores, label='Test')\n",
    "plt.legend()\n",
    "plt.show()"
   ]
  },
  {
   "cell_type": "markdown",
   "id": "5bae78d5-5964-4450-b0d3-92ff0f8253a5",
   "metadata": {},
   "source": [
    "#### Mencari Parameter min_samples_leaf"
   ]
  },
  {
   "cell_type": "code",
   "execution_count": 32,
   "id": "c5382d18-ba58-495f-935f-de309b7324ba",
   "metadata": {},
   "outputs": [
    {
     "name": "stdout",
     "output_type": "stream",
     "text": [
      "param value: 2; train: 0.9573234200743495; test: 0.832704131161687\n",
      "param value: 4; train: 0.9487118150961694; test: 0.8318412253262862\n",
      "param value: 7; train: 0.9385614999191854; test: 0.8287131916729586\n",
      "param value: 10; train: 0.9309261354452885; test: 0.8261244741667566\n",
      "param value: 13; train: 0.9231550024244384; test: 0.8234278934311293\n",
      "param value: 16; train: 0.915610150315177; test: 0.8187897745658504\n",
      "param value: 18; train: 0.9105285275577825; test: 0.8173875525833243\n",
      "param value: 21; train: 0.9020268304509456; test: 0.8140437924711466\n",
      "param value: 24; train: 0.896705996444157; test: 0.8118865278826448\n",
      "param value: 27; train: 0.8924001939550671; test: 0.8049832811994391\n",
      "param value: 30; train: 0.8919799579764022; test: 0.8071405457879409\n"
     ]
    },
    {
     "data": {
      "image/png": "[encoded data removed]",
      "text/plain": [
       "<Figure size 432x288 with 1 Axes>"
      ]
     },
     "metadata": {
      "needs_background": "light"
     },
     "output_type": "display_data"
    }
   ],
   "source": [
    "param_values = [int(x) for x in np.linspace(2,30,11)]\n",
    "train_scores = []\n",
    "test_scores = []\n",
    "\n",
    "for c in param_values:\n",
    "    model = RandomForestClassifier(n_estimators=31,min_samples_split=28,min_samples_leaf=c)\n",
    "    model.fit(X_train_SMOTE, y_train_SMOTE)\n",
    "\n",
    "    # eval on train\n",
    "    y_pred_train = model.predict(X_train_SMOTE)\n",
    "    train_rec = metrics.recall_score(y_train_SMOTE, y_pred_train,pos_label=1)\n",
    "    train_scores.append(train_rec)\n",
    "\n",
    "    # eval on test\n",
    "    y_pred = model.predict(X_test)\n",
    "    test_rec = metrics.recall_score(y_test, y_pred,pos_label=1)\n",
    "    test_scores.append(test_rec)\n",
    "\n",
    "    print('param value: ' + str(c) + '; train: ' + str(train_rec) + '; test: '+ str(test_rec))\n",
    "\n",
    "plt.plot(param_values, train_scores, label='Train')\n",
    "plt.plot(param_values, test_scores, label='Test')\n",
    "plt.legend()\n",
    "plt.show()"
   ]
  },
  {
   "cell_type": "markdown",
   "id": "e49892c6-6934-4417-8900-f0847b234c83",
   "metadata": {},
   "source": [
    "#### Mencari Parameter max_depth"
   ]
  },
  {
   "cell_type": "code",
   "execution_count": 33,
   "id": "2cc253e5-fdd2-4a59-8011-fa8596b96eb5",
   "metadata": {},
   "outputs": [
    {
     "name": "stdout",
     "output_type": "stream",
     "text": [
      "param value: 10; train: 0.7931598513011152; test: 0.7052097939812318\n",
      "param value: 12; train: 0.8395991595280426; test: 0.7507280767986193\n",
      "param value: 15; train: 0.8980119605624697; test: 0.8078955883939165\n",
      "param value: 18; train: 0.9020720866332633; test: 0.8178190055010247\n",
      "param value: 21; train: 0.8983093583319864; test: 0.8143673821594218\n",
      "param value: 24; train: 0.8956004525618232; test: 0.8118865278826448\n",
      "param value: 27; train: 0.8971133020850169; test: 0.8083270413116169\n",
      "param value: 30; train: 0.8973201874898982; test: 0.8094056736058678\n",
      "param value: 32; train: 0.8960659447228059; test: 0.8099449897529932\n",
      "param value: 35; train: 0.8963827379990302; test: 0.8095135368352928\n",
      "param value: 38; train: 0.896091805398416; test: 0.812102254341495\n",
      "param value: 41; train: 0.8962405042831744; test: 0.8122101175709201\n",
      "param value: 44; train: 0.8965572975593987; test: 0.8100528529824182\n",
      "param value: 47; train: 0.896078875060611; test: 0.8102685794412685\n",
      "param value: 50; train: 0.8965766930661063; test: 0.810915758817819\n"
     ]
    },
    {
     "data": {
      "image/png": "[encoded data removed]",
      "text/plain": [
       "<Figure size 432x288 with 1 Axes>"
      ]
     },
     "metadata": {
      "needs_background": "light"
     },
     "output_type": "display_data"
    }
   ],
   "source": [
    "param_values = [int(x) for x in np.linspace(10,50,15)]\n",
    "train_scores = []\n",
    "test_scores = []\n",
    "\n",
    "for c in param_values:\n",
    "    model = RandomForestClassifier(n_estimators=31,min_samples_split=28,min_samples_leaf=24,max_depth=c)\n",
    "    model.fit(X_train_SMOTE, y_train_SMOTE)\n",
    "\n",
    "    # eval on train\n",
    "    y_pred_train = model.predict(X_train_SMOTE)\n",
    "    train_rec = metrics.recall_score(y_train_SMOTE, y_pred_train,pos_label=1)\n",
    "    train_scores.append(train_rec)\n",
    "\n",
    "    # eval on test\n",
    "    y_pred = model.predict(X_test)\n",
    "    test_rec = metrics.recall_score(y_test, y_pred,pos_label=1)\n",
    "    test_scores.append(test_rec)\n",
    "\n",
    "    print('param value: ' + str(c) + '; train: ' + str(train_rec) + '; test: '+ str(test_rec))\n",
    "\n",
    "plt.plot(param_values, train_scores, label='Train')\n",
    "plt.plot(param_values, test_scores, label='Test')\n",
    "plt.legend()\n",
    "plt.show()"
   ]
  },
  {
   "cell_type": "markdown",
   "id": "2a968f24-6eb7-486a-b0f6-67491edcafa9",
   "metadata": {},
   "source": [
    "#### Mencari Parameter criterion"
   ]
  },
  {
   "cell_type": "code",
   "execution_count": 35,
   "id": "ca6c77dc-97a8-45f2-a0ff-0782255dcea6",
   "metadata": {},
   "outputs": [
    {
     "name": "stdout",
     "output_type": "stream",
     "text": [
      "param value: gini; train: 0.8966672054307419; test: 0.8131808866357458\n",
      "param value: entropy; train: 0.8961176660740262; test: 0.8133966130945961\n"
     ]
    },
    {
     "data": {
      "image/png": "[encoded data removed]",
      "text/plain": [
       "<Figure size 432x288 with 1 Axes>"
      ]
     },
     "metadata": {
      "needs_background": "light"
     },
     "output_type": "display_data"
    }
   ],
   "source": [
    "param_values = ['gini','entropy']\n",
    "train_scores = []\n",
    "test_scores = []\n",
    "\n",
    "for c in param_values:\n",
    "    model = RandomForestClassifier(n_estimators=31,min_samples_split=28,min_samples_leaf=24,max_depth=24,criterion=c)\n",
    "    model.fit(X_train_SMOTE, y_train_SMOTE)\n",
    "\n",
    "    # eval on train\n",
    "    y_pred_train = model.predict(X_train_SMOTE)\n",
    "    train_rec = metrics.recall_score(y_train_SMOTE, y_pred_train,pos_label=1)\n",
    "    train_scores.append(train_rec)\n",
    "\n",
    "    # eval on test\n",
    "    y_pred = model.predict(X_test)\n",
    "    test_rec = metrics.recall_score(y_test, y_pred,pos_label=1)\n",
    "    test_scores.append(test_rec)\n",
    "\n",
    "    print('param value: ' + str(c) + '; train: ' + str(train_rec) + '; test: '+ str(test_rec))\n",
    "\n",
    "plt.plot(param_values, train_scores, label='Train')\n",
    "plt.plot(param_values, test_scores, label='Test')\n",
    "plt.legend()\n",
    "plt.show()"
   ]
  },
  {
   "cell_type": "code",
   "execution_count": 37,
   "id": "9b966234-bcad-49cb-bbb2-4726c666ec1e",
   "metadata": {},
   "outputs": [
    {
     "name": "stderr",
     "output_type": "stream",
     "text": [
      "C:\\Users\\ASUS\\anaconda3\\lib\\site-packages\\sklearn\\ensemble\\_forest.py:427: FutureWarning: `max_features='auto'` has been deprecated in 1.1 and will be removed in 1.3. To keep the past behaviour, explicitly set `max_features='sqrt'` or remove this parameter as it is also the default value for RandomForestClassifiers and ExtraTreesClassifiers.\n",
      "  warn(\n"
     ]
    },
    {
     "name": "stdout",
     "output_type": "stream",
     "text": [
      "param value: auto; train: 0.8975852594149022; test: 0.8128572969474706\n",
      "param value: sqrt; train: 0.8968676256667205; test: 0.8126415704886204\n",
      "param value: log2; train: 0.8962663649587845; test: 0.813288749865171\n"
     ]
    },
    {
     "data": {
      "image/png": "[encoded data removed]",
      "text/plain": [
       "<Figure size 432x288 with 1 Axes>"
      ]
     },
     "metadata": {
      "needs_background": "light"
     },
     "output_type": "display_data"
    }
   ],
   "source": [
    "param_values = ['auto', 'sqrt', 'log2']\n",
    "train_scores = []\n",
    "test_scores = []\n",
    "\n",
    "for c in param_values:\n",
    "    model = RandomForestClassifier(n_estimators=31,min_samples_split=28,min_samples_leaf=24,max_depth=24,criterion='gini',\n",
    "                                   max_features=c)\n",
    "    model.fit(X_train_SMOTE, y_train_SMOTE)\n",
    "\n",
    "    # eval on train\n",
    "    y_pred_train = model.predict(X_train_SMOTE)\n",
    "    train_rec = metrics.recall_score(y_train_SMOTE, y_pred_train,pos_label=1)\n",
    "    train_scores.append(train_rec)\n",
    "\n",
    "    # eval on test\n",
    "    y_pred = model.predict(X_test)\n",
    "    test_rec = metrics.recall_score(y_test, y_pred,pos_label=1)\n",
    "    test_scores.append(test_rec)\n",
    "\n",
    "    print('param value: ' + str(c) + '; train: ' + str(train_rec) + '; test: '+ str(test_rec))\n",
    "\n",
    "plt.plot(param_values, train_scores, label='Train')\n",
    "plt.plot(param_values, test_scores, label='Test')\n",
    "plt.legend()\n",
    "plt.show()"
   ]
  },
  {
   "cell_type": "code",
   "execution_count": 38,
   "id": "0efe133d-1e50-4c78-aa99-a68d5cb8a9ef",
   "metadata": {},
   "outputs": [
    {
     "data": {
      "text/html": [
       "<style>#sk-container-id-4 {color: black;background-color: white;}#sk-container-id-4 pre{padding: 0;}#sk-container-id-4 div.sk-toggleable {background-color: white;}#sk-container-id-4 label.sk-toggleable__label {cursor: pointer;display: block;width: 100%;margin-bottom: 0;padding: 0.3em;box-sizing: border-box;text-align: center;}#sk-container-id-4 label.sk-toggleable__label-arrow:before {content: \"▸\";float: left;margin-right: 0.25em;color: #696969;}#sk-container-id-4 label.sk-toggleable__label-arrow:hover:before {color: black;}#sk-container-id-4 div.sk-estimator:hover label.sk-toggleable__label-arrow:before {color: black;}#sk-container-id-4 div.sk-toggleable__content {max-height: 0;max-width: 0;overflow: hidden;text-align: left;background-color: #f0f8ff;}#sk-container-id-4 div.sk-toggleable__content pre {margin: 0.2em;color: black;border-radius: 0.25em;background-color: #f0f8ff;}#sk-container-id-4 input.sk-toggleable__control:checked~div.sk-toggleable__content {max-height: 200px;max-width: 100%;overflow: auto;}#sk-container-id-4 input.sk-toggleable__control:checked~label.sk-toggleable__label-arrow:before {content: \"▾\";}#sk-container-id-4 div.sk-estimator input.sk-toggleable__control:checked~label.sk-toggleable__label {background-color: #d4ebff;}#sk-container-id-4 div.sk-label input.sk-toggleable__control:checked~label.sk-toggleable__label {background-color: #d4ebff;}#sk-container-id-4 input.sk-hidden--visually {border: 0;clip: rect(1px 1px 1px 1px);clip: rect(1px, 1px, 1px, 1px);height: 1px;margin: -1px;overflow: hidden;padding: 0;position: absolute;width: 1px;}#sk-container-id-4 div.sk-estimator {font-family: monospace;background-color: #f0f8ff;border: 1px dotted black;border-radius: 0.25em;box-sizing: border-box;margin-bottom: 0.5em;}#sk-container-id-4 div.sk-estimator:hover {background-color: #d4ebff;}#sk-container-id-4 div.sk-parallel-item::after {content: \"\";width: 100%;border-bottom: 1px solid gray;flex-grow: 1;}#sk-container-id-4 div.sk-label:hover label.sk-toggleable__label {background-color: #d4ebff;}#sk-container-id-4 div.sk-serial::before {content: \"\";position: absolute;border-left: 1px solid gray;box-sizing: border-box;top: 0;bottom: 0;left: 50%;z-index: 0;}#sk-container-id-4 div.sk-serial {display: flex;flex-direction: column;align-items: center;background-color: white;padding-right: 0.2em;padding-left: 0.2em;position: relative;}#sk-container-id-4 div.sk-item {position: relative;z-index: 1;}#sk-container-id-4 div.sk-parallel {display: flex;align-items: stretch;justify-content: center;background-color: white;position: relative;}#sk-container-id-4 div.sk-item::before, #sk-container-id-4 div.sk-parallel-item::before {content: \"\";position: absolute;border-left: 1px solid gray;box-sizing: border-box;top: 0;bottom: 0;left: 50%;z-index: -1;}#sk-container-id-4 div.sk-parallel-item {display: flex;flex-direction: column;z-index: 1;position: relative;background-color: white;}#sk-container-id-4 div.sk-parallel-item:first-child::after {align-self: flex-end;width: 50%;}#sk-container-id-4 div.sk-parallel-item:last-child::after {align-self: flex-start;width: 50%;}#sk-container-id-4 div.sk-parallel-item:only-child::after {width: 0;}#sk-container-id-4 div.sk-dashed-wrapped {border: 1px dashed gray;margin: 0 0.4em 0.5em 0.4em;box-sizing: border-box;padding-bottom: 0.4em;background-color: white;}#sk-container-id-4 div.sk-label label {font-family: monospace;font-weight: bold;display: inline-block;line-height: 1.2em;}#sk-container-id-4 div.sk-label-container {text-align: center;}#sk-container-id-4 div.sk-container {/* jupyter's `normalize.less` sets `[hidden] { display: none; }` but bootstrap.min.css set `[hidden] { display: none !important; }` so we also need the `!important` here to be able to override the default hidden behavior on the sphinx rendered scikit-learn.org. See: https://github.com/scikit-learn/scikit-learn/issues/21755 */display: inline-block !important;position: relative;}#sk-container-id-4 div.sk-text-repr-fallback {display: none;}</style><div id=\"sk-container-id-4\" class=\"sk-top-container\"><div class=\"sk-text-repr-fallback\"><pre>RandomForestClassifier(max_depth=24, min_samples_leaf=24, min_samples_split=28,\n",
       "                       n_estimators=31, random_state=42)</pre><b>In a Jupyter environment, please rerun this cell to show the HTML representation or trust the notebook. <br />On GitHub, the HTML representation is unable to render, please try loading this page with nbviewer.org.</b></div><div class=\"sk-container\" hidden><div class=\"sk-item\"><div class=\"sk-estimator sk-toggleable\"><input class=\"sk-toggleable__control sk-hidden--visually\" id=\"sk-estimator-id-6\" type=\"checkbox\" checked><label for=\"sk-estimator-id-6\" class=\"sk-toggleable__label sk-toggleable__label-arrow\">RandomForestClassifier</label><div class=\"sk-toggleable__content\"><pre>RandomForestClassifier(max_depth=24, min_samples_leaf=24, min_samples_split=28,\n",
       "                       n_estimators=31, random_state=42)</pre></div></div></div></div></div>"
      ],
      "text/plain": [
       "RandomForestClassifier(max_depth=24, min_samples_leaf=24, min_samples_split=28,\n",
       "                       n_estimators=31, random_state=42)"
      ]
     },
     "execution_count": 38,
     "metadata": {},
     "output_type": "execute_result"
    }
   ],
   "source": [
    "rf = RandomForestClassifier(n_estimators=31,min_samples_split=28,min_samples_leaf=24,max_depth=24,criterion='gini',\n",
    "                            max_features='sqrt',random_state=42)\n",
    "rf.fit(X_train_SMOTE,y_train_SMOTE)"
   ]
  },
  {
   "cell_type": "code",
   "execution_count": 39,
   "id": "928e1374-e767-453a-8dcd-c346266546f4",
   "metadata": {},
   "outputs": [
    {
     "name": "stdout",
     "output_type": "stream",
     "text": [
      "Accuracy Test :87.55%\n",
      "Accuracy Train :89.43%\n",
      "Precission Test :49.54%\n",
      "Precission Train:89.22%\n",
      "Recall Test :81.2%\n",
      "Recall Train :89.71%\n",
      "F1 Test :61.54%\n",
      "F1 Train :89.46%\n",
      "AUC Test : 89.92%\n",
      "AUC Train : 94.54%\n",
      "\n",
      "\n"
     ]
    }
   ],
   "source": [
    "y_pred = rf.predict(X_test)\n",
    "y_pred_proba = rf.predict_proba(X_test)[:,1]\n",
    "y_pred_train = rf.predict(X_train_SMOTE)\n",
    "y_pred_proba_train = rf.predict_proba(X_train_SMOTE)[:,1]\n",
    "    \n",
    "accuracy_test = metrics.accuracy_score(y_test,y_pred)\n",
    "print(\"Accuracy Test :\" + str(round(accuracy_test*100,2)) + '%')\n",
    "accuracy_train = metrics.accuracy_score(y_train_SMOTE,y_pred_train)\n",
    "print(\"Accuracy Train :\" + str(round(accuracy_train*100,2)) + '%')\n",
    "    \n",
    "precission_test = metrics.precision_score(y_test,y_pred,pos_label=1)\n",
    "print(\"Precission Test :\" + str(round(precission_test*100,2)) + '%')\n",
    "precission_train = metrics.precision_score(y_train_SMOTE,y_pred_train,pos_label=1)\n",
    "print(\"Precission Train:\" + str(round(precission_train*100,2)) + '%')\n",
    "\n",
    "recall_test = metrics.recall_score(y_test,y_pred,pos_label=1)\n",
    "print(\"Recall Test :\" + str(round(recall_test*100,2)) + '%')\n",
    "recall_train = metrics.recall_score(y_train_SMOTE,y_pred_train,pos_label=1)\n",
    "print(\"Recall Train :\" + str(round(recall_train*100,2)) + '%')\n",
    "\n",
    "f1_test = metrics.f1_score(y_test,y_pred,pos_label=1)\n",
    "print(\"F1 Test :\" + str(round(f1_test*100,2)) + '%')\n",
    "f1_train = metrics.f1_score(y_train_SMOTE,y_pred_train,pos_label=1)\n",
    "print(\"F1 Train :\" + str(round(f1_train*100,2)) + '%')\n",
    "\n",
    "fpr_test, tpr_test, thresholds_test = metrics.roc_curve(y_test, y_pred_proba, pos_label=1)\n",
    "auc_test = metrics.auc(fpr_test, tpr_test)\n",
    "print(\"AUC Test : \"+str(round(auc_test*100,2))+'%')\n",
    "fpr_train, tpr_train, thresholds_train = metrics.roc_curve(y_train_SMOTE, y_pred_proba_train, pos_label=1)\n",
    "auc_train = metrics.auc(fpr_train, tpr_train)\n",
    "print(\"AUC Train : \"+str(round(auc_train*100,2))+'%')\n",
    "print(\"\\n\")"
   ]
  },
  {
   "cell_type": "code",
   "execution_count": 40,
   "id": "18899ff6-3772-4bfe-85fa-97f98c44269f",
   "metadata": {},
   "outputs": [
    {
     "data": {
      "image/png": "[encoded data removed]",
      "text/plain": [
       "<Figure size 432x288 with 2 Axes>"
      ]
     },
     "metadata": {
      "needs_background": "light"
     },
     "output_type": "display_data"
    }
   ],
   "source": [
    "cm = confusion_matrix(y_test,y_pred)\n",
    "cm_display = metrics.ConfusionMatrixDisplay(confusion_matrix = cm, display_labels = ['Tidak Gagal Bayar','Gagal Bayar'])\n",
    "\n",
    "cm_display.plot()\n",
    "plt.show()"
   ]
  },
  {
   "cell_type": "code",
   "execution_count": 41,
   "id": "24bc73af-9a96-4f37-848c-d8a460b5a8f9",
   "metadata": {},
   "outputs": [
    {
     "name": "stderr",
     "output_type": "stream",
     "text": [
      "C:\\Users\\ASUS\\AppData\\Local\\Temp/ipykernel_3424/3423303514.py:8: FutureWarning: The frame.append method is deprecated and will be removed from pandas in a future version. Use pandas.concat instead.\n",
      "  performance_log = performance_log.append(perf, ignore_index=True)\n"
     ]
    },
    {
     "data": {
      "text/html": [
       "<div>\n",
       "<style scoped>\n",
       "    .dataframe tbody tr th:only-of-type {\n",
       "        vertical-align: middle;\n",
       "    }\n",
       "\n",
       "    .dataframe tbody tr th {\n",
       "        vertical-align: top;\n",
       "    }\n",
       "\n",
       "    .dataframe thead th {\n",
       "        text-align: right;\n",
       "    }\n",
       "</style>\n",
       "<table border=\"1\" class=\"dataframe\">\n",
       "  <thead>\n",
       "    <tr style=\"text-align: right;\">\n",
       "      <th></th>\n",
       "      <th>Experiment</th>\n",
       "      <th>Recall</th>\n",
       "      <th>Accuracy</th>\n",
       "      <th>Precission</th>\n",
       "      <th>AUC</th>\n",
       "    </tr>\n",
       "  </thead>\n",
       "  <tbody>\n",
       "    <tr>\n",
       "      <th>0</th>\n",
       "      <td>Initial Model (Random Forest)</td>\n",
       "      <td>85.37%</td>\n",
       "      <td>86.33%</td>\n",
       "      <td>46.86%</td>\n",
       "      <td>93.46%</td>\n",
       "    </tr>\n",
       "    <tr>\n",
       "      <th>1</th>\n",
       "      <td>Hyperparameters Tuning using Randomized Search</td>\n",
       "      <td>84.01%</td>\n",
       "      <td>86.76%</td>\n",
       "      <td>47.73%</td>\n",
       "      <td>93.44%</td>\n",
       "    </tr>\n",
       "    <tr>\n",
       "      <th>2</th>\n",
       "      <td>Find the best parameters</td>\n",
       "      <td>81.2%</td>\n",
       "      <td>87.55%</td>\n",
       "      <td>49.54%</td>\n",
       "      <td>89.92%</td>\n",
       "    </tr>\n",
       "  </tbody>\n",
       "</table>\n",
       "</div>"
      ],
      "text/plain": [
       "                                       Experiment  Recall Accuracy Precission  \\\n",
       "0                   Initial Model (Random Forest)  85.37%   86.33%     46.86%   \n",
       "1  Hyperparameters Tuning using Randomized Search  84.01%   86.76%     47.73%   \n",
       "2                        Find the best parameters   81.2%   87.55%     49.54%   \n",
       "\n",
       "      AUC  \n",
       "0  93.46%  \n",
       "1  93.44%  \n",
       "2  89.92%  "
      ]
     },
     "execution_count": 41,
     "metadata": {},
     "output_type": "execute_result"
    }
   ],
   "source": [
    "perf = {\n",
    "    \"Experiment\": \"Find the best parameters\",\n",
    "    \"Recall\": str(round(recall_test*100,2))+'%',\n",
    "    \"Accuracy\": str(round(accuracy_test*100,2))+'%',\n",
    "    \"Precission\": str(round(precission_test*100,2))+'%',\n",
    "    \"AUC\" : str(round(auc_test*100,2))+'%'\n",
    "}\n",
    "performance_log = performance_log.append(perf, ignore_index=True)\n",
    "\n",
    "performance_log"
   ]
  },
  {
   "cell_type": "code",
   "execution_count": 42,
   "id": "523cb991-2fc1-4c49-b1a0-47ff5a40520e",
   "metadata": {},
   "outputs": [
    {
     "data": {
      "text/plain": [
       "Text(0.5, 1.0, 'feature importance score')"
      ]
     },
     "execution_count": 42,
     "metadata": {},
     "output_type": "execute_result"
    },
    {
     "data": {
      "image/png": "[encoded data removed]",
      "text/plain": [
       "<Figure size 720x576 with 1 Axes>"
      ]
     },
     "metadata": {
      "needs_background": "light"
     },
     "output_type": "display_data"
    }
   ],
   "source": [
    "feat_importances = pd.Series(rf.feature_importances_, index=X.columns)\n",
    "ax = feat_importances.nlargest(25).plot(kind='barh', figsize=(10, 8))\n",
    "ax.invert_yaxis()\n",
    "\n",
    "plt.xlabel('score')\n",
    "plt.ylabel('feature')\n",
    "plt.title('feature importance score')"
   ]
  },
  {
   "cell_type": "code",
   "execution_count": 43,
   "id": "ddd55329-0386-4651-9e91-f23d81795e6b",
   "metadata": {},
   "outputs": [],
   "source": [
    "X_train_SMOTE = X_train_SMOTE.drop(columns = ['house_rented','Car_Ownership','Married/Single',\n",
    "                                              'house_norent_noown','house_owned'])\n",
    "\n",
    "X_test = X_test.drop(columns = ['house_rented','Car_Ownership','Married/Single',\n",
    "                                'house_norent_noown','house_owned'])"
   ]
  },
  {
   "cell_type": "code",
   "execution_count": 44,
   "id": "de31f56f-6973-4e64-849c-c96da31f7e84",
   "metadata": {},
   "outputs": [
    {
     "data": {
      "text/html": [
       "<style>#sk-container-id-5 {color: black;background-color: white;}#sk-container-id-5 pre{padding: 0;}#sk-container-id-5 div.sk-toggleable {background-color: white;}#sk-container-id-5 label.sk-toggleable__label {cursor: pointer;display: block;width: 100%;margin-bottom: 0;padding: 0.3em;box-sizing: border-box;text-align: center;}#sk-container-id-5 label.sk-toggleable__label-arrow:before {content: \"▸\";float: left;margin-right: 0.25em;color: #696969;}#sk-container-id-5 label.sk-toggleable__label-arrow:hover:before {color: black;}#sk-container-id-5 div.sk-estimator:hover label.sk-toggleable__label-arrow:before {color: black;}#sk-container-id-5 div.sk-toggleable__content {max-height: 0;max-width: 0;overflow: hidden;text-align: left;background-color: #f0f8ff;}#sk-container-id-5 div.sk-toggleable__content pre {margin: 0.2em;color: black;border-radius: 0.25em;background-color: #f0f8ff;}#sk-container-id-5 input.sk-toggleable__control:checked~div.sk-toggleable__content {max-height: 200px;max-width: 100%;overflow: auto;}#sk-container-id-5 input.sk-toggleable__control:checked~label.sk-toggleable__label-arrow:before {content: \"▾\";}#sk-container-id-5 div.sk-estimator input.sk-toggleable__control:checked~label.sk-toggleable__label {background-color: #d4ebff;}#sk-container-id-5 div.sk-label input.sk-toggleable__control:checked~label.sk-toggleable__label {background-color: #d4ebff;}#sk-container-id-5 input.sk-hidden--visually {border: 0;clip: rect(1px 1px 1px 1px);clip: rect(1px, 1px, 1px, 1px);height: 1px;margin: -1px;overflow: hidden;padding: 0;position: absolute;width: 1px;}#sk-container-id-5 div.sk-estimator {font-family: monospace;background-color: #f0f8ff;border: 1px dotted black;border-radius: 0.25em;box-sizing: border-box;margin-bottom: 0.5em;}#sk-container-id-5 div.sk-estimator:hover {background-color: #d4ebff;}#sk-container-id-5 div.sk-parallel-item::after {content: \"\";width: 100%;border-bottom: 1px solid gray;flex-grow: 1;}#sk-container-id-5 div.sk-label:hover label.sk-toggleable__label {background-color: #d4ebff;}#sk-container-id-5 div.sk-serial::before {content: \"\";position: absolute;border-left: 1px solid gray;box-sizing: border-box;top: 0;bottom: 0;left: 50%;z-index: 0;}#sk-container-id-5 div.sk-serial {display: flex;flex-direction: column;align-items: center;background-color: white;padding-right: 0.2em;padding-left: 0.2em;position: relative;}#sk-container-id-5 div.sk-item {position: relative;z-index: 1;}#sk-container-id-5 div.sk-parallel {display: flex;align-items: stretch;justify-content: center;background-color: white;position: relative;}#sk-container-id-5 div.sk-item::before, #sk-container-id-5 div.sk-parallel-item::before {content: \"\";position: absolute;border-left: 1px solid gray;box-sizing: border-box;top: 0;bottom: 0;left: 50%;z-index: -1;}#sk-container-id-5 div.sk-parallel-item {display: flex;flex-direction: column;z-index: 1;position: relative;background-color: white;}#sk-container-id-5 div.sk-parallel-item:first-child::after {align-self: flex-end;width: 50%;}#sk-container-id-5 div.sk-parallel-item:last-child::after {align-self: flex-start;width: 50%;}#sk-container-id-5 div.sk-parallel-item:only-child::after {width: 0;}#sk-container-id-5 div.sk-dashed-wrapped {border: 1px dashed gray;margin: 0 0.4em 0.5em 0.4em;box-sizing: border-box;padding-bottom: 0.4em;background-color: white;}#sk-container-id-5 div.sk-label label {font-family: monospace;font-weight: bold;display: inline-block;line-height: 1.2em;}#sk-container-id-5 div.sk-label-container {text-align: center;}#sk-container-id-5 div.sk-container {/* jupyter's `normalize.less` sets `[hidden] { display: none; }` but bootstrap.min.css set `[hidden] { display: none !important; }` so we also need the `!important` here to be able to override the default hidden behavior on the sphinx rendered scikit-learn.org. See: https://github.com/scikit-learn/scikit-learn/issues/21755 */display: inline-block !important;position: relative;}#sk-container-id-5 div.sk-text-repr-fallback {display: none;}</style><div id=\"sk-container-id-5\" class=\"sk-top-container\"><div class=\"sk-text-repr-fallback\"><pre>RandomForestClassifier(max_depth=24, min_samples_leaf=24, min_samples_split=28,\n",
       "                       n_estimators=31, random_state=42)</pre><b>In a Jupyter environment, please rerun this cell to show the HTML representation or trust the notebook. <br />On GitHub, the HTML representation is unable to render, please try loading this page with nbviewer.org.</b></div><div class=\"sk-container\" hidden><div class=\"sk-item\"><div class=\"sk-estimator sk-toggleable\"><input class=\"sk-toggleable__control sk-hidden--visually\" id=\"sk-estimator-id-7\" type=\"checkbox\" checked><label for=\"sk-estimator-id-7\" class=\"sk-toggleable__label sk-toggleable__label-arrow\">RandomForestClassifier</label><div class=\"sk-toggleable__content\"><pre>RandomForestClassifier(max_depth=24, min_samples_leaf=24, min_samples_split=28,\n",
       "                       n_estimators=31, random_state=42)</pre></div></div></div></div></div>"
      ],
      "text/plain": [
       "RandomForestClassifier(max_depth=24, min_samples_leaf=24, min_samples_split=28,\n",
       "                       n_estimators=31, random_state=42)"
      ]
     },
     "execution_count": 44,
     "metadata": {},
     "output_type": "execute_result"
    }
   ],
   "source": [
    "rf = RandomForestClassifier(n_estimators=31,min_samples_split=28,min_samples_leaf=24,max_depth=24,criterion='gini',\n",
    "                            max_features='sqrt',random_state=42)\n",
    "rf.fit(X_train_SMOTE,y_train_SMOTE)"
   ]
  },
  {
   "cell_type": "code",
   "execution_count": 45,
   "id": "ef5153db-8a66-47b3-983e-fa77cfe135a8",
   "metadata": {},
   "outputs": [
    {
     "name": "stdout",
     "output_type": "stream",
     "text": [
      "Accuracy Test :87.34%\n",
      "Accuracy Train :88.19%\n",
      "Precission Test :49.02%\n",
      "Precission Train:88.87%\n",
      "Recall Test :81.5%\n",
      "Recall Train :87.33%\n",
      "F1 Test :61.22%\n",
      "F1 Train :88.09%\n",
      "AUC Test : 90.57%\n",
      "AUC Train : 94.22%\n",
      "\n",
      "\n"
     ]
    }
   ],
   "source": [
    "y_pred = rf.predict(X_test)\n",
    "y_pred_proba = rf.predict_proba(X_test)[:,1]\n",
    "y_pred_train = rf.predict(X_train_SMOTE)\n",
    "y_pred_proba_train = rf.predict_proba(X_train_SMOTE)[:,1]\n",
    "    \n",
    "accuracy_test = metrics.accuracy_score(y_test,y_pred)\n",
    "print(\"Accuracy Test :\" + str(round(accuracy_test*100,2)) + '%')\n",
    "accuracy_train = metrics.accuracy_score(y_train_SMOTE,y_pred_train)\n",
    "print(\"Accuracy Train :\" + str(round(accuracy_train*100,2)) + '%')\n",
    "    \n",
    "precission_test = metrics.precision_score(y_test,y_pred,pos_label=1)\n",
    "print(\"Precission Test :\" + str(round(precission_test*100,2)) + '%')\n",
    "precission_train = metrics.precision_score(y_train_SMOTE,y_pred_train,pos_label=1)\n",
    "print(\"Precission Train:\" + str(round(precission_train*100,2)) + '%')\n",
    "\n",
    "recall_test = metrics.recall_score(y_test,y_pred,pos_label=1)\n",
    "print(\"Recall Test :\" + str(round(recall_test*100,2)) + '%')\n",
    "recall_train = metrics.recall_score(y_train_SMOTE,y_pred_train,pos_label=1)\n",
    "print(\"Recall Train :\" + str(round(recall_train*100,2)) + '%')\n",
    "\n",
    "f1_test = metrics.f1_score(y_test,y_pred,pos_label=1)\n",
    "print(\"F1 Test :\" + str(round(f1_test*100,2)) + '%')\n",
    "f1_train = metrics.f1_score(y_train_SMOTE,y_pred_train,pos_label=1)\n",
    "print(\"F1 Train :\" + str(round(f1_train*100,2)) + '%')\n",
    "\n",
    "fpr_test, tpr_test, thresholds_test = metrics.roc_curve(y_test, y_pred_proba, pos_label=1)\n",
    "auc_test = metrics.auc(fpr_test, tpr_test)\n",
    "print(\"AUC Test : \"+str(round(auc_test*100,2))+'%')\n",
    "fpr_train, tpr_train, thresholds_train = metrics.roc_curve(y_train_SMOTE, y_pred_proba_train, pos_label=1)\n",
    "auc_train = metrics.auc(fpr_train, tpr_train)\n",
    "print(\"AUC Train : \"+str(round(auc_train*100,2))+'%')\n",
    "print(\"\\n\")"
   ]
  },
  {
   "cell_type": "code",
   "execution_count": 46,
   "id": "7b08d5c1-a187-4526-8d63-c338d93039f3",
   "metadata": {},
   "outputs": [
    {
     "data": {
      "image/png": "[encoded data removed]",
      "text/plain": [
       "<Figure size 432x288 with 2 Axes>"
      ]
     },
     "metadata": {
      "needs_background": "light"
     },
     "output_type": "display_data"
    }
   ],
   "source": [
    "cm = confusion_matrix(y_test,y_pred)\n",
    "cm_display = metrics.ConfusionMatrixDisplay(confusion_matrix = cm, display_labels = ['Tidak Gagal Bayar','Gagal Bayar'])\n",
    "\n",
    "cm_display.plot()\n",
    "plt.show()"
   ]
  }
 ],
 "metadata": {
  "kernelspec": {
   "display_name": "Python 3 (ipykernel)",
   "language": "python",
   "name": "python3"
  },
  "language_info": {
   "codemirror_mode": {
    "name": "ipython",
    "version": 3
   },
   "file_extension": ".py",
   "mimetype": "text/x-python",
   "name": "python",
   "nbconvert_exporter": "python",
   "pygments_lexer": "ipython3",
   "version": "3.9.7"
  }
 },
 "nbformat": 4,
 "nbformat_minor": 5
}
