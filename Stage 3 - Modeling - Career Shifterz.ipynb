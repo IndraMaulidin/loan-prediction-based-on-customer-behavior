{
 "cells": [
  {
   "cell_type": "markdown",
   "id": "474a8ba0-9023-49f1-b10a-2ce9c88fd193",
   "metadata": {},
   "source": [
    "# Career Shifterz\n",
    "Nama :\n",
    "- Auviera Pascafiwi\n",
    "- Fahmy Rafian S\n",
    "- Fu’ad Saifuddin\n",
    "- Indra Maulidin\n",
    "- Luthfan Zulfahmi\n",
    "- Wenvint"
   ]
  },
  {
   "cell_type": "markdown",
   "id": "c18fda21-cb38-4943-a1ce-75ec92a1be68",
   "metadata": {},
   "source": [
    "## Import Library"
   ]
  },
  {
   "cell_type": "code",
   "execution_count": 1,
   "id": "789d2549-5a98-41f3-ba69-8bca6aa6d20d",
   "metadata": {},
   "outputs": [],
   "source": [
    "import numpy as np\n",
    "import pandas as pd\n",
    "import matplotlib.pyplot as plt\n",
    "import seaborn as sns\n",
    "from sklearn.preprocessing import MinMaxScaler, StandardScaler\n",
    "from imblearn import under_sampling, over_sampling"
   ]
  },
  {
   "cell_type": "markdown",
   "id": "d0d3adc7-01ac-4469-9d63-c3219e33d0fd",
   "metadata": {},
   "source": [
    "## Read Data"
   ]
  },
  {
   "cell_type": "code",
   "execution_count": 2,
   "id": "923ab42c-0805-4b04-968f-8879c657140c",
   "metadata": {},
   "outputs": [
    {
     "data": {
      "text/html": [
       "<div>\n",
       "<style scoped>\n",
       "    .dataframe tbody tr th:only-of-type {\n",
       "        vertical-align: middle;\n",
       "    }\n",
       "\n",
       "    .dataframe tbody tr th {\n",
       "        vertical-align: top;\n",
       "    }\n",
       "\n",
       "    .dataframe thead th {\n",
       "        text-align: right;\n",
       "    }\n",
       "</style>\n",
       "<table border=\"1\" class=\"dataframe\">\n",
       "  <thead>\n",
       "    <tr style=\"text-align: right;\">\n",
       "      <th></th>\n",
       "      <th>Id</th>\n",
       "      <th>Income</th>\n",
       "      <th>Age</th>\n",
       "      <th>Experience</th>\n",
       "      <th>Married/Single</th>\n",
       "      <th>House_Ownership</th>\n",
       "      <th>Car_Ownership</th>\n",
       "      <th>Profession</th>\n",
       "      <th>CITY</th>\n",
       "      <th>STATE</th>\n",
       "      <th>CURRENT_JOB_YRS</th>\n",
       "      <th>CURRENT_HOUSE_YRS</th>\n",
       "      <th>Risk_Flag</th>\n",
       "    </tr>\n",
       "  </thead>\n",
       "  <tbody>\n",
       "    <tr>\n",
       "      <th>7775</th>\n",
       "      <td>7776</td>\n",
       "      <td>74431</td>\n",
       "      <td>65</td>\n",
       "      <td>14</td>\n",
       "      <td>single</td>\n",
       "      <td>rented</td>\n",
       "      <td>no</td>\n",
       "      <td>Magistrate</td>\n",
       "      <td>Tirupati[21][22]</td>\n",
       "      <td>Andhra_Pradesh</td>\n",
       "      <td>3</td>\n",
       "      <td>14</td>\n",
       "      <td>0</td>\n",
       "    </tr>\n",
       "    <tr>\n",
       "      <th>233386</th>\n",
       "      <td>233387</td>\n",
       "      <td>6652567</td>\n",
       "      <td>78</td>\n",
       "      <td>18</td>\n",
       "      <td>single</td>\n",
       "      <td>rented</td>\n",
       "      <td>no</td>\n",
       "      <td>Chef</td>\n",
       "      <td>Deoghar</td>\n",
       "      <td>Jharkhand</td>\n",
       "      <td>3</td>\n",
       "      <td>10</td>\n",
       "      <td>0</td>\n",
       "    </tr>\n",
       "    <tr>\n",
       "      <th>39897</th>\n",
       "      <td>39898</td>\n",
       "      <td>4742685</td>\n",
       "      <td>38</td>\n",
       "      <td>2</td>\n",
       "      <td>single</td>\n",
       "      <td>rented</td>\n",
       "      <td>yes</td>\n",
       "      <td>Petroleum_Engineer</td>\n",
       "      <td>Guntakal</td>\n",
       "      <td>Andhra_Pradesh</td>\n",
       "      <td>2</td>\n",
       "      <td>12</td>\n",
       "      <td>0</td>\n",
       "    </tr>\n",
       "    <tr>\n",
       "      <th>25408</th>\n",
       "      <td>25409</td>\n",
       "      <td>8986859</td>\n",
       "      <td>56</td>\n",
       "      <td>3</td>\n",
       "      <td>single</td>\n",
       "      <td>owned</td>\n",
       "      <td>yes</td>\n",
       "      <td>Web_designer</td>\n",
       "      <td>Ujjain</td>\n",
       "      <td>Madhya_Pradesh</td>\n",
       "      <td>3</td>\n",
       "      <td>14</td>\n",
       "      <td>0</td>\n",
       "    </tr>\n",
       "    <tr>\n",
       "      <th>224180</th>\n",
       "      <td>224181</td>\n",
       "      <td>4794436</td>\n",
       "      <td>46</td>\n",
       "      <td>20</td>\n",
       "      <td>single</td>\n",
       "      <td>rented</td>\n",
       "      <td>no</td>\n",
       "      <td>Design_Engineer</td>\n",
       "      <td>Munger</td>\n",
       "      <td>Bihar</td>\n",
       "      <td>6</td>\n",
       "      <td>10</td>\n",
       "      <td>0</td>\n",
       "    </tr>\n",
       "  </tbody>\n",
       "</table>\n",
       "</div>"
      ],
      "text/plain": [
       "            Id   Income  Age  Experience Married/Single House_Ownership  \\\n",
       "7775      7776    74431   65          14         single          rented   \n",
       "233386  233387  6652567   78          18         single          rented   \n",
       "39897    39898  4742685   38           2         single          rented   \n",
       "25408    25409  8986859   56           3         single           owned   \n",
       "224180  224181  4794436   46          20         single          rented   \n",
       "\n",
       "       Car_Ownership          Profession              CITY           STATE  \\\n",
       "7775              no          Magistrate  Tirupati[21][22]  Andhra_Pradesh   \n",
       "233386            no                Chef           Deoghar       Jharkhand   \n",
       "39897            yes  Petroleum_Engineer          Guntakal  Andhra_Pradesh   \n",
       "25408            yes        Web_designer            Ujjain  Madhya_Pradesh   \n",
       "224180            no     Design_Engineer            Munger           Bihar   \n",
       "\n",
       "        CURRENT_JOB_YRS  CURRENT_HOUSE_YRS  Risk_Flag  \n",
       "7775                  3                 14          0  \n",
       "233386                3                 10          0  \n",
       "39897                 2                 12          0  \n",
       "25408                 3                 14          0  \n",
       "224180                6                 10          0  "
      ]
     },
     "execution_count": 2,
     "metadata": {},
     "output_type": "execute_result"
    }
   ],
   "source": [
    "df = pd.read_csv('D:\\Rakamyn DS Batch 23\\Final Project\\Loan Prediction\\Training Data.csv')\n",
    "df.sample(5)"
   ]
  },
  {
   "cell_type": "markdown",
   "id": "78bf07c2-04c6-4b49-ba4a-64633f0bf671",
   "metadata": {},
   "source": [
    "## Label Encoding"
   ]
  },
  {
   "cell_type": "code",
   "execution_count": 3,
   "id": "1aa63780-8d3b-4be3-a631-3f49304bb4ef",
   "metadata": {},
   "outputs": [],
   "source": [
    "mapping_m_s = {\n",
    "    'single' : 0,\n",
    "    'married' : 1\n",
    "}\n",
    "\n",
    "mapping_car = {\n",
    "    'no' : 0,\n",
    "    'yes' :1\n",
    "}\n",
    "\n",
    "df['Married/Single'] = df['Married/Single'].map(mapping_m_s)\n",
    "df['Car_Ownership'] = df['Car_Ownership'].map(mapping_car)"
   ]
  },
  {
   "cell_type": "code",
   "execution_count": 4,
   "id": "99962c15-7c53-43c2-8b4c-7567c85fff25",
   "metadata": {},
   "outputs": [],
   "source": [
    "house_category = pd.get_dummies(df['House_Ownership'], prefix='house')\n",
    "\n",
    "df = df.join(house_category)"
   ]
  },
  {
   "cell_type": "code",
   "execution_count": 5,
   "id": "19769a9e-704c-414f-ad2b-0f5704bd4613",
   "metadata": {},
   "outputs": [
    {
     "data": {
      "text/html": [
       "<div>\n",
       "<style scoped>\n",
       "    .dataframe tbody tr th:only-of-type {\n",
       "        vertical-align: middle;\n",
       "    }\n",
       "\n",
       "    .dataframe tbody tr th {\n",
       "        vertical-align: top;\n",
       "    }\n",
       "\n",
       "    .dataframe thead th {\n",
       "        text-align: right;\n",
       "    }\n",
       "</style>\n",
       "<table border=\"1\" class=\"dataframe\">\n",
       "  <thead>\n",
       "    <tr style=\"text-align: right;\">\n",
       "      <th></th>\n",
       "      <th>Id</th>\n",
       "      <th>Income</th>\n",
       "      <th>Age</th>\n",
       "      <th>Experience</th>\n",
       "      <th>Married/Single</th>\n",
       "      <th>House_Ownership</th>\n",
       "      <th>Car_Ownership</th>\n",
       "      <th>Profession</th>\n",
       "      <th>CITY</th>\n",
       "      <th>STATE</th>\n",
       "      <th>CURRENT_JOB_YRS</th>\n",
       "      <th>CURRENT_HOUSE_YRS</th>\n",
       "      <th>Risk_Flag</th>\n",
       "      <th>house_norent_noown</th>\n",
       "      <th>house_owned</th>\n",
       "      <th>house_rented</th>\n",
       "    </tr>\n",
       "  </thead>\n",
       "  <tbody>\n",
       "    <tr>\n",
       "      <th>57408</th>\n",
       "      <td>57409</td>\n",
       "      <td>8440968</td>\n",
       "      <td>22</td>\n",
       "      <td>12</td>\n",
       "      <td>0</td>\n",
       "      <td>rented</td>\n",
       "      <td>0</td>\n",
       "      <td>Design_Engineer</td>\n",
       "      <td>Saharsa[29]</td>\n",
       "      <td>Bihar</td>\n",
       "      <td>5</td>\n",
       "      <td>12</td>\n",
       "      <td>0</td>\n",
       "      <td>0</td>\n",
       "      <td>0</td>\n",
       "      <td>1</td>\n",
       "    </tr>\n",
       "    <tr>\n",
       "      <th>156284</th>\n",
       "      <td>156285</td>\n",
       "      <td>4804453</td>\n",
       "      <td>41</td>\n",
       "      <td>0</td>\n",
       "      <td>0</td>\n",
       "      <td>rented</td>\n",
       "      <td>0</td>\n",
       "      <td>Dentist</td>\n",
       "      <td>Bardhaman</td>\n",
       "      <td>West_Bengal</td>\n",
       "      <td>0</td>\n",
       "      <td>14</td>\n",
       "      <td>0</td>\n",
       "      <td>0</td>\n",
       "      <td>0</td>\n",
       "      <td>1</td>\n",
       "    </tr>\n",
       "    <tr>\n",
       "      <th>194157</th>\n",
       "      <td>194158</td>\n",
       "      <td>9130139</td>\n",
       "      <td>40</td>\n",
       "      <td>11</td>\n",
       "      <td>1</td>\n",
       "      <td>rented</td>\n",
       "      <td>0</td>\n",
       "      <td>Chef</td>\n",
       "      <td>Gulbarga</td>\n",
       "      <td>Karnataka</td>\n",
       "      <td>5</td>\n",
       "      <td>12</td>\n",
       "      <td>0</td>\n",
       "      <td>0</td>\n",
       "      <td>0</td>\n",
       "      <td>1</td>\n",
       "    </tr>\n",
       "    <tr>\n",
       "      <th>130135</th>\n",
       "      <td>130136</td>\n",
       "      <td>1171901</td>\n",
       "      <td>57</td>\n",
       "      <td>10</td>\n",
       "      <td>0</td>\n",
       "      <td>norent_noown</td>\n",
       "      <td>1</td>\n",
       "      <td>Financial_Analyst</td>\n",
       "      <td>Buxar[37]</td>\n",
       "      <td>Bihar</td>\n",
       "      <td>9</td>\n",
       "      <td>12</td>\n",
       "      <td>0</td>\n",
       "      <td>1</td>\n",
       "      <td>0</td>\n",
       "      <td>0</td>\n",
       "    </tr>\n",
       "    <tr>\n",
       "      <th>24510</th>\n",
       "      <td>24511</td>\n",
       "      <td>2859480</td>\n",
       "      <td>30</td>\n",
       "      <td>14</td>\n",
       "      <td>0</td>\n",
       "      <td>owned</td>\n",
       "      <td>0</td>\n",
       "      <td>Technician</td>\n",
       "      <td>Sri_Ganganagar</td>\n",
       "      <td>Rajasthan</td>\n",
       "      <td>10</td>\n",
       "      <td>12</td>\n",
       "      <td>1</td>\n",
       "      <td>0</td>\n",
       "      <td>1</td>\n",
       "      <td>0</td>\n",
       "    </tr>\n",
       "  </tbody>\n",
       "</table>\n",
       "</div>"
      ],
      "text/plain": [
       "            Id   Income  Age  Experience  Married/Single House_Ownership  \\\n",
       "57408    57409  8440968   22          12               0          rented   \n",
       "156284  156285  4804453   41           0               0          rented   \n",
       "194157  194158  9130139   40          11               1          rented   \n",
       "130135  130136  1171901   57          10               0    norent_noown   \n",
       "24510    24511  2859480   30          14               0           owned   \n",
       "\n",
       "        Car_Ownership         Profession            CITY        STATE  \\\n",
       "57408               0    Design_Engineer     Saharsa[29]        Bihar   \n",
       "156284              0            Dentist       Bardhaman  West_Bengal   \n",
       "194157              0               Chef        Gulbarga    Karnataka   \n",
       "130135              1  Financial_Analyst       Buxar[37]        Bihar   \n",
       "24510               0         Technician  Sri_Ganganagar    Rajasthan   \n",
       "\n",
       "        CURRENT_JOB_YRS  CURRENT_HOUSE_YRS  Risk_Flag  house_norent_noown  \\\n",
       "57408                 5                 12          0                   0   \n",
       "156284                0                 14          0                   0   \n",
       "194157                5                 12          0                   0   \n",
       "130135                9                 12          0                   1   \n",
       "24510                10                 12          1                   0   \n",
       "\n",
       "        house_owned  house_rented  \n",
       "57408             0             1  \n",
       "156284            0             1  \n",
       "194157            0             1  \n",
       "130135            0             0  \n",
       "24510             1             0  "
      ]
     },
     "execution_count": 5,
     "metadata": {},
     "output_type": "execute_result"
    }
   ],
   "source": [
    "df.sample(5)"
   ]
  },
  {
   "cell_type": "markdown",
   "id": "63bd9d3e-ab59-4976-9c55-506701079894",
   "metadata": {},
   "source": [
    "## Split Data Train dan Test"
   ]
  },
  {
   "cell_type": "code",
   "execution_count": 6,
   "id": "3b8ccbd8-e18b-4cdc-a10d-452abf3d959f",
   "metadata": {},
   "outputs": [
    {
     "data": {
      "text/plain": [
       "Index(['Id', 'Income', 'Age', 'Experience', 'Married/Single',\n",
       "       'House_Ownership', 'Car_Ownership', 'Profession', 'CITY', 'STATE',\n",
       "       'CURRENT_JOB_YRS', 'CURRENT_HOUSE_YRS', 'Risk_Flag',\n",
       "       'house_norent_noown', 'house_owned', 'house_rented'],\n",
       "      dtype='object')"
      ]
     },
     "execution_count": 6,
     "metadata": {},
     "output_type": "execute_result"
    }
   ],
   "source": [
    "df.columns"
   ]
  },
  {
   "cell_type": "code",
   "execution_count": 7,
   "id": "5f379dfa-a35a-4217-a340-fc547cdb19c5",
   "metadata": {},
   "outputs": [],
   "source": [
    "X = df.drop(columns = ['Id','House_Ownership','Profession','CITY','STATE','Risk_Flag'])\n",
    "y = df['Risk_Flag']"
   ]
  },
  {
   "cell_type": "code",
   "execution_count": 8,
   "id": "6a0ff77f-b1d2-42cd-9e33-4f7277153809",
   "metadata": {},
   "outputs": [],
   "source": [
    "from sklearn.model_selection import train_test_split"
   ]
  },
  {
   "cell_type": "code",
   "execution_count": 9,
   "id": "68485cbf-91b2-4960-b460-3432df4aaf61",
   "metadata": {},
   "outputs": [],
   "source": [
    "X_train, X_test, y_train, y_test = train_test_split(X,y, test_size=0.3, random_state=42)"
   ]
  },
  {
   "cell_type": "markdown",
   "id": "e8c332c5-d0e4-43c8-8106-4319c1320bc1",
   "metadata": {},
   "source": [
    "## Modeling"
   ]
  },
  {
   "cell_type": "code",
   "execution_count": 10,
   "id": "36117982-3230-4dd4-bb08-b5c9c02197fd",
   "metadata": {},
   "outputs": [],
   "source": [
    "from sklearn.tree import DecisionTreeClassifier\n",
    "from sklearn.ensemble import RandomForestClassifier\n",
    "from sklearn.neighbors import KNeighborsClassifier\n",
    "from sklearn.ensemble import AdaBoostClassifier\n",
    "from xgboost import XGBClassifier"
   ]
  },
  {
   "cell_type": "code",
   "execution_count": 11,
   "id": "a6552bf3-6ef4-4b14-a7a4-1e36b5eca2b4",
   "metadata": {},
   "outputs": [],
   "source": [
    "from sklearn import metrics"
   ]
  },
  {
   "cell_type": "code",
   "execution_count": 12,
   "id": "e203793d-650e-42bf-ab5a-d7c30b5a20d2",
   "metadata": {},
   "outputs": [
    {
     "name": "stdout",
     "output_type": "stream",
     "text": [
      "Evaluate model: DecisionTree\n",
      "Accuracy Test :88.21%\n",
      "Precission Test :51.71%\n",
      "Recall Test :58.06%\n",
      "F1 Test :54.71%\n",
      "AUC Test : 85.21%\n",
      "\n",
      "\n",
      "Evaluate model: RandomForest\n",
      "Accuracy Test :89.72%\n",
      "Precission Test :58.64%\n",
      "Recall Test :54.84%\n",
      "F1 Test :56.67%\n",
      "AUC Test : 93.55%\n",
      "\n",
      "\n",
      "Evaluate model: KNeighbors\n",
      "Accuracy Test :88.9%\n",
      "Precission Test :55.19%\n",
      "Recall Test :50.59%\n",
      "F1 Test :52.79%\n",
      "AUC Test : 87.32%\n",
      "\n",
      "\n",
      "Evaluate model: AdaBoost\n",
      "Accuracy Test :87.75%\n",
      "Precission Test :84.62%\n",
      "Recall Test :0.12%\n",
      "F1 Test :0.24%\n",
      "AUC Test : 58.03%\n",
      "\n",
      "\n",
      "Evaluate model: XGB\n",
      "Accuracy Test :88.46%\n",
      "Precission Test :66.79%\n",
      "Recall Test :11.76%\n",
      "F1 Test :19.99%\n",
      "AUC Test : 86.53%\n",
      "\n",
      "\n"
     ]
    }
   ],
   "source": [
    "models = {\n",
    "    \"DecisionTree\" : DecisionTreeClassifier(random_state=42),\n",
    "    \"RandomForest\" : RandomForestClassifier(random_state=42),\n",
    "    \"KNeighbors\" : KNeighborsClassifier(),\n",
    "    \"AdaBoost\" : AdaBoostClassifier(random_state=42),\n",
    "    \"XGB\" : XGBClassifier()\n",
    "}\n",
    "\n",
    "for model_name, clf in models.items() :\n",
    "    clf.fit(X_train,y_train)\n",
    "    y_pred = clf.predict(X_test)\n",
    "    y_pred_proba = clf.predict_proba(X_test)[:,1]\n",
    "    \n",
    "    print(\"Evaluate model: {}\".format(model_name))\n",
    "    \n",
    "    accuracy_test = metrics.accuracy_score(y_test,y_pred)\n",
    "    print(\"Accuracy Test :\" + str(round(accuracy_test*100,2)) + '%')\n",
    "    precission_test = metrics.precision_score(y_test,y_pred,pos_label=1)\n",
    "    print(\"Precission Test :\" + str(round(precission_test*100,2)) + '%')\n",
    "    recall_test = metrics.recall_score(y_test,y_pred,pos_label=1)\n",
    "    print(\"Recall Test :\" + str(round(recall_test*100,2)) + '%')\n",
    "    f1_test = metrics.f1_score(y_test,y_pred,pos_label=1)\n",
    "    print(\"F1 Test :\" + str(round(f1_test*100,2)) + '%')\n",
    "    fpr_test, tpr_test, thresholds_test = metrics.roc_curve(y_test, y_pred_proba, pos_label=1)\n",
    "    auc_test = metrics.auc(fpr_test, tpr_test)\n",
    "    print(\"AUC Test : \"+str(round(auc_test*100,2))+'%')\n",
    "    print(\"\\n\")"
   ]
  },
  {
   "cell_type": "markdown",
   "id": "95b864c2-2ac4-4df3-845a-2090649c85a1",
   "metadata": {},
   "source": [
    "__Kesimpulan__ :\n",
    "- Berdasarkan hasil uji Korelasi saat proses EDA, __korelasi antara Features dan Label bersifat Non-Linier__ sehingga Model yang __Robust__ terhadap Nilai Non-Linier seperti __Decision Tree, Random Forest Classifier dan K Neighbors Classifier__ akan memiliki Score Performance yang baik.\n",
    "- Berdasarkan Beberapa Model Algoritma yang telah diuji, Algoritma __Random Forest Classifier__ memiliki Score Performance cukup baik untuk setiap Metricsnya dibandingkan dengan Algoritma yang lain.\n",
    "- Maka berdasarkan hasil uji coba tersebut, untuk proses selanjutnya akan digunakan Model Algoritma __Random Forest Classifier__."
   ]
  },
  {
   "cell_type": "code",
   "execution_count": 13,
   "id": "9c17521c-66fa-45de-b632-d34e10c9451e",
   "metadata": {},
   "outputs": [
    {
     "data": {
      "text/html": [
       "<style>#sk-container-id-1 {color: black;background-color: white;}#sk-container-id-1 pre{padding: 0;}#sk-container-id-1 div.sk-toggleable {background-color: white;}#sk-container-id-1 label.sk-toggleable__label {cursor: pointer;display: block;width: 100%;margin-bottom: 0;padding: 0.3em;box-sizing: border-box;text-align: center;}#sk-container-id-1 label.sk-toggleable__label-arrow:before {content: \"▸\";float: left;margin-right: 0.25em;color: #696969;}#sk-container-id-1 label.sk-toggleable__label-arrow:hover:before {color: black;}#sk-container-id-1 div.sk-estimator:hover label.sk-toggleable__label-arrow:before {color: black;}#sk-container-id-1 div.sk-toggleable__content {max-height: 0;max-width: 0;overflow: hidden;text-align: left;background-color: #f0f8ff;}#sk-container-id-1 div.sk-toggleable__content pre {margin: 0.2em;color: black;border-radius: 0.25em;background-color: #f0f8ff;}#sk-container-id-1 input.sk-toggleable__control:checked~div.sk-toggleable__content {max-height: 200px;max-width: 100%;overflow: auto;}#sk-container-id-1 input.sk-toggleable__control:checked~label.sk-toggleable__label-arrow:before {content: \"▾\";}#sk-container-id-1 div.sk-estimator input.sk-toggleable__control:checked~label.sk-toggleable__label {background-color: #d4ebff;}#sk-container-id-1 div.sk-label input.sk-toggleable__control:checked~label.sk-toggleable__label {background-color: #d4ebff;}#sk-container-id-1 input.sk-hidden--visually {border: 0;clip: rect(1px 1px 1px 1px);clip: rect(1px, 1px, 1px, 1px);height: 1px;margin: -1px;overflow: hidden;padding: 0;position: absolute;width: 1px;}#sk-container-id-1 div.sk-estimator {font-family: monospace;background-color: #f0f8ff;border: 1px dotted black;border-radius: 0.25em;box-sizing: border-box;margin-bottom: 0.5em;}#sk-container-id-1 div.sk-estimator:hover {background-color: #d4ebff;}#sk-container-id-1 div.sk-parallel-item::after {content: \"\";width: 100%;border-bottom: 1px solid gray;flex-grow: 1;}#sk-container-id-1 div.sk-label:hover label.sk-toggleable__label {background-color: #d4ebff;}#sk-container-id-1 div.sk-serial::before {content: \"\";position: absolute;border-left: 1px solid gray;box-sizing: border-box;top: 0;bottom: 0;left: 50%;z-index: 0;}#sk-container-id-1 div.sk-serial {display: flex;flex-direction: column;align-items: center;background-color: white;padding-right: 0.2em;padding-left: 0.2em;position: relative;}#sk-container-id-1 div.sk-item {position: relative;z-index: 1;}#sk-container-id-1 div.sk-parallel {display: flex;align-items: stretch;justify-content: center;background-color: white;position: relative;}#sk-container-id-1 div.sk-item::before, #sk-container-id-1 div.sk-parallel-item::before {content: \"\";position: absolute;border-left: 1px solid gray;box-sizing: border-box;top: 0;bottom: 0;left: 50%;z-index: -1;}#sk-container-id-1 div.sk-parallel-item {display: flex;flex-direction: column;z-index: 1;position: relative;background-color: white;}#sk-container-id-1 div.sk-parallel-item:first-child::after {align-self: flex-end;width: 50%;}#sk-container-id-1 div.sk-parallel-item:last-child::after {align-self: flex-start;width: 50%;}#sk-container-id-1 div.sk-parallel-item:only-child::after {width: 0;}#sk-container-id-1 div.sk-dashed-wrapped {border: 1px dashed gray;margin: 0 0.4em 0.5em 0.4em;box-sizing: border-box;padding-bottom: 0.4em;background-color: white;}#sk-container-id-1 div.sk-label label {font-family: monospace;font-weight: bold;display: inline-block;line-height: 1.2em;}#sk-container-id-1 div.sk-label-container {text-align: center;}#sk-container-id-1 div.sk-container {/* jupyter's `normalize.less` sets `[hidden] { display: none; }` but bootstrap.min.css set `[hidden] { display: none !important; }` so we also need the `!important` here to be able to override the default hidden behavior on the sphinx rendered scikit-learn.org. See: https://github.com/scikit-learn/scikit-learn/issues/21755 */display: inline-block !important;position: relative;}#sk-container-id-1 div.sk-text-repr-fallback {display: none;}</style><div id=\"sk-container-id-1\" class=\"sk-top-container\"><div class=\"sk-text-repr-fallback\"><pre>RandomForestClassifier(random_state=42)</pre><b>In a Jupyter environment, please rerun this cell to show the HTML representation or trust the notebook. <br />On GitHub, the HTML representation is unable to render, please try loading this page with nbviewer.org.</b></div><div class=\"sk-container\" hidden><div class=\"sk-item\"><div class=\"sk-estimator sk-toggleable\"><input class=\"sk-toggleable__control sk-hidden--visually\" id=\"sk-estimator-id-1\" type=\"checkbox\" checked><label for=\"sk-estimator-id-1\" class=\"sk-toggleable__label sk-toggleable__label-arrow\">RandomForestClassifier</label><div class=\"sk-toggleable__content\"><pre>RandomForestClassifier(random_state=42)</pre></div></div></div></div></div>"
      ],
      "text/plain": [
       "RandomForestClassifier(random_state=42)"
      ]
     },
     "execution_count": 13,
     "metadata": {},
     "output_type": "execute_result"
    }
   ],
   "source": [
    "rf = RandomForestClassifier(random_state=42)\n",
    "rf.fit(X_train,y_train)"
   ]
  },
  {
   "cell_type": "code",
   "execution_count": 14,
   "id": "35d634d6-3a08-4e65-9b2c-a69071a0352a",
   "metadata": {},
   "outputs": [
    {
     "name": "stdout",
     "output_type": "stream",
     "text": [
      "Accuracy :89.72%\n",
      "Precission :58.64%\n",
      "Recall :54.84%\n",
      "AUC : 93.55%\n"
     ]
    }
   ],
   "source": [
    "y_pred = rf.predict(X_test)\n",
    "y_pred_proba = rf.predict_proba(X_test)[:,1]\n",
    "    \n",
    "accuracy = metrics.accuracy_score(y_test,y_pred)\n",
    "print(\"Accuracy :\" + str(round(accuracy*100,2)) + '%')\n",
    "precission = metrics.precision_score(y_test,y_pred,pos_label=1)\n",
    "print(\"Precission :\" + str(round(precission*100,2)) + '%')\n",
    "recall = metrics.recall_score(y_test,y_pred,pos_label=1)\n",
    "print(\"Recall :\" + str(round(recall*100,2)) + '%')\n",
    "fpr, tpr, thresholds = metrics.roc_curve(y_test, y_pred_proba, pos_label=1)\n",
    "auc_test = metrics.auc(fpr, tpr)\n",
    "print(\"AUC : \"+str(round(auc_test*100,2))+'%')"
   ]
  },
  {
   "cell_type": "code",
   "execution_count": 15,
   "id": "4398ff45-b6fb-4924-a3b0-8f0070a3d93c",
   "metadata": {},
   "outputs": [
    {
     "data": {
      "text/plain": [
       "Text(0.5, 1.0, 'feature importance score')"
      ]
     },
     "execution_count": 15,
     "metadata": {},
     "output_type": "execute_result"
    },
    {
     "data": {
      "image/png": "[encoded data removed]",
      "text/plain": [
       "<Figure size 720x576 with 1 Axes>"
      ]
     },
     "metadata": {
      "needs_background": "light"
     },
     "output_type": "display_data"
    }
   ],
   "source": [
    "feat_importances = pd.Series(rf.feature_importances_, index=X.columns)\n",
    "ax = feat_importances.nlargest(25).plot(kind='barh', figsize=(10, 8))\n",
    "ax.invert_yaxis()\n",
    "\n",
    "plt.xlabel('score')\n",
    "plt.ylabel('feature')\n",
    "plt.title('feature importance score')"
   ]
  },
  {
   "cell_type": "markdown",
   "id": "49bbf932-640b-4fd1-a731-002fa3dd0642",
   "metadata": {},
   "source": [
    "Log Performance"
   ]
  },
  {
   "cell_type": "code",
   "execution_count": 16,
   "id": "309c25e5-1aee-40c4-80ff-8638404df90d",
   "metadata": {},
   "outputs": [
    {
     "name": "stderr",
     "output_type": "stream",
     "text": [
      "C:\\Users\\ASUS\\AppData\\Local\\Temp/ipykernel_15720/3942090338.py:10: FutureWarning: The frame.append method is deprecated and will be removed from pandas in a future version. Use pandas.concat instead.\n",
      "  performance_log = performance_log.append(perf, ignore_index=True)\n"
     ]
    }
   ],
   "source": [
    "performance_log = pd.DataFrame(columns=[\"Experiment\",\"Recall\",\"Accuracy\",\"Precission\",\"AUC\"])\n",
    "\n",
    "perf = {\n",
    "    \"Experiment\": \"initial model (Random Forest)\",\n",
    "    \"Recall\": str(round(recall*100,2))+'%',\n",
    "    \"Accuracy\": str(round(accuracy*100,2))+'%',\n",
    "    \"Precission\": str(round(precission*100,2))+'%',\n",
    "    \"AUC\" : str(round(auc_test*100,2))+'%'\n",
    "}\n",
    "performance_log = performance_log.append(perf, ignore_index=True)"
   ]
  },
  {
   "cell_type": "code",
   "execution_count": 17,
   "id": "79a8f844-75a2-4e02-910e-8fb732ee2ac4",
   "metadata": {},
   "outputs": [
    {
     "data": {
      "text/html": [
       "<div>\n",
       "<style scoped>\n",
       "    .dataframe tbody tr th:only-of-type {\n",
       "        vertical-align: middle;\n",
       "    }\n",
       "\n",
       "    .dataframe tbody tr th {\n",
       "        vertical-align: top;\n",
       "    }\n",
       "\n",
       "    .dataframe thead th {\n",
       "        text-align: right;\n",
       "    }\n",
       "</style>\n",
       "<table border=\"1\" class=\"dataframe\">\n",
       "  <thead>\n",
       "    <tr style=\"text-align: right;\">\n",
       "      <th></th>\n",
       "      <th>Experiment</th>\n",
       "      <th>Recall</th>\n",
       "      <th>Accuracy</th>\n",
       "      <th>Precission</th>\n",
       "      <th>AUC</th>\n",
       "    </tr>\n",
       "  </thead>\n",
       "  <tbody>\n",
       "    <tr>\n",
       "      <th>0</th>\n",
       "      <td>initial model (Random Forest)</td>\n",
       "      <td>54.84%</td>\n",
       "      <td>89.72%</td>\n",
       "      <td>58.64%</td>\n",
       "      <td>93.55%</td>\n",
       "    </tr>\n",
       "  </tbody>\n",
       "</table>\n",
       "</div>"
      ],
      "text/plain": [
       "                      Experiment  Recall Accuracy Precission     AUC\n",
       "0  initial model (Random Forest)  54.84%   89.72%     58.64%  93.55%"
      ]
     },
     "execution_count": 17,
     "metadata": {},
     "output_type": "execute_result"
    }
   ],
   "source": [
    "performance_log"
   ]
  },
  {
   "cell_type": "markdown",
   "id": "13ce5842-d7e7-4f65-966a-5b7da67dbe02",
   "metadata": {},
   "source": [
    "## Model Evaluation : Pemilihan dan perhitungan Metrics"
   ]
  },
  {
   "cell_type": "markdown",
   "id": "5cb44c61-bddc-43b6-b067-8c644a094fa4",
   "metadata": {},
   "source": [
    "### Confusion Matrix"
   ]
  },
  {
   "cell_type": "code",
   "execution_count": 18,
   "id": "6563771c-6be7-4591-beaf-5cbcdfc549a0",
   "metadata": {},
   "outputs": [],
   "source": [
    "from sklearn.metrics import confusion_matrix"
   ]
  },
  {
   "cell_type": "code",
   "execution_count": 19,
   "id": "f0ac69dc-e697-4863-9721-e854071d76d7",
   "metadata": {},
   "outputs": [
    {
     "data": {
      "image/png": "[encoded data removed]",
      "text/plain": [
       "<Figure size 432x288 with 2 Axes>"
      ]
     },
     "metadata": {
      "needs_background": "light"
     },
     "output_type": "display_data"
    }
   ],
   "source": [
    "cm = confusion_matrix(y_test,y_pred)\n",
    "cm_display = metrics.ConfusionMatrixDisplay(confusion_matrix = cm, display_labels = [0,1])\n",
    "\n",
    "cm_display.plot()\n",
    "plt.show()"
   ]
  },
  {
   "cell_type": "markdown",
   "id": "ad41b3a5-e7b4-470e-9665-9f2dd1ab4581",
   "metadata": {},
   "source": [
    "__Kesimpulan__:\n",
    "- Berdasarkan data Confusion Matrix tersebut, data matrix didominasi oleh True Negative. Hal Tersebut dapat disebabkan karena Imbalance Label pada dataset yang didominasi oleh Label Negatif (Risk_Flag = 0).\n",
    "- Pada pemodelan ini kami Fokus ke data __False Negative__, hal tersebut dikarenakan :\n",
    "    - __False Negative__ mengartikan bahwa __Pelanggan yang seharusnya Gagal Bayar tetapi oleh Model diprediksi Tidak Gagal Bayar__.\n",
    "    - Jika nilai __Nilai False Negative terlalu besar__, perusahaan akan mengalami beberapa kerugian seperti :\n",
    "        - Bank dapat mengalami Profit Loss karena Model gagal memprediksi Pelanggan yang Gagal Bayar.\n",
    "        - Tim Kredit Bank dapat mengalami penurunan performa.\n",
    "- Maka pada Pemodelan ini akan menggunakan Metric __Recall__ dalam melakukan evaluasi model.\n",
    "- Tetapi __Score Recall pada model awal sangat rendah__, maka perlu dilakukan __Feature Engineering__."
   ]
  },
  {
   "cell_type": "markdown",
   "id": "ab25c57e-fdeb-43c0-baef-af69aa0af766",
   "metadata": {},
   "source": [
    "### Feature Selection Berdasarkan Feature Importances"
   ]
  },
  {
   "cell_type": "markdown",
   "id": "4c917122-7ecb-4190-a2a2-fc1f8d28733f",
   "metadata": {},
   "source": [
    "Akan digunakan Feature Income, Age, Experience dan CURRENT_HOUSE_YRS. Untuk Feature CURRENT_JOB_YRS didrop karena berkorelasi dengan Feature Experience dan memiliki nilai Importances yang lebih kecil dari Feature Experience. "
   ]
  },
  {
   "cell_type": "code",
   "execution_count": 20,
   "id": "32c02aaf-d0ac-4935-b0b0-f231b630618b",
   "metadata": {},
   "outputs": [],
   "source": [
    "X = df[['Income','Age','Experience','CURRENT_HOUSE_YRS']]\n",
    "y = df['Risk_Flag']"
   ]
  },
  {
   "cell_type": "code",
   "execution_count": 21,
   "id": "3ba6339c-7bed-45f7-ab88-d72f7d92283e",
   "metadata": {},
   "outputs": [],
   "source": [
    "X_train, X_test, y_train, y_test = train_test_split(X,y, test_size=0.3, random_state=42)"
   ]
  },
  {
   "cell_type": "code",
   "execution_count": 22,
   "id": "c7a1343a-dd21-426d-b0a3-62e0232f6e88",
   "metadata": {},
   "outputs": [
    {
     "name": "stdout",
     "output_type": "stream",
     "text": [
      "Accuracy :89.62%\n",
      "Precission :58.09%\n",
      "Recall :55.2%\n",
      "AUC : 93.42%\n"
     ]
    }
   ],
   "source": [
    "rf = RandomForestClassifier(random_state=42)\n",
    "rf.fit(X_train,y_train)\n",
    "\n",
    "y_pred = rf.predict(X_test)\n",
    "y_pred_proba = rf.predict_proba(X_test)[:,1]\n",
    "    \n",
    "accuracy = metrics.accuracy_score(y_test,y_pred)\n",
    "print(\"Accuracy :\" + str(round(accuracy*100,2)) + '%')\n",
    "precission = metrics.precision_score(y_test,y_pred,pos_label=1)\n",
    "print(\"Precission :\" + str(round(precission*100,2)) + '%')\n",
    "recall = metrics.recall_score(y_test,y_pred,pos_label=1)\n",
    "print(\"Recall :\" + str(round(recall*100,2)) + '%')\n",
    "fpr, tpr, thresholds = metrics.roc_curve(y_test, y_pred_proba, pos_label=1)\n",
    "auc_test = metrics.auc(fpr, tpr)\n",
    "print(\"AUC : \"+str(round(auc_test*100,2))+'%')"
   ]
  },
  {
   "cell_type": "markdown",
   "id": "a89a9823-250c-4c3d-b172-a93562d8ef82",
   "metadata": {},
   "source": [
    "Log Performance"
   ]
  },
  {
   "cell_type": "code",
   "execution_count": 23,
   "id": "57c9d620-3bfc-4f73-86e9-e020086107ca",
   "metadata": {},
   "outputs": [
    {
     "name": "stderr",
     "output_type": "stream",
     "text": [
      "C:\\Users\\ASUS\\AppData\\Local\\Temp/ipykernel_15720/2698191364.py:8: FutureWarning: The frame.append method is deprecated and will be removed from pandas in a future version. Use pandas.concat instead.\n",
      "  performance_log = performance_log.append(perf, ignore_index=True)\n"
     ]
    }
   ],
   "source": [
    "perf = {\n",
    "    \"Experiment\": \"Feature Selection from Feature Importances\",\n",
    "    \"Recall\": str(round(recall*100,2))+'%',\n",
    "    \"Accuracy\": str(round(accuracy*100,2))+'%',\n",
    "    \"Precission\": str(round(precission*100,2))+'%',\n",
    "    \"AUC\" : str(round(auc_test*100,2))+'%'\n",
    "}\n",
    "performance_log = performance_log.append(perf, ignore_index=True)"
   ]
  },
  {
   "cell_type": "code",
   "execution_count": 24,
   "id": "90f3fcfd-e06b-444f-98fa-c6af3c326693",
   "metadata": {},
   "outputs": [
    {
     "data": {
      "text/html": [
       "<div>\n",
       "<style scoped>\n",
       "    .dataframe tbody tr th:only-of-type {\n",
       "        vertical-align: middle;\n",
       "    }\n",
       "\n",
       "    .dataframe tbody tr th {\n",
       "        vertical-align: top;\n",
       "    }\n",
       "\n",
       "    .dataframe thead th {\n",
       "        text-align: right;\n",
       "    }\n",
       "</style>\n",
       "<table border=\"1\" class=\"dataframe\">\n",
       "  <thead>\n",
       "    <tr style=\"text-align: right;\">\n",
       "      <th></th>\n",
       "      <th>Experiment</th>\n",
       "      <th>Recall</th>\n",
       "      <th>Accuracy</th>\n",
       "      <th>Precission</th>\n",
       "      <th>AUC</th>\n",
       "    </tr>\n",
       "  </thead>\n",
       "  <tbody>\n",
       "    <tr>\n",
       "      <th>0</th>\n",
       "      <td>initial model (Random Forest)</td>\n",
       "      <td>54.84%</td>\n",
       "      <td>89.72%</td>\n",
       "      <td>58.64%</td>\n",
       "      <td>93.55%</td>\n",
       "    </tr>\n",
       "    <tr>\n",
       "      <th>1</th>\n",
       "      <td>Feature Selection from Feature Importances</td>\n",
       "      <td>55.2%</td>\n",
       "      <td>89.62%</td>\n",
       "      <td>58.09%</td>\n",
       "      <td>93.42%</td>\n",
       "    </tr>\n",
       "  </tbody>\n",
       "</table>\n",
       "</div>"
      ],
      "text/plain": [
       "                                   Experiment  Recall Accuracy Precission  \\\n",
       "0               initial model (Random Forest)  54.84%   89.72%     58.64%   \n",
       "1  Feature Selection from Feature Importances   55.2%   89.62%     58.09%   \n",
       "\n",
       "      AUC  \n",
       "0  93.55%  \n",
       "1  93.42%  "
      ]
     },
     "execution_count": 24,
     "metadata": {},
     "output_type": "execute_result"
    }
   ],
   "source": [
    "performance_log"
   ]
  },
  {
   "cell_type": "markdown",
   "id": "7ce64e87-f843-437e-81e3-40665d5fd445",
   "metadata": {},
   "source": [
    "### Oversampling SMOTE"
   ]
  },
  {
   "cell_type": "code",
   "execution_count": 25,
   "id": "91607173-382d-4b10-b082-9370bc1701d4",
   "metadata": {},
   "outputs": [],
   "source": [
    "X_train_SMOTE, y_train_SMOTE = over_sampling.SMOTE().fit_resample(X_train,y_train)"
   ]
  },
  {
   "cell_type": "code",
   "execution_count": 26,
   "id": "9070952e-c673-40a4-912a-f56ee8953724",
   "metadata": {},
   "outputs": [
    {
     "name": "stdout",
     "output_type": "stream",
     "text": [
      "Accuracy :85.5%\n",
      "Precission :45.27%\n",
      "Recall :87.42%\n",
      "AUC : 93.43%\n"
     ]
    }
   ],
   "source": [
    "rf = RandomForestClassifier(random_state=42)\n",
    "rf.fit(X_train_SMOTE,y_train_SMOTE)\n",
    "\n",
    "y_pred = rf.predict(X_test)\n",
    "y_pred_proba = rf.predict_proba(X_test)[:,1]\n",
    "    \n",
    "accuracy = metrics.accuracy_score(y_test,y_pred)\n",
    "print(\"Accuracy :\" + str(round(accuracy*100,2)) + '%')\n",
    "precission = metrics.precision_score(y_test,y_pred,pos_label=1)\n",
    "print(\"Precission :\" + str(round(precission*100,2)) + '%')\n",
    "recall = metrics.recall_score(y_test,y_pred,pos_label=1)\n",
    "print(\"Recall :\" + str(round(recall*100,2)) + '%')\n",
    "fpr, tpr, thresholds = metrics.roc_curve(y_test, y_pred_proba, pos_label=1)\n",
    "auc_test = metrics.auc(fpr, tpr)\n",
    "print(\"AUC : \"+str(round(auc_test*100,2))+'%')"
   ]
  },
  {
   "cell_type": "markdown",
   "id": "6e5011cb-5b95-4378-81f3-11a7cda5f5f7",
   "metadata": {},
   "source": [
    "Log Performance"
   ]
  },
  {
   "cell_type": "code",
   "execution_count": 27,
   "id": "f5105fce-c758-4a46-8970-76698bf36c7d",
   "metadata": {},
   "outputs": [
    {
     "name": "stderr",
     "output_type": "stream",
     "text": [
      "C:\\Users\\ASUS\\AppData\\Local\\Temp/ipykernel_15720/1963978351.py:8: FutureWarning: The frame.append method is deprecated and will be removed from pandas in a future version. Use pandas.concat instead.\n",
      "  performance_log = performance_log.append(perf, ignore_index=True)\n"
     ]
    },
    {
     "data": {
      "text/html": [
       "<div>\n",
       "<style scoped>\n",
       "    .dataframe tbody tr th:only-of-type {\n",
       "        vertical-align: middle;\n",
       "    }\n",
       "\n",
       "    .dataframe tbody tr th {\n",
       "        vertical-align: top;\n",
       "    }\n",
       "\n",
       "    .dataframe thead th {\n",
       "        text-align: right;\n",
       "    }\n",
       "</style>\n",
       "<table border=\"1\" class=\"dataframe\">\n",
       "  <thead>\n",
       "    <tr style=\"text-align: right;\">\n",
       "      <th></th>\n",
       "      <th>Experiment</th>\n",
       "      <th>Recall</th>\n",
       "      <th>Accuracy</th>\n",
       "      <th>Precission</th>\n",
       "      <th>AUC</th>\n",
       "    </tr>\n",
       "  </thead>\n",
       "  <tbody>\n",
       "    <tr>\n",
       "      <th>0</th>\n",
       "      <td>initial model (Random Forest)</td>\n",
       "      <td>54.84%</td>\n",
       "      <td>89.72%</td>\n",
       "      <td>58.64%</td>\n",
       "      <td>93.55%</td>\n",
       "    </tr>\n",
       "    <tr>\n",
       "      <th>1</th>\n",
       "      <td>Feature Selection from Feature Importances</td>\n",
       "      <td>55.2%</td>\n",
       "      <td>89.62%</td>\n",
       "      <td>58.09%</td>\n",
       "      <td>93.42%</td>\n",
       "    </tr>\n",
       "    <tr>\n",
       "      <th>2</th>\n",
       "      <td>Oversampling with SMOTE</td>\n",
       "      <td>87.42%</td>\n",
       "      <td>85.5%</td>\n",
       "      <td>45.27%</td>\n",
       "      <td>93.43%</td>\n",
       "    </tr>\n",
       "  </tbody>\n",
       "</table>\n",
       "</div>"
      ],
      "text/plain": [
       "                                   Experiment  Recall Accuracy Precission  \\\n",
       "0               initial model (Random Forest)  54.84%   89.72%     58.64%   \n",
       "1  Feature Selection from Feature Importances   55.2%   89.62%     58.09%   \n",
       "2                     Oversampling with SMOTE  87.42%    85.5%     45.27%   \n",
       "\n",
       "      AUC  \n",
       "0  93.55%  \n",
       "1  93.42%  \n",
       "2  93.43%  "
      ]
     },
     "execution_count": 27,
     "metadata": {},
     "output_type": "execute_result"
    }
   ],
   "source": [
    "perf = {\n",
    "    \"Experiment\": \"Oversampling with SMOTE\",\n",
    "    \"Recall\": str(round(recall*100,2))+'%',\n",
    "    \"Accuracy\": str(round(accuracy*100,2))+'%',\n",
    "    \"Precission\": str(round(precission*100,2))+'%',\n",
    "    \"AUC\" : str(round(auc_test*100,2))+'%'\n",
    "}\n",
    "performance_log = performance_log.append(perf, ignore_index=True)\n",
    "\n",
    "performance_log"
   ]
  },
  {
   "cell_type": "code",
   "execution_count": 28,
   "id": "123decf0-b294-415f-994c-02a216d1838b",
   "metadata": {},
   "outputs": [
    {
     "data": {
      "image/png": "[encoded data removed]",
      "text/plain": [
       "<Figure size 432x288 with 2 Axes>"
      ]
     },
     "metadata": {
      "needs_background": "light"
     },
     "output_type": "display_data"
    }
   ],
   "source": [
    "cm = confusion_matrix(y_test,y_pred)\n",
    "cm_display = metrics.ConfusionMatrixDisplay(confusion_matrix = cm, display_labels = [0,1])\n",
    "\n",
    "cm_display.plot()\n",
    "plt.show()"
   ]
  },
  {
   "cell_type": "markdown",
   "id": "df8f3e90-0119-467f-aea0-f1a780d25d17",
   "metadata": {},
   "source": [
    "__Kesimpulan__ :\n",
    "\n",
    "- Setelah dilakukan beberapa Feature Engineering seperti Feature Selection dan Oversampling SMOTE, Score Recall mengalami kenaikan.\n",
    "- Nilai __False Negative__ mengalami penurunan."
   ]
  },
  {
   "cell_type": "markdown",
   "id": "d6e5c41a-28e6-4024-8eda-2df38a54f191",
   "metadata": {},
   "source": [
    "## Model Evaluation : Apakah model sudah best-fit?"
   ]
  },
  {
   "cell_type": "markdown",
   "id": "957f2fed-0344-49cc-9ea7-8b4c4bb6c1fe",
   "metadata": {},
   "source": [
    "### Melihat Score Train dan Score Test"
   ]
  },
  {
   "cell_type": "code",
   "execution_count": 29,
   "id": "908a2145-d3b1-4f4d-8f80-9ae26f087f8e",
   "metadata": {},
   "outputs": [
    {
     "data": {
      "text/html": [
       "<style>#sk-container-id-2 {color: black;background-color: white;}#sk-container-id-2 pre{padding: 0;}#sk-container-id-2 div.sk-toggleable {background-color: white;}#sk-container-id-2 label.sk-toggleable__label {cursor: pointer;display: block;width: 100%;margin-bottom: 0;padding: 0.3em;box-sizing: border-box;text-align: center;}#sk-container-id-2 label.sk-toggleable__label-arrow:before {content: \"▸\";float: left;margin-right: 0.25em;color: #696969;}#sk-container-id-2 label.sk-toggleable__label-arrow:hover:before {color: black;}#sk-container-id-2 div.sk-estimator:hover label.sk-toggleable__label-arrow:before {color: black;}#sk-container-id-2 div.sk-toggleable__content {max-height: 0;max-width: 0;overflow: hidden;text-align: left;background-color: #f0f8ff;}#sk-container-id-2 div.sk-toggleable__content pre {margin: 0.2em;color: black;border-radius: 0.25em;background-color: #f0f8ff;}#sk-container-id-2 input.sk-toggleable__control:checked~div.sk-toggleable__content {max-height: 200px;max-width: 100%;overflow: auto;}#sk-container-id-2 input.sk-toggleable__control:checked~label.sk-toggleable__label-arrow:before {content: \"▾\";}#sk-container-id-2 div.sk-estimator input.sk-toggleable__control:checked~label.sk-toggleable__label {background-color: #d4ebff;}#sk-container-id-2 div.sk-label input.sk-toggleable__control:checked~label.sk-toggleable__label {background-color: #d4ebff;}#sk-container-id-2 input.sk-hidden--visually {border: 0;clip: rect(1px 1px 1px 1px);clip: rect(1px, 1px, 1px, 1px);height: 1px;margin: -1px;overflow: hidden;padding: 0;position: absolute;width: 1px;}#sk-container-id-2 div.sk-estimator {font-family: monospace;background-color: #f0f8ff;border: 1px dotted black;border-radius: 0.25em;box-sizing: border-box;margin-bottom: 0.5em;}#sk-container-id-2 div.sk-estimator:hover {background-color: #d4ebff;}#sk-container-id-2 div.sk-parallel-item::after {content: \"\";width: 100%;border-bottom: 1px solid gray;flex-grow: 1;}#sk-container-id-2 div.sk-label:hover label.sk-toggleable__label {background-color: #d4ebff;}#sk-container-id-2 div.sk-serial::before {content: \"\";position: absolute;border-left: 1px solid gray;box-sizing: border-box;top: 0;bottom: 0;left: 50%;z-index: 0;}#sk-container-id-2 div.sk-serial {display: flex;flex-direction: column;align-items: center;background-color: white;padding-right: 0.2em;padding-left: 0.2em;position: relative;}#sk-container-id-2 div.sk-item {position: relative;z-index: 1;}#sk-container-id-2 div.sk-parallel {display: flex;align-items: stretch;justify-content: center;background-color: white;position: relative;}#sk-container-id-2 div.sk-item::before, #sk-container-id-2 div.sk-parallel-item::before {content: \"\";position: absolute;border-left: 1px solid gray;box-sizing: border-box;top: 0;bottom: 0;left: 50%;z-index: -1;}#sk-container-id-2 div.sk-parallel-item {display: flex;flex-direction: column;z-index: 1;position: relative;background-color: white;}#sk-container-id-2 div.sk-parallel-item:first-child::after {align-self: flex-end;width: 50%;}#sk-container-id-2 div.sk-parallel-item:last-child::after {align-self: flex-start;width: 50%;}#sk-container-id-2 div.sk-parallel-item:only-child::after {width: 0;}#sk-container-id-2 div.sk-dashed-wrapped {border: 1px dashed gray;margin: 0 0.4em 0.5em 0.4em;box-sizing: border-box;padding-bottom: 0.4em;background-color: white;}#sk-container-id-2 div.sk-label label {font-family: monospace;font-weight: bold;display: inline-block;line-height: 1.2em;}#sk-container-id-2 div.sk-label-container {text-align: center;}#sk-container-id-2 div.sk-container {/* jupyter's `normalize.less` sets `[hidden] { display: none; }` but bootstrap.min.css set `[hidden] { display: none !important; }` so we also need the `!important` here to be able to override the default hidden behavior on the sphinx rendered scikit-learn.org. See: https://github.com/scikit-learn/scikit-learn/issues/21755 */display: inline-block !important;position: relative;}#sk-container-id-2 div.sk-text-repr-fallback {display: none;}</style><div id=\"sk-container-id-2\" class=\"sk-top-container\"><div class=\"sk-text-repr-fallback\"><pre>RandomForestClassifier(random_state=42)</pre><b>In a Jupyter environment, please rerun this cell to show the HTML representation or trust the notebook. <br />On GitHub, the HTML representation is unable to render, please try loading this page with nbviewer.org.</b></div><div class=\"sk-container\" hidden><div class=\"sk-item\"><div class=\"sk-estimator sk-toggleable\"><input class=\"sk-toggleable__control sk-hidden--visually\" id=\"sk-estimator-id-2\" type=\"checkbox\" checked><label for=\"sk-estimator-id-2\" class=\"sk-toggleable__label sk-toggleable__label-arrow\">RandomForestClassifier</label><div class=\"sk-toggleable__content\"><pre>RandomForestClassifier(random_state=42)</pre></div></div></div></div></div>"
      ],
      "text/plain": [
       "RandomForestClassifier(random_state=42)"
      ]
     },
     "execution_count": 29,
     "metadata": {},
     "output_type": "execute_result"
    }
   ],
   "source": [
    "rf = RandomForestClassifier(random_state=42)\n",
    "rf.fit(X_train_SMOTE,y_train_SMOTE)"
   ]
  },
  {
   "cell_type": "code",
   "execution_count": 30,
   "id": "ffb26faf-1438-4929-b0dc-4d2310e48d5a",
   "metadata": {},
   "outputs": [
    {
     "name": "stdout",
     "output_type": "stream",
     "text": [
      "Accuracy Test :85.5%\n",
      "Accuracy Train :95.8%\n",
      "Precission Test :45.27%\n",
      "Precission Train:92.29%\n",
      "Recall Test :87.42%\n",
      "Recall Train :99.96%\n",
      "F1 Test :59.65%\n",
      "F1 Train :95.97%\n",
      "AUC Test : 93.43%\n",
      "AUC Train : 97.13%\n",
      "\n",
      "\n"
     ]
    }
   ],
   "source": [
    "y_pred = rf.predict(X_test)\n",
    "y_pred_proba = rf.predict_proba(X_test)[:,1]\n",
    "y_pred_train = rf.predict(X_train_SMOTE)\n",
    "y_pred_proba_train = rf.predict_proba(X_train_SMOTE)[:,1]\n",
    "    \n",
    "accuracy_test = metrics.accuracy_score(y_test,y_pred)\n",
    "print(\"Accuracy Test :\" + str(round(accuracy_test*100,2)) + '%')\n",
    "accuracy_train = metrics.accuracy_score(y_train_SMOTE,y_pred_train)\n",
    "print(\"Accuracy Train :\" + str(round(accuracy_train*100,2)) + '%')\n",
    "    \n",
    "precission_test = metrics.precision_score(y_test,y_pred,pos_label=1)\n",
    "print(\"Precission Test :\" + str(round(precission_test*100,2)) + '%')\n",
    "precission_train = metrics.precision_score(y_train_SMOTE,y_pred_train,pos_label=1)\n",
    "print(\"Precission Train:\" + str(round(precission_train*100,2)) + '%')\n",
    "\n",
    "recall_test = metrics.recall_score(y_test,y_pred,pos_label=1)\n",
    "print(\"Recall Test :\" + str(round(recall_test*100,2)) + '%')\n",
    "recall_train = metrics.recall_score(y_train_SMOTE,y_pred_train,pos_label=1)\n",
    "print(\"Recall Train :\" + str(round(recall_train*100,2)) + '%')\n",
    "\n",
    "f1_test = metrics.f1_score(y_test,y_pred,pos_label=1)\n",
    "print(\"F1 Test :\" + str(round(f1_test*100,2)) + '%')\n",
    "f1_train = metrics.f1_score(y_train_SMOTE,y_pred_train,pos_label=1)\n",
    "print(\"F1 Train :\" + str(round(f1_train*100,2)) + '%')\n",
    "\n",
    "fpr_test, tpr_test, thresholds_test = metrics.roc_curve(y_test, y_pred_proba, pos_label=1)\n",
    "auc_test = metrics.auc(fpr_test, tpr_test)\n",
    "print(\"AUC Test : \"+str(round(auc_test*100,2))+'%')\n",
    "fpr_train, tpr_train, thresholds_train = metrics.roc_curve(y_train_SMOTE, y_pred_proba_train, pos_label=1)\n",
    "auc_train = metrics.auc(fpr_train, tpr_train)\n",
    "print(\"AUC Train : \"+str(round(auc_train*100,2))+'%')\n",
    "print(\"\\n\")"
   ]
  },
  {
   "cell_type": "markdown",
   "id": "6e094a9a-df85-406d-b9dd-cb84c94a13f3",
   "metadata": {},
   "source": [
    "__Kesimpulan__ :\n",
    "- Terlihat __Score Train > Score Test__ untuk Metric Recall, maka Model masih termasuk __Overfitting__.\n",
    "- Untuk mengatasi Overfitting tersebut perlu dilakukan __Hyperparameter Tuning__."
   ]
  },
  {
   "cell_type": "markdown",
   "id": "d9693805-72ce-4376-8bd2-4016ca753bbe",
   "metadata": {},
   "source": [
    "## Hyper-Paramater Tuning"
   ]
  },
  {
   "cell_type": "markdown",
   "id": "7c49f530-96fb-4186-a6a4-eaff1a91db49",
   "metadata": {},
   "source": [
    "### Hyper-Parameter Tuning dengan RandomizedSearch"
   ]
  },
  {
   "cell_type": "code",
   "execution_count": 31,
   "id": "5fb4e88c-7a7f-4bda-884a-4db89ffbb01b",
   "metadata": {},
   "outputs": [],
   "source": [
    "from sklearn.model_selection import RandomizedSearchCV, GridSearchCV"
   ]
  },
  {
   "cell_type": "code",
   "execution_count": 32,
   "id": "3e330507-9d24-41f6-b528-4196b78d5dab",
   "metadata": {},
   "outputs": [],
   "source": [
    "hyperparams = dict(\n",
    "                        n_estimators = [int(x) for x in np.linspace(10,100,20)],\n",
    "                        min_samples_split = [int(x) for x in np.linspace(2,20,10)],\n",
    "                        min_samples_leaf = [int(x) for x in np.linspace(2,20,10)],\n",
    "                        max_depth = [int(x) for x in np.linspace(2,100,10)]   \n",
    "                    )"
   ]
  },
  {
   "cell_type": "code",
   "execution_count": 33,
   "id": "5f925407-a132-45da-beee-eeb0b8996cdd",
   "metadata": {},
   "outputs": [
    {
     "data": {
      "text/html": [
       "<style>#sk-container-id-3 {color: black;background-color: white;}#sk-container-id-3 pre{padding: 0;}#sk-container-id-3 div.sk-toggleable {background-color: white;}#sk-container-id-3 label.sk-toggleable__label {cursor: pointer;display: block;width: 100%;margin-bottom: 0;padding: 0.3em;box-sizing: border-box;text-align: center;}#sk-container-id-3 label.sk-toggleable__label-arrow:before {content: \"▸\";float: left;margin-right: 0.25em;color: #696969;}#sk-container-id-3 label.sk-toggleable__label-arrow:hover:before {color: black;}#sk-container-id-3 div.sk-estimator:hover label.sk-toggleable__label-arrow:before {color: black;}#sk-container-id-3 div.sk-toggleable__content {max-height: 0;max-width: 0;overflow: hidden;text-align: left;background-color: #f0f8ff;}#sk-container-id-3 div.sk-toggleable__content pre {margin: 0.2em;color: black;border-radius: 0.25em;background-color: #f0f8ff;}#sk-container-id-3 input.sk-toggleable__control:checked~div.sk-toggleable__content {max-height: 200px;max-width: 100%;overflow: auto;}#sk-container-id-3 input.sk-toggleable__control:checked~label.sk-toggleable__label-arrow:before {content: \"▾\";}#sk-container-id-3 div.sk-estimator input.sk-toggleable__control:checked~label.sk-toggleable__label {background-color: #d4ebff;}#sk-container-id-3 div.sk-label input.sk-toggleable__control:checked~label.sk-toggleable__label {background-color: #d4ebff;}#sk-container-id-3 input.sk-hidden--visually {border: 0;clip: rect(1px 1px 1px 1px);clip: rect(1px, 1px, 1px, 1px);height: 1px;margin: -1px;overflow: hidden;padding: 0;position: absolute;width: 1px;}#sk-container-id-3 div.sk-estimator {font-family: monospace;background-color: #f0f8ff;border: 1px dotted black;border-radius: 0.25em;box-sizing: border-box;margin-bottom: 0.5em;}#sk-container-id-3 div.sk-estimator:hover {background-color: #d4ebff;}#sk-container-id-3 div.sk-parallel-item::after {content: \"\";width: 100%;border-bottom: 1px solid gray;flex-grow: 1;}#sk-container-id-3 div.sk-label:hover label.sk-toggleable__label {background-color: #d4ebff;}#sk-container-id-3 div.sk-serial::before {content: \"\";position: absolute;border-left: 1px solid gray;box-sizing: border-box;top: 0;bottom: 0;left: 50%;z-index: 0;}#sk-container-id-3 div.sk-serial {display: flex;flex-direction: column;align-items: center;background-color: white;padding-right: 0.2em;padding-left: 0.2em;position: relative;}#sk-container-id-3 div.sk-item {position: relative;z-index: 1;}#sk-container-id-3 div.sk-parallel {display: flex;align-items: stretch;justify-content: center;background-color: white;position: relative;}#sk-container-id-3 div.sk-item::before, #sk-container-id-3 div.sk-parallel-item::before {content: \"\";position: absolute;border-left: 1px solid gray;box-sizing: border-box;top: 0;bottom: 0;left: 50%;z-index: -1;}#sk-container-id-3 div.sk-parallel-item {display: flex;flex-direction: column;z-index: 1;position: relative;background-color: white;}#sk-container-id-3 div.sk-parallel-item:first-child::after {align-self: flex-end;width: 50%;}#sk-container-id-3 div.sk-parallel-item:last-child::after {align-self: flex-start;width: 50%;}#sk-container-id-3 div.sk-parallel-item:only-child::after {width: 0;}#sk-container-id-3 div.sk-dashed-wrapped {border: 1px dashed gray;margin: 0 0.4em 0.5em 0.4em;box-sizing: border-box;padding-bottom: 0.4em;background-color: white;}#sk-container-id-3 div.sk-label label {font-family: monospace;font-weight: bold;display: inline-block;line-height: 1.2em;}#sk-container-id-3 div.sk-label-container {text-align: center;}#sk-container-id-3 div.sk-container {/* jupyter's `normalize.less` sets `[hidden] { display: none; }` but bootstrap.min.css set `[hidden] { display: none !important; }` so we also need the `!important` here to be able to override the default hidden behavior on the sphinx rendered scikit-learn.org. See: https://github.com/scikit-learn/scikit-learn/issues/21755 */display: inline-block !important;position: relative;}#sk-container-id-3 div.sk-text-repr-fallback {display: none;}</style><div id=\"sk-container-id-3\" class=\"sk-top-container\"><div class=\"sk-text-repr-fallback\"><pre>RandomizedSearchCV(cv=5, estimator=RandomForestClassifier(random_state=42),\n",
       "                   param_distributions={&#x27;max_depth&#x27;: [2, 12, 23, 34, 45, 56, 67,\n",
       "                                                      78, 89, 100],\n",
       "                                        &#x27;min_samples_leaf&#x27;: [2, 4, 6, 8, 10, 12,\n",
       "                                                             14, 16, 18, 20],\n",
       "                                        &#x27;min_samples_split&#x27;: [2, 4, 6, 8, 10,\n",
       "                                                              12, 14, 16, 18,\n",
       "                                                              20],\n",
       "                                        &#x27;n_estimators&#x27;: [10, 14, 19, 24, 28, 33,\n",
       "                                                         38, 43, 47, 52, 57, 62,\n",
       "                                                         66, 71, 76, 81, 85, 90,\n",
       "                                                         95, 100]},\n",
       "                   random_state=42, scoring=&#x27;roc_auc&#x27;)</pre><b>In a Jupyter environment, please rerun this cell to show the HTML representation or trust the notebook. <br />On GitHub, the HTML representation is unable to render, please try loading this page with nbviewer.org.</b></div><div class=\"sk-container\" hidden><div class=\"sk-item sk-dashed-wrapped\"><div class=\"sk-label-container\"><div class=\"sk-label sk-toggleable\"><input class=\"sk-toggleable__control sk-hidden--visually\" id=\"sk-estimator-id-3\" type=\"checkbox\" ><label for=\"sk-estimator-id-3\" class=\"sk-toggleable__label sk-toggleable__label-arrow\">RandomizedSearchCV</label><div class=\"sk-toggleable__content\"><pre>RandomizedSearchCV(cv=5, estimator=RandomForestClassifier(random_state=42),\n",
       "                   param_distributions={&#x27;max_depth&#x27;: [2, 12, 23, 34, 45, 56, 67,\n",
       "                                                      78, 89, 100],\n",
       "                                        &#x27;min_samples_leaf&#x27;: [2, 4, 6, 8, 10, 12,\n",
       "                                                             14, 16, 18, 20],\n",
       "                                        &#x27;min_samples_split&#x27;: [2, 4, 6, 8, 10,\n",
       "                                                              12, 14, 16, 18,\n",
       "                                                              20],\n",
       "                                        &#x27;n_estimators&#x27;: [10, 14, 19, 24, 28, 33,\n",
       "                                                         38, 43, 47, 52, 57, 62,\n",
       "                                                         66, 71, 76, 81, 85, 90,\n",
       "                                                         95, 100]},\n",
       "                   random_state=42, scoring=&#x27;roc_auc&#x27;)</pre></div></div></div><div class=\"sk-parallel\"><div class=\"sk-parallel-item\"><div class=\"sk-item\"><div class=\"sk-label-container\"><div class=\"sk-label sk-toggleable\"><input class=\"sk-toggleable__control sk-hidden--visually\" id=\"sk-estimator-id-4\" type=\"checkbox\" ><label for=\"sk-estimator-id-4\" class=\"sk-toggleable__label sk-toggleable__label-arrow\">estimator: RandomForestClassifier</label><div class=\"sk-toggleable__content\"><pre>RandomForestClassifier(random_state=42)</pre></div></div></div><div class=\"sk-serial\"><div class=\"sk-item\"><div class=\"sk-estimator sk-toggleable\"><input class=\"sk-toggleable__control sk-hidden--visually\" id=\"sk-estimator-id-5\" type=\"checkbox\" ><label for=\"sk-estimator-id-5\" class=\"sk-toggleable__label sk-toggleable__label-arrow\">RandomForestClassifier</label><div class=\"sk-toggleable__content\"><pre>RandomForestClassifier(random_state=42)</pre></div></div></div></div></div></div></div></div></div></div>"
      ],
      "text/plain": [
       "RandomizedSearchCV(cv=5, estimator=RandomForestClassifier(random_state=42),\n",
       "                   param_distributions={'max_depth': [2, 12, 23, 34, 45, 56, 67,\n",
       "                                                      78, 89, 100],\n",
       "                                        'min_samples_leaf': [2, 4, 6, 8, 10, 12,\n",
       "                                                             14, 16, 18, 20],\n",
       "                                        'min_samples_split': [2, 4, 6, 8, 10,\n",
       "                                                              12, 14, 16, 18,\n",
       "                                                              20],\n",
       "                                        'n_estimators': [10, 14, 19, 24, 28, 33,\n",
       "                                                         38, 43, 47, 52, 57, 62,\n",
       "                                                         66, 71, 76, 81, 85, 90,\n",
       "                                                         95, 100]},\n",
       "                   random_state=42, scoring='roc_auc')"
      ]
     },
     "execution_count": 33,
     "metadata": {},
     "output_type": "execute_result"
    }
   ],
   "source": [
    "rf = RandomForestClassifier(random_state=42)\n",
    "rs = RandomizedSearchCV(rf, hyperparams, scoring='roc_auc', random_state=42, cv=5)\n",
    "rs.fit(X_train_SMOTE,y_train_SMOTE)"
   ]
  },
  {
   "cell_type": "code",
   "execution_count": 34,
   "id": "4bdf0879-6ed3-47a8-9a36-f0fca563da88",
   "metadata": {},
   "outputs": [
    {
     "name": "stdout",
     "output_type": "stream",
     "text": [
      "Accuracy Test :86.03%\n",
      "Accuracy Train :92.68%\n",
      "Precission Test :46.28%\n",
      "Precission Train:89.34%\n",
      "Recall Test :86.4%\n",
      "Recall Train :96.92%\n",
      "F1 Test :60.28%\n",
      "F1 Train :92.98%\n",
      "AUC Test : 93.47%\n",
      "AUC Train : 95.9%\n"
     ]
    }
   ],
   "source": [
    "y_pred = rs.predict(X_test)\n",
    "y_pred_proba = rs.predict_proba(X_test)[:,1]\n",
    "y_pred_train = rs.predict(X_train_SMOTE)\n",
    "y_pred_proba_train = rs.predict_proba(X_train_SMOTE)[:,1]\n",
    "    \n",
    "accuracy_test = metrics.accuracy_score(y_test,y_pred)\n",
    "print(\"Accuracy Test :\" + str(round(accuracy_test*100,2)) + '%')\n",
    "accuracy_train = metrics.accuracy_score(y_train_SMOTE,y_pred_train)\n",
    "print(\"Accuracy Train :\" + str(round(accuracy_train*100,2)) + '%')\n",
    "    \n",
    "precission_test = metrics.precision_score(y_test,y_pred,pos_label=1)\n",
    "print(\"Precission Test :\" + str(round(precission_test*100,2)) + '%')\n",
    "precission_train = metrics.precision_score(y_train_SMOTE,y_pred_train,pos_label=1)\n",
    "print(\"Precission Train:\" + str(round(precission_train*100,2)) + '%')\n",
    "\n",
    "recall_test = metrics.recall_score(y_test,y_pred,pos_label=1)\n",
    "print(\"Recall Test :\" + str(round(recall_test*100,2)) + '%')\n",
    "recall_train = metrics.recall_score(y_train_SMOTE,y_pred_train,pos_label=1)\n",
    "print(\"Recall Train :\" + str(round(recall_train*100,2)) + '%')\n",
    "\n",
    "f1_test = metrics.f1_score(y_test,y_pred,pos_label=1)\n",
    "print(\"F1 Test :\" + str(round(f1_test*100,2)) + '%')\n",
    "f1_train = metrics.f1_score(y_train_SMOTE,y_pred_train,pos_label=1)\n",
    "print(\"F1 Train :\" + str(round(f1_train*100,2)) + '%')\n",
    "\n",
    "fpr_test, tpr_test, thresholds_test = metrics.roc_curve(y_test, y_pred_proba, pos_label=1)\n",
    "auc_test = metrics.auc(fpr_test, tpr_test)\n",
    "print(\"AUC Test : \"+str(round(auc_test*100,2))+'%')\n",
    "fpr_train, tpr_train, thresholds_train = metrics.roc_curve(y_train_SMOTE, y_pred_proba_train, pos_label=1)\n",
    "auc_train = metrics.auc(fpr_train, tpr_train)\n",
    "print(\"AUC Train : \"+str(round(auc_train*100,2))+'%')"
   ]
  },
  {
   "cell_type": "code",
   "execution_count": 35,
   "id": "af4c6eea-c14c-414a-b04e-41b19e3ca952",
   "metadata": {},
   "outputs": [
    {
     "name": "stdout",
     "output_type": "stream",
     "text": [
      "n_estimators: 33\n",
      "min_samples_split: 8\n",
      "min_samples_leaf: 4\n",
      "max_depth: 34\n"
     ]
    }
   ],
   "source": [
    "for key, value in hyperparams.items() :\n",
    "        print(key+':', rs.best_estimator_.get_params()[key])"
   ]
  },
  {
   "cell_type": "markdown",
   "id": "586ad630-564d-4ab7-bf4d-2d0c05b59b58",
   "metadata": {},
   "source": [
    "Log Perfromance"
   ]
  },
  {
   "cell_type": "code",
   "execution_count": 36,
   "id": "0882e6b6-7b0a-479b-996f-ebec763b2979",
   "metadata": {},
   "outputs": [
    {
     "name": "stderr",
     "output_type": "stream",
     "text": [
      "C:\\Users\\ASUS\\AppData\\Local\\Temp/ipykernel_15720/315885886.py:8: FutureWarning: The frame.append method is deprecated and will be removed from pandas in a future version. Use pandas.concat instead.\n",
      "  performance_log = performance_log.append(perf, ignore_index=True)\n"
     ]
    },
    {
     "data": {
      "text/html": [
       "<div>\n",
       "<style scoped>\n",
       "    .dataframe tbody tr th:only-of-type {\n",
       "        vertical-align: middle;\n",
       "    }\n",
       "\n",
       "    .dataframe tbody tr th {\n",
       "        vertical-align: top;\n",
       "    }\n",
       "\n",
       "    .dataframe thead th {\n",
       "        text-align: right;\n",
       "    }\n",
       "</style>\n",
       "<table border=\"1\" class=\"dataframe\">\n",
       "  <thead>\n",
       "    <tr style=\"text-align: right;\">\n",
       "      <th></th>\n",
       "      <th>Experiment</th>\n",
       "      <th>Recall</th>\n",
       "      <th>Accuracy</th>\n",
       "      <th>Precission</th>\n",
       "      <th>AUC</th>\n",
       "    </tr>\n",
       "  </thead>\n",
       "  <tbody>\n",
       "    <tr>\n",
       "      <th>0</th>\n",
       "      <td>initial model (Random Forest)</td>\n",
       "      <td>54.84%</td>\n",
       "      <td>89.72%</td>\n",
       "      <td>58.64%</td>\n",
       "      <td>93.55%</td>\n",
       "    </tr>\n",
       "    <tr>\n",
       "      <th>1</th>\n",
       "      <td>Feature Selection from Feature Importances</td>\n",
       "      <td>55.2%</td>\n",
       "      <td>89.62%</td>\n",
       "      <td>58.09%</td>\n",
       "      <td>93.42%</td>\n",
       "    </tr>\n",
       "    <tr>\n",
       "      <th>2</th>\n",
       "      <td>Oversampling with SMOTE</td>\n",
       "      <td>87.42%</td>\n",
       "      <td>85.5%</td>\n",
       "      <td>45.27%</td>\n",
       "      <td>93.43%</td>\n",
       "    </tr>\n",
       "    <tr>\n",
       "      <th>3</th>\n",
       "      <td>Hyperparameters Tuning using Randomized Search</td>\n",
       "      <td>86.4%</td>\n",
       "      <td>86.03%</td>\n",
       "      <td>46.28%</td>\n",
       "      <td>93.47%</td>\n",
       "    </tr>\n",
       "  </tbody>\n",
       "</table>\n",
       "</div>"
      ],
      "text/plain": [
       "                                       Experiment  Recall Accuracy Precission  \\\n",
       "0                   initial model (Random Forest)  54.84%   89.72%     58.64%   \n",
       "1      Feature Selection from Feature Importances   55.2%   89.62%     58.09%   \n",
       "2                         Oversampling with SMOTE  87.42%    85.5%     45.27%   \n",
       "3  Hyperparameters Tuning using Randomized Search   86.4%   86.03%     46.28%   \n",
       "\n",
       "      AUC  \n",
       "0  93.55%  \n",
       "1  93.42%  \n",
       "2  93.43%  \n",
       "3  93.47%  "
      ]
     },
     "execution_count": 36,
     "metadata": {},
     "output_type": "execute_result"
    }
   ],
   "source": [
    "perf = {\n",
    "    \"Experiment\": \"Hyperparameters Tuning using Randomized Search\",\n",
    "    \"Recall\": str(round(recall_test*100,2))+'%',\n",
    "    \"Accuracy\": str(round(accuracy_test*100,2))+'%',\n",
    "    \"Precission\": str(round(precission_test*100,2))+'%',\n",
    "    \"AUC\" : str(round(auc_test*100,2))+'%'\n",
    "}\n",
    "performance_log = performance_log.append(perf, ignore_index=True)\n",
    "\n",
    "performance_log"
   ]
  },
  {
   "cell_type": "markdown",
   "id": "667bc20a-4e12-4800-bc02-fd5840bc3427",
   "metadata": {},
   "source": [
    "### Find The Best Parameters"
   ]
  },
  {
   "cell_type": "markdown",
   "id": "0ffe5c37-53eb-403d-82d4-43182aa0c941",
   "metadata": {},
   "source": [
    "#### Mencari Parameter n_estimators"
   ]
  },
  {
   "cell_type": "code",
   "execution_count": 37,
   "id": "67748b31-5bcf-46e5-8010-01aaf69d6f25",
   "metadata": {},
   "outputs": [
    {
     "name": "stdout",
     "output_type": "stream",
     "text": [
      "param value: 10; train: 0.995358008727978; test: 0.8652788264480639\n",
      "param value: 12; train: 0.9969419751090998; test: 0.8645237838420883\n",
      "param value: 14; train: 0.9976466785194763; test: 0.8639844676949627\n",
      "param value: 16; train: 0.9981832875383869; test: 0.8700248085427678\n",
      "param value: 18; train: 0.9984806853079037; test: 0.8688383130190918\n",
      "param value: 20; train: 0.9988233392597382; test: 0.867975407183691\n",
      "param value: 22; train: 0.9988491999353483; test: 0.8680832704131162\n",
      "param value: 24; train: 0.9990884111847422; test: 0.8692697659367922\n",
      "param value: 26; train: 0.9991207370292549; test: 0.8723977995901198\n",
      "param value: 28; train: 0.9993534831097463; test: 0.8734764318843706\n",
      "param value: 31; train: 0.9994569258121868; test: 0.8772516449142488\n",
      "param value: 33; train: 0.9994763213188944; test: 0.8760651493905728\n",
      "param value: 35; train: 0.9993793437853564; test: 0.8760651493905728\n",
      "param value: 37; train: 0.9995151123323097; test: 0.8757415597022975\n",
      "param value: 39; train: 0.9995345078390173; test: 0.8768201919965484\n",
      "param value: 41; train: 0.9995151123323097; test: 0.8768201919965484\n",
      "param value: 43; train: 0.9995603685146275; test: 0.8772516449142488\n",
      "param value: 45; train: 0.9995603685146275; test: 0.8764966023082731\n",
      "param value: 47; train: 0.9995474381768223; test: 0.8743393377197713\n",
      "param value: 50; train: 0.9995603685146275; test: 0.8722899363606946\n"
     ]
    },
    {
     "data": {
      "image/png": "[encoded data removed]",
      "text/plain": [
       "<Figure size 432x288 with 1 Axes>"
      ]
     },
     "metadata": {
      "needs_background": "light"
     },
     "output_type": "display_data"
    }
   ],
   "source": [
    "param_values = [int(x) for x in np.linspace(10,50,20)]\n",
    "train_scores = []\n",
    "test_scores = []\n",
    "\n",
    "for c in param_values:\n",
    "    model = RandomForestClassifier(n_estimators=c)\n",
    "    model.fit(X_train_SMOTE, y_train_SMOTE)\n",
    "\n",
    "    # eval on train\n",
    "    y_pred_train = model.predict(X_train_SMOTE)\n",
    "    train_rec = metrics.recall_score(y_train_SMOTE, y_pred_train,pos_label=1)\n",
    "    train_scores.append(train_rec)\n",
    "\n",
    "    # eval on test\n",
    "    y_pred = model.predict(X_test)\n",
    "    test_rec = metrics.recall_score(y_test, y_pred,pos_label=1)\n",
    "    test_scores.append(test_rec)\n",
    "\n",
    "    print('param value: ' + str(c) + '; train: ' + str(train_rec) + '; test: '+ str(test_rec))\n",
    "\n",
    "plt.plot(param_values, train_scores, label='Train')\n",
    "plt.plot(param_values, test_scores, label='Test')\n",
    "plt.legend()\n",
    "plt.show()"
   ]
  },
  {
   "cell_type": "markdown",
   "id": "0c1fe994-b417-4e77-a5e3-28820f615ac9",
   "metadata": {},
   "source": [
    "#### Mencari Parameter min_samples_split"
   ]
  },
  {
   "cell_type": "code",
   "execution_count": 38,
   "id": "5c02289a-61a5-4c7b-9cf5-cf05203e4bbe",
   "metadata": {},
   "outputs": [
    {
     "name": "stdout",
     "output_type": "stream",
     "text": [
      "param value: 2; train: 0.9994504606432844; test: 0.8761730126199978\n",
      "param value: 4; train: 0.9973169549054469; test: 0.8748786538668968\n",
      "param value: 6; train: 0.9960045256182318; test: 0.8778988242907992\n",
      "param value: 8; train: 0.995021819945046; test: 0.8813504476324021\n",
      "param value: 10; train: 0.994924842411508; test: 0.8804875417970014\n",
      "param value: 12; train: 0.9944722805883304; test: 0.882321216697228\n",
      "param value: 14; train: 0.9940843704541781; test: 0.8822133534678028\n",
      "param value: 16; train: 0.9925262647486666; test: 0.882429079926653\n",
      "param value: 18; train: 0.988563116211411; test: 0.8759572861611477\n",
      "param value: 20; train: 0.9851753677064813; test: 0.871534893754719\n",
      "param value: 22; train: 0.9795054145789559; test: 0.8670046381188653\n",
      "param value: 24; train: 0.9737061580733797; test: 0.8626901089418617\n",
      "param value: 26; train: 0.9710619039922418; test: 0.8602092546650847\n",
      "param value: 28; train: 0.9671957329885243; test: 0.8562183151763564\n",
      "param value: 30; train: 0.9638209148213998; test: 0.8555711357998058\n"
     ]
    },
    {
     "data": {
      "image/png": "[encoded data removed]",
      "text/plain": [
       "<Figure size 432x288 with 1 Axes>"
      ]
     },
     "metadata": {
      "needs_background": "light"
     },
     "output_type": "display_data"
    }
   ],
   "source": [
    "param_values = [int(x) for x in np.linspace(2,30,15)]\n",
    "train_scores = []\n",
    "test_scores = []\n",
    "\n",
    "for c in param_values:\n",
    "    model = RandomForestClassifier(n_estimators=31,min_samples_split=c)\n",
    "    model.fit(X_train_SMOTE, y_train_SMOTE)\n",
    "\n",
    "    # eval on train\n",
    "    y_pred_train = model.predict(X_train_SMOTE)\n",
    "    train_rec = metrics.recall_score(y_train_SMOTE, y_pred_train,pos_label=1)\n",
    "    train_scores.append(train_rec)\n",
    "\n",
    "    # eval on test\n",
    "    y_pred = model.predict(X_test)\n",
    "    test_rec = metrics.recall_score(y_test, y_pred,pos_label=1)\n",
    "    test_scores.append(test_rec)\n",
    "\n",
    "    print('param value: ' + str(c) + '; train: ' + str(train_rec) + '; test: '+ str(test_rec))\n",
    "\n",
    "plt.plot(param_values, train_scores, label='Train')\n",
    "plt.plot(param_values, test_scores, label='Test')\n",
    "plt.legend()\n",
    "plt.show()"
   ]
  },
  {
   "cell_type": "markdown",
   "id": "5bae78d5-5964-4450-b0d3-92ff0f8253a5",
   "metadata": {},
   "source": [
    "#### Mencari Parameter min_samples_leaf"
   ]
  },
  {
   "cell_type": "code",
   "execution_count": 40,
   "id": "c5382d18-ba58-495f-935f-de309b7324ba",
   "metadata": {},
   "outputs": [
    {
     "name": "stdout",
     "output_type": "stream",
     "text": [
      "param value: 2; train: 0.9831711653466947; test: 0.8757415597022975\n",
      "param value: 4; train: 0.968850816227574; test: 0.8632294250889871\n",
      "param value: 7; train: 0.9471343138839502; test: 0.8500701110991263\n",
      "param value: 10; train: 0.9298917084208825; test: 0.843598317333621\n",
      "param value: 13; train: 0.9159915952804267; test: 0.836263617732715\n",
      "param value: 16; train: 0.9036366575076774; test: 0.8294682342789343\n",
      "param value: 18; train: 0.8971520930984322; test: 0.8259087477079063\n",
      "param value: 21; train: 0.8864393082269274; test: 0.8205155862366519\n",
      "param value: 24; train: 0.8774397931145951; test: 0.8180347319598749\n",
      "param value: 27; train: 0.8732438984968482; test: 0.815769604141948\n",
      "param value: 30; train: 0.8690415387101988; test: 0.8143673821594218\n"
     ]
    },
    {
     "data": {
      "image/png": "[encoded data removed]",
      "text/plain": [
       "<Figure size 432x288 with 1 Axes>"
      ]
     },
     "metadata": {
      "needs_background": "light"
     },
     "output_type": "display_data"
    }
   ],
   "source": [
    "param_values = [int(x) for x in np.linspace(2,30,11)]\n",
    "train_scores = []\n",
    "test_scores = []\n",
    "\n",
    "for c in param_values:\n",
    "    model = RandomForestClassifier(n_estimators=31,min_samples_split=16,min_samples_leaf=c)\n",
    "    model.fit(X_train_SMOTE, y_train_SMOTE)\n",
    "\n",
    "    # eval on train\n",
    "    y_pred_train = model.predict(X_train_SMOTE)\n",
    "    train_rec = metrics.recall_score(y_train_SMOTE, y_pred_train,pos_label=1)\n",
    "    train_scores.append(train_rec)\n",
    "\n",
    "    # eval on test\n",
    "    y_pred = model.predict(X_test)\n",
    "    test_rec = metrics.recall_score(y_test, y_pred,pos_label=1)\n",
    "    test_scores.append(test_rec)\n",
    "\n",
    "    print('param value: ' + str(c) + '; train: ' + str(train_rec) + '; test: '+ str(test_rec))\n",
    "\n",
    "plt.plot(param_values, train_scores, label='Train')\n",
    "plt.plot(param_values, test_scores, label='Test')\n",
    "plt.legend()\n",
    "plt.show()"
   ]
  },
  {
   "cell_type": "markdown",
   "id": "e49892c6-6934-4417-8900-f0847b234c83",
   "metadata": {},
   "source": [
    "#### Mencari Parameter max_depth"
   ]
  },
  {
   "cell_type": "code",
   "execution_count": 43,
   "id": "2cc253e5-fdd2-4a59-8011-fa8596b96eb5",
   "metadata": {},
   "outputs": [
    {
     "name": "stdout",
     "output_type": "stream",
     "text": [
      "param value: 2; train: 0.6504347826086957; test: 0.6101822888577284\n",
      "param value: 5; train: 0.6997381606594473; test: 0.6539747600043145\n",
      "param value: 8; train: 0.783487958622919; test: 0.7284003883076259\n",
      "param value: 12; train: 0.8791918538871828; test: 0.8130730234063208\n",
      "param value: 15; train: 0.9010182641021497; test: 0.8293603710495092\n",
      "param value: 19; train: 0.9153062873767577; test: 0.8374501132563908\n",
      "param value: 22; train: 0.931798933247131; test: 0.842411821809945\n",
      "param value: 26; train: 0.940901891061904; test: 0.8450005393161472\n",
      "param value: 29; train: 0.9451301115241636; test: 0.8496386581814259\n",
      "param value: 32; train: 0.9463390981089381; test: 0.8507172904756768\n",
      "param value: 36; train: 0.9483756263132375; test: 0.8516880595405026\n",
      "param value: 39; train: 0.946746403749798; test: 0.8517959227699278\n",
      "param value: 43; train: 0.9461903992241797; test: 0.8483442994283249\n",
      "param value: 46; train: 0.947360594795539; test: 0.8499622478697012\n",
      "param value: 50; train: 0.9457313722320996; test: 0.8522273756876281\n"
     ]
    },
    {
     "data": {
      "image/png": "[encoded data removed]",
      "text/plain": [
       "<Figure size 432x288 with 1 Axes>"
      ]
     },
     "metadata": {
      "needs_background": "light"
     },
     "output_type": "display_data"
    }
   ],
   "source": [
    "param_values = [int(x) for x in np.linspace(2,50,15)]\n",
    "train_scores = []\n",
    "test_scores = []\n",
    "\n",
    "for c in param_values:\n",
    "    model = RandomForestClassifier(n_estimators=31,min_samples_split=16,min_samples_leaf=7,max_depth=c)\n",
    "    model.fit(X_train_SMOTE, y_train_SMOTE)\n",
    "\n",
    "    # eval on train\n",
    "    y_pred_train = model.predict(X_train_SMOTE)\n",
    "    train_rec = metrics.recall_score(y_train_SMOTE, y_pred_train,pos_label=1)\n",
    "    train_scores.append(train_rec)\n",
    "\n",
    "    # eval on test\n",
    "    y_pred = model.predict(X_test)\n",
    "    test_rec = metrics.recall_score(y_test, y_pred,pos_label=1)\n",
    "    test_scores.append(test_rec)\n",
    "\n",
    "    print('param value: ' + str(c) + '; train: ' + str(train_rec) + '; test: '+ str(test_rec))\n",
    "\n",
    "plt.plot(param_values, train_scores, label='Train')\n",
    "plt.plot(param_values, test_scores, label='Test')\n",
    "plt.legend()\n",
    "plt.show()"
   ]
  },
  {
   "cell_type": "code",
   "execution_count": 44,
   "id": "0efe133d-1e50-4c78-aa99-a68d5cb8a9ef",
   "metadata": {},
   "outputs": [
    {
     "data": {
      "text/html": [
       "<style>#sk-container-id-4 {color: black;background-color: white;}#sk-container-id-4 pre{padding: 0;}#sk-container-id-4 div.sk-toggleable {background-color: white;}#sk-container-id-4 label.sk-toggleable__label {cursor: pointer;display: block;width: 100%;margin-bottom: 0;padding: 0.3em;box-sizing: border-box;text-align: center;}#sk-container-id-4 label.sk-toggleable__label-arrow:before {content: \"▸\";float: left;margin-right: 0.25em;color: #696969;}#sk-container-id-4 label.sk-toggleable__label-arrow:hover:before {color: black;}#sk-container-id-4 div.sk-estimator:hover label.sk-toggleable__label-arrow:before {color: black;}#sk-container-id-4 div.sk-toggleable__content {max-height: 0;max-width: 0;overflow: hidden;text-align: left;background-color: #f0f8ff;}#sk-container-id-4 div.sk-toggleable__content pre {margin: 0.2em;color: black;border-radius: 0.25em;background-color: #f0f8ff;}#sk-container-id-4 input.sk-toggleable__control:checked~div.sk-toggleable__content {max-height: 200px;max-width: 100%;overflow: auto;}#sk-container-id-4 input.sk-toggleable__control:checked~label.sk-toggleable__label-arrow:before {content: \"▾\";}#sk-container-id-4 div.sk-estimator input.sk-toggleable__control:checked~label.sk-toggleable__label {background-color: #d4ebff;}#sk-container-id-4 div.sk-label input.sk-toggleable__control:checked~label.sk-toggleable__label {background-color: #d4ebff;}#sk-container-id-4 input.sk-hidden--visually {border: 0;clip: rect(1px 1px 1px 1px);clip: rect(1px, 1px, 1px, 1px);height: 1px;margin: -1px;overflow: hidden;padding: 0;position: absolute;width: 1px;}#sk-container-id-4 div.sk-estimator {font-family: monospace;background-color: #f0f8ff;border: 1px dotted black;border-radius: 0.25em;box-sizing: border-box;margin-bottom: 0.5em;}#sk-container-id-4 div.sk-estimator:hover {background-color: #d4ebff;}#sk-container-id-4 div.sk-parallel-item::after {content: \"\";width: 100%;border-bottom: 1px solid gray;flex-grow: 1;}#sk-container-id-4 div.sk-label:hover label.sk-toggleable__label {background-color: #d4ebff;}#sk-container-id-4 div.sk-serial::before {content: \"\";position: absolute;border-left: 1px solid gray;box-sizing: border-box;top: 0;bottom: 0;left: 50%;z-index: 0;}#sk-container-id-4 div.sk-serial {display: flex;flex-direction: column;align-items: center;background-color: white;padding-right: 0.2em;padding-left: 0.2em;position: relative;}#sk-container-id-4 div.sk-item {position: relative;z-index: 1;}#sk-container-id-4 div.sk-parallel {display: flex;align-items: stretch;justify-content: center;background-color: white;position: relative;}#sk-container-id-4 div.sk-item::before, #sk-container-id-4 div.sk-parallel-item::before {content: \"\";position: absolute;border-left: 1px solid gray;box-sizing: border-box;top: 0;bottom: 0;left: 50%;z-index: -1;}#sk-container-id-4 div.sk-parallel-item {display: flex;flex-direction: column;z-index: 1;position: relative;background-color: white;}#sk-container-id-4 div.sk-parallel-item:first-child::after {align-self: flex-end;width: 50%;}#sk-container-id-4 div.sk-parallel-item:last-child::after {align-self: flex-start;width: 50%;}#sk-container-id-4 div.sk-parallel-item:only-child::after {width: 0;}#sk-container-id-4 div.sk-dashed-wrapped {border: 1px dashed gray;margin: 0 0.4em 0.5em 0.4em;box-sizing: border-box;padding-bottom: 0.4em;background-color: white;}#sk-container-id-4 div.sk-label label {font-family: monospace;font-weight: bold;display: inline-block;line-height: 1.2em;}#sk-container-id-4 div.sk-label-container {text-align: center;}#sk-container-id-4 div.sk-container {/* jupyter's `normalize.less` sets `[hidden] { display: none; }` but bootstrap.min.css set `[hidden] { display: none !important; }` so we also need the `!important` here to be able to override the default hidden behavior on the sphinx rendered scikit-learn.org. See: https://github.com/scikit-learn/scikit-learn/issues/21755 */display: inline-block !important;position: relative;}#sk-container-id-4 div.sk-text-repr-fallback {display: none;}</style><div id=\"sk-container-id-4\" class=\"sk-top-container\"><div class=\"sk-text-repr-fallback\"><pre>RandomForestClassifier(max_depth=15, min_samples_leaf=7, min_samples_split=16,\n",
       "                       n_estimators=31, random_state=42)</pre><b>In a Jupyter environment, please rerun this cell to show the HTML representation or trust the notebook. <br />On GitHub, the HTML representation is unable to render, please try loading this page with nbviewer.org.</b></div><div class=\"sk-container\" hidden><div class=\"sk-item\"><div class=\"sk-estimator sk-toggleable\"><input class=\"sk-toggleable__control sk-hidden--visually\" id=\"sk-estimator-id-6\" type=\"checkbox\" checked><label for=\"sk-estimator-id-6\" class=\"sk-toggleable__label sk-toggleable__label-arrow\">RandomForestClassifier</label><div class=\"sk-toggleable__content\"><pre>RandomForestClassifier(max_depth=15, min_samples_leaf=7, min_samples_split=16,\n",
       "                       n_estimators=31, random_state=42)</pre></div></div></div></div></div>"
      ],
      "text/plain": [
       "RandomForestClassifier(max_depth=15, min_samples_leaf=7, min_samples_split=16,\n",
       "                       n_estimators=31, random_state=42)"
      ]
     },
     "execution_count": 44,
     "metadata": {},
     "output_type": "execute_result"
    }
   ],
   "source": [
    "rf = RandomForestClassifier(n_estimators = 31, max_depth = 15, min_samples_split = 16, min_samples_leaf = 7, random_state=42)\n",
    "rf.fit(X_train_SMOTE,y_train_SMOTE)"
   ]
  },
  {
   "cell_type": "code",
   "execution_count": 45,
   "id": "928e1374-e767-453a-8dcd-c346266546f4",
   "metadata": {},
   "outputs": [
    {
     "name": "stdout",
     "output_type": "stream",
     "text": [
      "Accuracy Test :77.53%\n",
      "Accuracy Train :83.96%\n",
      "Precission Test :33.33%\n",
      "Precission Train:80.27%\n",
      "Recall Test :83.25%\n",
      "Recall Train :90.06%\n",
      "F1 Test :47.61%\n",
      "F1 Train :84.88%\n",
      "AUC Test : 87.49%\n",
      "AUC Train : 91.62%\n",
      "\n",
      "\n"
     ]
    }
   ],
   "source": [
    "y_pred = rf.predict(X_test)\n",
    "y_pred_proba = rf.predict_proba(X_test)[:,1]\n",
    "y_pred_train = rf.predict(X_train_SMOTE)\n",
    "y_pred_proba_train = rf.predict_proba(X_train_SMOTE)[:,1]\n",
    "    \n",
    "accuracy_test = metrics.accuracy_score(y_test,y_pred)\n",
    "print(\"Accuracy Test :\" + str(round(accuracy_test*100,2)) + '%')\n",
    "accuracy_train = metrics.accuracy_score(y_train_SMOTE,y_pred_train)\n",
    "print(\"Accuracy Train :\" + str(round(accuracy_train*100,2)) + '%')\n",
    "    \n",
    "precission_test = metrics.precision_score(y_test,y_pred,pos_label=1)\n",
    "print(\"Precission Test :\" + str(round(precission_test*100,2)) + '%')\n",
    "precission_train = metrics.precision_score(y_train_SMOTE,y_pred_train,pos_label=1)\n",
    "print(\"Precission Train:\" + str(round(precission_train*100,2)) + '%')\n",
    "\n",
    "recall_test = metrics.recall_score(y_test,y_pred,pos_label=1)\n",
    "print(\"Recall Test :\" + str(round(recall_test*100,2)) + '%')\n",
    "recall_train = metrics.recall_score(y_train_SMOTE,y_pred_train,pos_label=1)\n",
    "print(\"Recall Train :\" + str(round(recall_train*100,2)) + '%')\n",
    "\n",
    "f1_test = metrics.f1_score(y_test,y_pred,pos_label=1)\n",
    "print(\"F1 Test :\" + str(round(f1_test*100,2)) + '%')\n",
    "f1_train = metrics.f1_score(y_train_SMOTE,y_pred_train,pos_label=1)\n",
    "print(\"F1 Train :\" + str(round(f1_train*100,2)) + '%')\n",
    "\n",
    "fpr_test, tpr_test, thresholds_test = metrics.roc_curve(y_test, y_pred_proba, pos_label=1)\n",
    "auc_test = metrics.auc(fpr_test, tpr_test)\n",
    "print(\"AUC Test : \"+str(round(auc_test*100,2))+'%')\n",
    "fpr_train, tpr_train, thresholds_train = metrics.roc_curve(y_train_SMOTE, y_pred_proba_train, pos_label=1)\n",
    "auc_train = metrics.auc(fpr_train, tpr_train)\n",
    "print(\"AUC Train : \"+str(round(auc_train*100,2))+'%')\n",
    "print(\"\\n\")"
   ]
  },
  {
   "cell_type": "code",
   "execution_count": 46,
   "id": "24bc73af-9a96-4f37-848c-d8a460b5a8f9",
   "metadata": {},
   "outputs": [
    {
     "name": "stderr",
     "output_type": "stream",
     "text": [
      "C:\\Users\\ASUS\\AppData\\Local\\Temp/ipykernel_15720/3423303514.py:8: FutureWarning: The frame.append method is deprecated and will be removed from pandas in a future version. Use pandas.concat instead.\n",
      "  performance_log = performance_log.append(perf, ignore_index=True)\n"
     ]
    },
    {
     "data": {
      "text/html": [
       "<div>\n",
       "<style scoped>\n",
       "    .dataframe tbody tr th:only-of-type {\n",
       "        vertical-align: middle;\n",
       "    }\n",
       "\n",
       "    .dataframe tbody tr th {\n",
       "        vertical-align: top;\n",
       "    }\n",
       "\n",
       "    .dataframe thead th {\n",
       "        text-align: right;\n",
       "    }\n",
       "</style>\n",
       "<table border=\"1\" class=\"dataframe\">\n",
       "  <thead>\n",
       "    <tr style=\"text-align: right;\">\n",
       "      <th></th>\n",
       "      <th>Experiment</th>\n",
       "      <th>Recall</th>\n",
       "      <th>Accuracy</th>\n",
       "      <th>Precission</th>\n",
       "      <th>AUC</th>\n",
       "    </tr>\n",
       "  </thead>\n",
       "  <tbody>\n",
       "    <tr>\n",
       "      <th>0</th>\n",
       "      <td>initial model (Random Forest)</td>\n",
       "      <td>54.84%</td>\n",
       "      <td>89.72%</td>\n",
       "      <td>58.64%</td>\n",
       "      <td>93.55%</td>\n",
       "    </tr>\n",
       "    <tr>\n",
       "      <th>1</th>\n",
       "      <td>Feature Selection from Feature Importances</td>\n",
       "      <td>55.2%</td>\n",
       "      <td>89.62%</td>\n",
       "      <td>58.09%</td>\n",
       "      <td>93.42%</td>\n",
       "    </tr>\n",
       "    <tr>\n",
       "      <th>2</th>\n",
       "      <td>Oversampling with SMOTE</td>\n",
       "      <td>87.42%</td>\n",
       "      <td>85.5%</td>\n",
       "      <td>45.27%</td>\n",
       "      <td>93.43%</td>\n",
       "    </tr>\n",
       "    <tr>\n",
       "      <th>3</th>\n",
       "      <td>Hyperparameters Tuning using Randomized Search</td>\n",
       "      <td>86.4%</td>\n",
       "      <td>86.03%</td>\n",
       "      <td>46.28%</td>\n",
       "      <td>93.47%</td>\n",
       "    </tr>\n",
       "    <tr>\n",
       "      <th>4</th>\n",
       "      <td>Find the best parameters</td>\n",
       "      <td>83.25%</td>\n",
       "      <td>77.53%</td>\n",
       "      <td>33.33%</td>\n",
       "      <td>87.49%</td>\n",
       "    </tr>\n",
       "  </tbody>\n",
       "</table>\n",
       "</div>"
      ],
      "text/plain": [
       "                                       Experiment  Recall Accuracy Precission  \\\n",
       "0                   initial model (Random Forest)  54.84%   89.72%     58.64%   \n",
       "1      Feature Selection from Feature Importances   55.2%   89.62%     58.09%   \n",
       "2                         Oversampling with SMOTE  87.42%    85.5%     45.27%   \n",
       "3  Hyperparameters Tuning using Randomized Search   86.4%   86.03%     46.28%   \n",
       "4                        Find the best parameters  83.25%   77.53%     33.33%   \n",
       "\n",
       "      AUC  \n",
       "0  93.55%  \n",
       "1  93.42%  \n",
       "2  93.43%  \n",
       "3  93.47%  \n",
       "4  87.49%  "
      ]
     },
     "execution_count": 46,
     "metadata": {},
     "output_type": "execute_result"
    }
   ],
   "source": [
    "perf = {\n",
    "    \"Experiment\": \"Find the best parameters\",\n",
    "    \"Recall\": str(round(recall_test*100,2))+'%',\n",
    "    \"Accuracy\": str(round(accuracy_test*100,2))+'%',\n",
    "    \"Precission\": str(round(precission_test*100,2))+'%',\n",
    "    \"AUC\" : str(round(auc_test*100,2))+'%'\n",
    "}\n",
    "performance_log = performance_log.append(perf, ignore_index=True)\n",
    "\n",
    "performance_log"
   ]
  }
 ],
 "metadata": {
  "kernelspec": {
   "display_name": "Python 3 (ipykernel)",
   "language": "python",
   "name": "python3"
  },
  "language_info": {
   "codemirror_mode": {
    "name": "ipython",
    "version": 3
   },
   "file_extension": ".py",
   "mimetype": "text/x-python",
   "name": "python",
   "nbconvert_exporter": "python",
   "pygments_lexer": "ipython3",
   "version": "3.9.7"
  }
 },
 "nbformat": 4,
 "nbformat_minor": 5
}
